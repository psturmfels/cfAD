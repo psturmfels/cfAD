{
 "cells": [
  {
   "cell_type": "code",
   "execution_count": 1,
   "metadata": {},
   "outputs": [
    {
     "name": "stderr",
     "output_type": "stream",
     "text": [
      "Loading required package: Matrix\n",
      "Loading required package: grpreg\n",
      "\n",
      "Attaching package: ‘MASS’\n",
      "\n",
      "The following object is masked from ‘package:grpregOverlap’:\n",
      "\n",
      "    select\n",
      "\n",
      "The following object is masked from ‘package:grpreg’:\n",
      "\n",
      "    select\n",
      "\n",
      "Loading required package: foreach\n",
      "Loaded glmnet 2.0-16\n",
      "\n"
     ]
    }
   ],
   "source": [
    "library('SGL')\n",
    "library('grpregOverlap')\n",
    "library('MASS')\n",
    "library('glmnet')\n",
    "library('parallel')"
   ]
  },
  {
   "cell_type": "code",
   "execution_count": 3,
   "metadata": {},
   "outputs": [],
   "source": [
    "df <- read.csv('../data/totalDataDF.csv', header=TRUE)"
   ]
  },
  {
   "cell_type": "code",
   "execution_count": 4,
   "metadata": {},
   "outputs": [],
   "source": [
    "binaryPathwayDF <- read.delim('../data/pathways.tsv', header=TRUE)"
   ]
  },
  {
   "cell_type": "code",
   "execution_count": 16,
   "metadata": {},
   "outputs": [],
   "source": [
    "rownames(df) <- df$PCG"
   ]
  },
  {
   "cell_type": "code",
   "execution_count": 36,
   "metadata": {},
   "outputs": [],
   "source": [
    "binaryPathwayDF$Genes <- unlist(lapply(binaryPathwayDF$Genes, as.character))"
   ]
  },
  {
   "cell_type": "code",
   "execution_count": 40,
   "metadata": {},
   "outputs": [
    {
     "data": {
      "text/html": [
       "<table>\n",
       "<thead><tr><th scope=col>Genes</th><th scope=col>REACTOME_GLYCOGEN_BREAKDOWN_GLYCOGENOLYSIS</th><th scope=col>REACTOME_TRANSLATION</th><th scope=col>REACTOME_PYRIMIDINE_CATABOLISM</th><th scope=col>REACTOME_RNA_POL_III_TRANSCRIPTION_INITIATION_FROM_TYPE_2_PROMOTER</th><th scope=col>REACTOME_INHIBITION_OF_THE_PROTEOLYTIC_ACTIVITY_OF_APC_C_REQUIRED_FOR_THE_ONSET_OF_ANAPHASE_BY_MITOTIC_SPINDLE_CHECKPOINT_COMPONENTS</th><th scope=col>REACTOME_PYRUVATE_METABOLISM_AND_CITRIC_ACID_TCA_CYCLE</th><th scope=col>REACTOME_EXTRINSIC_PATHWAY_FOR_APOPTOSIS</th><th scope=col>REACTOME_PTM_GAMMA_CARBOXYLATION_HYPUSINE_FORMATION_AND_ARYLSULFATASE_ACTIVATION</th><th scope=col>REACTOME_APOPTOTIC_CLEAVAGE_OF_CELLULAR_PROTEINS</th><th scope=col>⋯</th><th scope=col>REACTOME_DIGESTION_OF_DIETARY_CARBOHYDRATE</th><th scope=col>REACTOME_FGFR1_LIGAND_BINDING_AND_ACTIVATION</th><th scope=col>REACTOME_GAP_JUNCTION_ASSEMBLY</th><th scope=col>REACTOME_SYNTHESIS_OF_GLYCOSYLPHOSPHATIDYLINOSITOL_GPI</th><th scope=col>REACTOME_RNA_POL_I_TRANSCRIPTION_INITIATION</th><th scope=col>REACTOME_PYRIMIDINE_METABOLISM</th><th scope=col>REACTOME_INTRINSIC_PATHWAY_FOR_APOPTOSIS</th><th scope=col>REACTOME_PI3K_CASCADE</th><th scope=col>REACTOME_APOPTOTIC_EXECUTION_PHASE</th><th scope=col>REACTOME_SHC_RELATED_EVENTS</th></tr></thead>\n",
       "<tbody>\n",
       "\t<tr><td>A1BG  </td><td>0     </td><td>0     </td><td>0     </td><td>0     </td><td>0     </td><td>0     </td><td>0     </td><td>0     </td><td>0     </td><td>⋯     </td><td>0     </td><td>0     </td><td>0     </td><td>0     </td><td>0     </td><td>0     </td><td>0     </td><td>0     </td><td>0     </td><td>0     </td></tr>\n",
       "\t<tr><td>A1CF  </td><td>0     </td><td>0     </td><td>0     </td><td>0     </td><td>0     </td><td>0     </td><td>0     </td><td>0     </td><td>0     </td><td>⋯     </td><td>0     </td><td>0     </td><td>0     </td><td>0     </td><td>0     </td><td>0     </td><td>0     </td><td>0     </td><td>0     </td><td>0     </td></tr>\n",
       "\t<tr><td>A2LD1 </td><td>0     </td><td>0     </td><td>0     </td><td>0     </td><td>0     </td><td>0     </td><td>0     </td><td>0     </td><td>0     </td><td>⋯     </td><td>0     </td><td>0     </td><td>0     </td><td>0     </td><td>0     </td><td>0     </td><td>0     </td><td>0     </td><td>0     </td><td>0     </td></tr>\n",
       "\t<tr><td>A2M   </td><td>0     </td><td>0     </td><td>0     </td><td>0     </td><td>0     </td><td>0     </td><td>0     </td><td>0     </td><td>0     </td><td>⋯     </td><td>0     </td><td>0     </td><td>0     </td><td>0     </td><td>0     </td><td>0     </td><td>0     </td><td>0     </td><td>0     </td><td>0     </td></tr>\n",
       "\t<tr><td>A2ML1 </td><td>0     </td><td>0     </td><td>0     </td><td>0     </td><td>0     </td><td>0     </td><td>0     </td><td>0     </td><td>0     </td><td>⋯     </td><td>0     </td><td>0     </td><td>0     </td><td>0     </td><td>0     </td><td>0     </td><td>0     </td><td>0     </td><td>0     </td><td>0     </td></tr>\n",
       "\t<tr><td>A4GALT</td><td>0     </td><td>0     </td><td>0     </td><td>0     </td><td>0     </td><td>0     </td><td>0     </td><td>0     </td><td>0     </td><td>⋯     </td><td>0     </td><td>0     </td><td>0     </td><td>0     </td><td>0     </td><td>0     </td><td>0     </td><td>0     </td><td>0     </td><td>0     </td></tr>\n",
       "</tbody>\n",
       "</table>\n"
      ],
      "text/latex": [
       "\\begin{tabular}{r|lllllllllllllllllllllllllllllllllllllllllllllllllllllllllllllllllllllllllllllllllllllllllllllllllllllllllllllllllllllllllllllllllllllllllllllllllllllllllllllllllllllllllllllllllllllllllllllllllllllllllllllllllllllllllllllllllllllllllllllllllllllllllllllllllllllllllllllllllllllllllllllllllllllllllllllllllllllllllllllllllllllllllllllllllllllllllllllllllllllllllllllllllllllllllllllllllllllllllllllllllllllllllllllllllllllllllllllllllllllllllllllllllllllllllllllllllllllllllllllllllllllllllllllllllllllllllllllllllllllllllllllllllllllllllllllllllllllllllllllllllllllllllllllllllllllllllllllllllllllllllllllllllllllllllllllllllllllllllllllllllllllllllllllllllllllllllllllllllll}\n",
       " Genes & REACTOME\\_GLYCOGEN\\_BREAKDOWN\\_GLYCOGENOLYSIS & REACTOME\\_TRANSLATION & REACTOME\\_PYRIMIDINE\\_CATABOLISM & REACTOME\\_RNA\\_POL\\_III\\_TRANSCRIPTION\\_INITIATION\\_FROM\\_TYPE\\_2\\_PROMOTER & REACTOME\\_INHIBITION\\_OF\\_THE\\_PROTEOLYTIC\\_ACTIVITY\\_OF\\_APC\\_C\\_REQUIRED\\_FOR\\_THE\\_ONSET\\_OF\\_ANAPHASE\\_BY\\_MITOTIC\\_SPINDLE\\_CHECKPOINT\\_COMPONENTS & REACTOME\\_PYRUVATE\\_METABOLISM\\_AND\\_CITRIC\\_ACID\\_TCA\\_CYCLE & REACTOME\\_EXTRINSIC\\_PATHWAY\\_FOR\\_APOPTOSIS & REACTOME\\_PTM\\_GAMMA\\_CARBOXYLATION\\_HYPUSINE\\_FORMATION\\_AND\\_ARYLSULFATASE\\_ACTIVATION & REACTOME\\_APOPTOTIC\\_CLEAVAGE\\_OF\\_CELLULAR\\_PROTEINS & ⋯ & REACTOME\\_DIGESTION\\_OF\\_DIETARY\\_CARBOHYDRATE & REACTOME\\_FGFR1\\_LIGAND\\_BINDING\\_AND\\_ACTIVATION & REACTOME\\_GAP\\_JUNCTION\\_ASSEMBLY & REACTOME\\_SYNTHESIS\\_OF\\_GLYCOSYLPHOSPHATIDYLINOSITOL\\_GPI & REACTOME\\_RNA\\_POL\\_I\\_TRANSCRIPTION\\_INITIATION & REACTOME\\_PYRIMIDINE\\_METABOLISM & REACTOME\\_INTRINSIC\\_PATHWAY\\_FOR\\_APOPTOSIS & REACTOME\\_PI3K\\_CASCADE & REACTOME\\_APOPTOTIC\\_EXECUTION\\_PHASE & REACTOME\\_SHC\\_RELATED\\_EVENTS\\\\\n",
       "\\hline\n",
       "\t A1BG   & 0      & 0      & 0      & 0      & 0      & 0      & 0      & 0      & 0      & ⋯      & 0      & 0      & 0      & 0      & 0      & 0      & 0      & 0      & 0      & 0     \\\\\n",
       "\t A1CF   & 0      & 0      & 0      & 0      & 0      & 0      & 0      & 0      & 0      & ⋯      & 0      & 0      & 0      & 0      & 0      & 0      & 0      & 0      & 0      & 0     \\\\\n",
       "\t A2LD1  & 0      & 0      & 0      & 0      & 0      & 0      & 0      & 0      & 0      & ⋯      & 0      & 0      & 0      & 0      & 0      & 0      & 0      & 0      & 0      & 0     \\\\\n",
       "\t A2M    & 0      & 0      & 0      & 0      & 0      & 0      & 0      & 0      & 0      & ⋯      & 0      & 0      & 0      & 0      & 0      & 0      & 0      & 0      & 0      & 0     \\\\\n",
       "\t A2ML1  & 0      & 0      & 0      & 0      & 0      & 0      & 0      & 0      & 0      & ⋯      & 0      & 0      & 0      & 0      & 0      & 0      & 0      & 0      & 0      & 0     \\\\\n",
       "\t A4GALT & 0      & 0      & 0      & 0      & 0      & 0      & 0      & 0      & 0      & ⋯      & 0      & 0      & 0      & 0      & 0      & 0      & 0      & 0      & 0      & 0     \\\\\n",
       "\\end{tabular}\n"
      ],
      "text/markdown": [
       "\n",
       "Genes | REACTOME_GLYCOGEN_BREAKDOWN_GLYCOGENOLYSIS | REACTOME_TRANSLATION | REACTOME_PYRIMIDINE_CATABOLISM | REACTOME_RNA_POL_III_TRANSCRIPTION_INITIATION_FROM_TYPE_2_PROMOTER | REACTOME_INHIBITION_OF_THE_PROTEOLYTIC_ACTIVITY_OF_APC_C_REQUIRED_FOR_THE_ONSET_OF_ANAPHASE_BY_MITOTIC_SPINDLE_CHECKPOINT_COMPONENTS | REACTOME_PYRUVATE_METABOLISM_AND_CITRIC_ACID_TCA_CYCLE | REACTOME_EXTRINSIC_PATHWAY_FOR_APOPTOSIS | REACTOME_PTM_GAMMA_CARBOXYLATION_HYPUSINE_FORMATION_AND_ARYLSULFATASE_ACTIVATION | REACTOME_APOPTOTIC_CLEAVAGE_OF_CELLULAR_PROTEINS | ⋯ | REACTOME_DIGESTION_OF_DIETARY_CARBOHYDRATE | REACTOME_FGFR1_LIGAND_BINDING_AND_ACTIVATION | REACTOME_GAP_JUNCTION_ASSEMBLY | REACTOME_SYNTHESIS_OF_GLYCOSYLPHOSPHATIDYLINOSITOL_GPI | REACTOME_RNA_POL_I_TRANSCRIPTION_INITIATION | REACTOME_PYRIMIDINE_METABOLISM | REACTOME_INTRINSIC_PATHWAY_FOR_APOPTOSIS | REACTOME_PI3K_CASCADE | REACTOME_APOPTOTIC_EXECUTION_PHASE | REACTOME_SHC_RELATED_EVENTS | \n",
       "|---|---|---|---|---|---|\n",
       "| A1BG   | 0      | 0      | 0      | 0      | 0      | 0      | 0      | 0      | 0      | ⋯      | 0      | 0      | 0      | 0      | 0      | 0      | 0      | 0      | 0      | 0      | \n",
       "| A1CF   | 0      | 0      | 0      | 0      | 0      | 0      | 0      | 0      | 0      | ⋯      | 0      | 0      | 0      | 0      | 0      | 0      | 0      | 0      | 0      | 0      | \n",
       "| A2LD1  | 0      | 0      | 0      | 0      | 0      | 0      | 0      | 0      | 0      | ⋯      | 0      | 0      | 0      | 0      | 0      | 0      | 0      | 0      | 0      | 0      | \n",
       "| A2M    | 0      | 0      | 0      | 0      | 0      | 0      | 0      | 0      | 0      | ⋯      | 0      | 0      | 0      | 0      | 0      | 0      | 0      | 0      | 0      | 0      | \n",
       "| A2ML1  | 0      | 0      | 0      | 0      | 0      | 0      | 0      | 0      | 0      | ⋯      | 0      | 0      | 0      | 0      | 0      | 0      | 0      | 0      | 0      | 0      | \n",
       "| A4GALT | 0      | 0      | 0      | 0      | 0      | 0      | 0      | 0      | 0      | ⋯      | 0      | 0      | 0      | 0      | 0      | 0      | 0      | 0      | 0      | 0      | \n",
       "\n",
       "\n"
      ],
      "text/plain": [
       "  Genes  REACTOME_GLYCOGEN_BREAKDOWN_GLYCOGENOLYSIS REACTOME_TRANSLATION\n",
       "1 A1BG   0                                          0                   \n",
       "2 A1CF   0                                          0                   \n",
       "3 A2LD1  0                                          0                   \n",
       "4 A2M    0                                          0                   \n",
       "5 A2ML1  0                                          0                   \n",
       "6 A4GALT 0                                          0                   \n",
       "  REACTOME_PYRIMIDINE_CATABOLISM\n",
       "1 0                             \n",
       "2 0                             \n",
       "3 0                             \n",
       "4 0                             \n",
       "5 0                             \n",
       "6 0                             \n",
       "  REACTOME_RNA_POL_III_TRANSCRIPTION_INITIATION_FROM_TYPE_2_PROMOTER\n",
       "1 0                                                                 \n",
       "2 0                                                                 \n",
       "3 0                                                                 \n",
       "4 0                                                                 \n",
       "5 0                                                                 \n",
       "6 0                                                                 \n",
       "  REACTOME_INHIBITION_OF_THE_PROTEOLYTIC_ACTIVITY_OF_APC_C_REQUIRED_FOR_THE_ONSET_OF_ANAPHASE_BY_MITOTIC_SPINDLE_CHECKPOINT_COMPONENTS\n",
       "1 0                                                                                                                                   \n",
       "2 0                                                                                                                                   \n",
       "3 0                                                                                                                                   \n",
       "4 0                                                                                                                                   \n",
       "5 0                                                                                                                                   \n",
       "6 0                                                                                                                                   \n",
       "  REACTOME_PYRUVATE_METABOLISM_AND_CITRIC_ACID_TCA_CYCLE\n",
       "1 0                                                     \n",
       "2 0                                                     \n",
       "3 0                                                     \n",
       "4 0                                                     \n",
       "5 0                                                     \n",
       "6 0                                                     \n",
       "  REACTOME_EXTRINSIC_PATHWAY_FOR_APOPTOSIS\n",
       "1 0                                       \n",
       "2 0                                       \n",
       "3 0                                       \n",
       "4 0                                       \n",
       "5 0                                       \n",
       "6 0                                       \n",
       "  REACTOME_PTM_GAMMA_CARBOXYLATION_HYPUSINE_FORMATION_AND_ARYLSULFATASE_ACTIVATION\n",
       "1 0                                                                               \n",
       "2 0                                                                               \n",
       "3 0                                                                               \n",
       "4 0                                                                               \n",
       "5 0                                                                               \n",
       "6 0                                                                               \n",
       "  REACTOME_APOPTOTIC_CLEAVAGE_OF_CELLULAR_PROTEINS ⋯\n",
       "1 0                                                ⋯\n",
       "2 0                                                ⋯\n",
       "3 0                                                ⋯\n",
       "4 0                                                ⋯\n",
       "5 0                                                ⋯\n",
       "6 0                                                ⋯\n",
       "  REACTOME_DIGESTION_OF_DIETARY_CARBOHYDRATE\n",
       "1 0                                         \n",
       "2 0                                         \n",
       "3 0                                         \n",
       "4 0                                         \n",
       "5 0                                         \n",
       "6 0                                         \n",
       "  REACTOME_FGFR1_LIGAND_BINDING_AND_ACTIVATION REACTOME_GAP_JUNCTION_ASSEMBLY\n",
       "1 0                                            0                             \n",
       "2 0                                            0                             \n",
       "3 0                                            0                             \n",
       "4 0                                            0                             \n",
       "5 0                                            0                             \n",
       "6 0                                            0                             \n",
       "  REACTOME_SYNTHESIS_OF_GLYCOSYLPHOSPHATIDYLINOSITOL_GPI\n",
       "1 0                                                     \n",
       "2 0                                                     \n",
       "3 0                                                     \n",
       "4 0                                                     \n",
       "5 0                                                     \n",
       "6 0                                                     \n",
       "  REACTOME_RNA_POL_I_TRANSCRIPTION_INITIATION REACTOME_PYRIMIDINE_METABOLISM\n",
       "1 0                                           0                             \n",
       "2 0                                           0                             \n",
       "3 0                                           0                             \n",
       "4 0                                           0                             \n",
       "5 0                                           0                             \n",
       "6 0                                           0                             \n",
       "  REACTOME_INTRINSIC_PATHWAY_FOR_APOPTOSIS REACTOME_PI3K_CASCADE\n",
       "1 0                                        0                    \n",
       "2 0                                        0                    \n",
       "3 0                                        0                    \n",
       "4 0                                        0                    \n",
       "5 0                                        0                    \n",
       "6 0                                        0                    \n",
       "  REACTOME_APOPTOTIC_EXECUTION_PHASE REACTOME_SHC_RELATED_EVENTS\n",
       "1 0                                  0                          \n",
       "2 0                                  0                          \n",
       "3 0                                  0                          \n",
       "4 0                                  0                          \n",
       "5 0                                  0                          \n",
       "6 0                                  0                          "
      ]
     },
     "metadata": {},
     "output_type": "display_data"
    }
   ],
   "source": [
    "head(binaryPathwayDF)"
   ]
  },
  {
   "cell_type": "code",
   "execution_count": 59,
   "metadata": {},
   "outputs": [],
   "source": [
    "df <- df[binaryPathwayDF[['Genes']], ]"
   ]
  },
  {
   "cell_type": "code",
   "execution_count": 61,
   "metadata": {},
   "outputs": [],
   "source": [
    "df <- df[rowSums(is.na(df)) != ncol(df), ]"
   ]
  },
  {
   "cell_type": "code",
   "execution_count": 62,
   "metadata": {},
   "outputs": [
    {
     "data": {
      "text/html": [
       "<ol class=list-inline>\n",
       "\t<li>15800</li>\n",
       "\t<li>1800</li>\n",
       "</ol>\n"
      ],
      "text/latex": [
       "\\begin{enumerate*}\n",
       "\\item 15800\n",
       "\\item 1800\n",
       "\\end{enumerate*}\n"
      ],
      "text/markdown": [
       "1. 15800\n",
       "2. 1800\n",
       "\n",
       "\n"
      ],
      "text/plain": [
       "[1] 15800  1800"
      ]
     },
     "metadata": {},
     "output_type": "display_data"
    }
   ],
   "source": [
    "dim(df)"
   ]
  },
  {
   "cell_type": "code",
   "execution_count": null,
   "metadata": {},
   "outputs": [],
   "source": [
    "head(df)"
   ]
  }
 ],
 "metadata": {
  "kernelspec": {
   "display_name": "R",
   "language": "R",
   "name": "ir"
  },
  "language_info": {
   "codemirror_mode": "r",
   "file_extension": ".r",
   "mimetype": "text/x-r-source",
   "name": "R",
   "pygments_lexer": "r",
   "version": "3.5.1"
  }
 },
 "nbformat": 4,
 "nbformat_minor": 2
}
