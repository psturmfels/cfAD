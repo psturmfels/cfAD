{
 "cells": [
  {
   "cell_type": "code",
   "execution_count": null,
   "metadata": {},
   "outputs": [],
   "source": [
    "%matplotlib inline\n",
    "\n",
    "import numpy as np\n",
    "import pandas as pd\n",
    "import seaborn as sns\n",
    "import matplotlib.pyplot as plt\n",
    "\n",
    "from CrossValidation import CrossValidation\n",
    "from FeatureSimilarity import GetTopGenes\n",
    "from MatrixFactorization import CreateLatentVariables, FactorizeMatrix, GetRepresentationError"
   ]
  },
  {
   "cell_type": "code",
   "execution_count": null,
   "metadata": {},
   "outputs": [],
   "source": [
    "def GenerateSimulatedData():\n",
    "    X = np."
   ]
  },
  {
   "cell_type": "code",
   "execution_count": null,
   "metadata": {},
   "outputs": [],
   "source": [
    "numReps = 100\n",
    "\n",
    "n = 10\n",
    "g = 200\n",
    "p = 1 #number of phenotypes\n",
    "k = 2\n",
    "\n",
    "intersectionGap = 10\n",
    "numPlotPoints = int(g / intersectionGap)\n",
    "intersectionMatrix = np.zeros((numReps, numPlotPoints))\n",
    "\n",
    "for rep in range(numReps):\n",
    "    #Generate data here\n",
    "    neighbors = ?\n",
    "    U = ?\n",
    "    V = ?\n",
    "    X = np.dot(U, V.T)\n",
    "    \n",
    "    #Get a list of genes that are related to the phenotype\n",
    "    genesDrivingPhenotype = np.array([])\n",
    "    \n",
    "    #Find optimal eta, lamb1, lamb2\n",
    "    eta = ?\n",
    "    lamb1 = ?\n",
    "    lamb2 = ?\n",
    "    \n",
    "    #Train on all of the data\n",
    "    U_pred, V_Pred = CreateLatentVariables(n, g, k)\n",
    "    U_pred, V_Pred = FactorizeMatrix(X, U_pred, V_Pred, neighbors, eta=eta, lamb1=lamb1, lamb2=lamb2, num_epochs=50)\n",
    "    \n",
    "    topRankedGenes = GetTopGenes(V, g, np.arange(0, g))\n",
    "    \n",
    "    currentNumIntersected = 0\n",
    "    \n",
    "    for i in range(0, g, intersectionGap):\n",
    "        currentGeneSlice = topRankedGenes[i:i+intersectionGap]\n",
    "        additiveIntersection = np.sum(np.in1d(currentGeneSlice, genesDrivingPhenotype))\n",
    "        \n",
    "        currentNumIntersected += additiveIntersection\n",
    "        \n",
    "        intersectionMatrix[rep, i] = currentNumIntersected\n",
    "        "
   ]
  },
  {
   "cell_type": "code",
   "execution_count": null,
   "metadata": {},
   "outputs": [],
   "source": [
    "intersectionIndices = np.arange(0, g, intersectionGap) #(numPlotPoints,)\n",
    "df = pd.DataFrame(intersectionMatrix.T)\n",
    "df['x'] = intersectionIndices\n",
    "df = pd.melt(df, id_vars=['x'])\n",
    "sns.lineplot(x='x', y='value', data=df, ci='sd')"
   ]
  }
 ],
 "metadata": {
  "kernelspec": {
   "display_name": "Python 3",
   "language": "python",
   "name": "python3"
  },
  "language_info": {
   "codemirror_mode": {
    "name": "ipython",
    "version": 3
   },
   "file_extension": ".py",
   "mimetype": "text/x-python",
   "name": "python",
   "nbconvert_exporter": "python",
   "pygments_lexer": "ipython3",
   "version": "3.6.6"
  }
 },
 "nbformat": 4,
 "nbformat_minor": 2
}
