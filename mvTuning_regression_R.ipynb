{
 "cells": [
  {
   "cell_type": "code",
   "execution_count": 11,
   "metadata": {},
   "outputs": [],
   "source": [
    "library('SGL')\n",
    "library('grpregOverlap')\n",
    "library('MASS')"
   ]
  },
  {
   "cell_type": "code",
   "execution_count": 12,
   "metadata": {},
   "outputs": [],
   "source": [
    "df <- read.csv('/homes/gws/psturm/simulatedData/regressionData/df0.csv', header=TRUE)\n",
    "df = as.data.frame(df)"
   ]
  },
  {
   "cell_type": "code",
   "execution_count": 13,
   "metadata": {},
   "outputs": [],
   "source": [
    "df_t = as.data.frame(t(df))\n",
    "colnames(df_t) = c(paste('p', sep='', 1:10), paste('g', sep='', 1:1000))\n",
    "data_mat = df_t[1:100, ]"
   ]
  },
  {
   "cell_type": "code",
   "execution_count": 140,
   "metadata": {},
   "outputs": [],
   "source": [
    "group_index <- unlist(df['gene_group'][-(1:10), ])"
   ]
  },
  {
   "cell_type": "code",
   "execution_count": 91,
   "metadata": {},
   "outputs": [],
   "source": [
    "y <- data_mat$p1\n",
    "x <- data.matrix(data_mat[, paste('g', sep='', 1:1000)])"
   ]
  },
  {
   "cell_type": "code",
   "execution_count": 15,
   "metadata": {},
   "outputs": [],
   "source": [
    "library('glmnet')"
   ]
  },
  {
   "cell_type": "code",
   "execution_count": 117,
   "metadata": {},
   "outputs": [],
   "source": [
    "alphalist <- seq(0,1,by=0.1)\n",
    "elasticnet <- lapply(alphalist, function(a){\n",
    "  cv.glmnet(x, y, alpha=a)\n",
    "})"
   ]
  },
  {
   "cell_type": "code",
   "execution_count": 118,
   "metadata": {},
   "outputs": [],
   "source": [
    "elasticnet_df <- data.frame('lambda.min' = as.numeric(unlist(lapply(elasticnet, function(o) {o$lambda.min}))), \n",
    "                            'cvm' = as.numeric(unlist(lapply(elasticnet, function(o) {\n",
    "                                o$cvm[o$lambda == o$lambda.min]}))),\n",
    "                            'cvsd' = as.numeric(unlist(lapply(elasticnet, function(o) {\n",
    "                                o$cvsd[o$lambda == o$lambda.min]}))),\n",
    "                            'alpha' = alphalist)"
   ]
  },
  {
   "cell_type": "code",
   "execution_count": 119,
   "metadata": {},
   "outputs": [
    {
     "data": {
      "text/html": [
       "<table>\n",
       "<thead><tr><th scope=col>lambda.min</th><th scope=col>cvm</th><th scope=col>cvsd</th><th scope=col>alpha</th></tr></thead>\n",
       "<tbody>\n",
       "\t<tr><td>7.673469205</td><td>0.2868251  </td><td>0.05802981 </td><td>0.0        </td></tr>\n",
       "\t<tr><td>0.080388472</td><td>0.1175477  </td><td>0.01403119 </td><td>0.1        </td></tr>\n",
       "\t<tr><td>0.040194236</td><td>0.1164194  </td><td>0.01176121 </td><td>0.2        </td></tr>\n",
       "\t<tr><td>0.040727777</td><td>0.1294264  </td><td>0.02251210 </td><td>0.3        </td></tr>\n",
       "\t<tr><td>0.022056562</td><td>0.1177432  </td><td>0.01654030 </td><td>0.4        </td></tr>\n",
       "\t<tr><td>0.016077694</td><td>0.1088795  </td><td>0.02480033 </td><td>0.5        </td></tr>\n",
       "\t<tr><td>0.014036038</td><td>0.1232367  </td><td>0.02138055 </td><td>0.6        </td></tr>\n",
       "\t<tr><td>0.025323870</td><td>0.1207548  </td><td>0.02307347 </td><td>0.7        </td></tr>\n",
       "\t<tr><td>0.014578739</td><td>0.1155649  </td><td>0.02189733 </td><td>0.8        </td></tr>\n",
       "\t<tr><td>0.008932052</td><td>0.1207302  </td><td>0.02782604 </td><td>0.9        </td></tr>\n",
       "\t<tr><td>0.012800118</td><td>0.1219546  </td><td>0.03296620 </td><td>1.0        </td></tr>\n",
       "</tbody>\n",
       "</table>\n"
      ],
      "text/latex": [
       "\\begin{tabular}{r|llll}\n",
       " lambda.min & cvm & cvsd & alpha\\\\\n",
       "\\hline\n",
       "\t 7.673469205 & 0.2868251   & 0.05802981  & 0.0        \\\\\n",
       "\t 0.080388472 & 0.1175477   & 0.01403119  & 0.1        \\\\\n",
       "\t 0.040194236 & 0.1164194   & 0.01176121  & 0.2        \\\\\n",
       "\t 0.040727777 & 0.1294264   & 0.02251210  & 0.3        \\\\\n",
       "\t 0.022056562 & 0.1177432   & 0.01654030  & 0.4        \\\\\n",
       "\t 0.016077694 & 0.1088795   & 0.02480033  & 0.5        \\\\\n",
       "\t 0.014036038 & 0.1232367   & 0.02138055  & 0.6        \\\\\n",
       "\t 0.025323870 & 0.1207548   & 0.02307347  & 0.7        \\\\\n",
       "\t 0.014578739 & 0.1155649   & 0.02189733  & 0.8        \\\\\n",
       "\t 0.008932052 & 0.1207302   & 0.02782604  & 0.9        \\\\\n",
       "\t 0.012800118 & 0.1219546   & 0.03296620  & 1.0        \\\\\n",
       "\\end{tabular}\n"
      ],
      "text/markdown": [
       "\n",
       "lambda.min | cvm | cvsd | alpha | \n",
       "|---|---|---|---|---|---|---|---|---|---|---|\n",
       "| 7.673469205 | 0.2868251   | 0.05802981  | 0.0         | \n",
       "| 0.080388472 | 0.1175477   | 0.01403119  | 0.1         | \n",
       "| 0.040194236 | 0.1164194   | 0.01176121  | 0.2         | \n",
       "| 0.040727777 | 0.1294264   | 0.02251210  | 0.3         | \n",
       "| 0.022056562 | 0.1177432   | 0.01654030  | 0.4         | \n",
       "| 0.016077694 | 0.1088795   | 0.02480033  | 0.5         | \n",
       "| 0.014036038 | 0.1232367   | 0.02138055  | 0.6         | \n",
       "| 0.025323870 | 0.1207548   | 0.02307347  | 0.7         | \n",
       "| 0.014578739 | 0.1155649   | 0.02189733  | 0.8         | \n",
       "| 0.008932052 | 0.1207302   | 0.02782604  | 0.9         | \n",
       "| 0.012800118 | 0.1219546   | 0.03296620  | 1.0         | \n",
       "\n",
       "\n"
      ],
      "text/plain": [
       "   lambda.min  cvm       cvsd       alpha\n",
       "1  7.673469205 0.2868251 0.05802981 0.0  \n",
       "2  0.080388472 0.1175477 0.01403119 0.1  \n",
       "3  0.040194236 0.1164194 0.01176121 0.2  \n",
       "4  0.040727777 0.1294264 0.02251210 0.3  \n",
       "5  0.022056562 0.1177432 0.01654030 0.4  \n",
       "6  0.016077694 0.1088795 0.02480033 0.5  \n",
       "7  0.014036038 0.1232367 0.02138055 0.6  \n",
       "8  0.025323870 0.1207548 0.02307347 0.7  \n",
       "9  0.014578739 0.1155649 0.02189733 0.8  \n",
       "10 0.008932052 0.1207302 0.02782604 0.9  \n",
       "11 0.012800118 0.1219546 0.03296620 1.0  "
      ]
     },
     "metadata": {},
     "output_type": "display_data"
    }
   ],
   "source": [
    "elasticnet_df"
   ]
  },
  {
   "cell_type": "code",
   "execution_count": 120,
   "metadata": {},
   "outputs": [
    {
     "data": {
      "text/html": [
       "'double'"
      ],
      "text/latex": [
       "'double'"
      ],
      "text/markdown": [
       "'double'"
      ],
      "text/plain": [
       "[1] \"double\""
      ]
     },
     "metadata": {},
     "output_type": "display_data"
    }
   ],
   "source": [
    "typeof(elasticnet_df$alpha)"
   ]
  },
  {
   "cell_type": "code",
   "execution_count": 122,
   "metadata": {},
   "outputs": [
    {
     "data": {
      "image/png": "[encoded data removed]",
      "text/plain": [
       "Plot with title “Plot of error as a function of alpha”"
      ]
     },
     "metadata": {},
     "output_type": "display_data",
     "source": "R display func"
    }
   ],
   "source": [
    "best_alpha <- elasticnet_df[elasticnet_df$cvm == min(elasticnet_df$cvm),]$alpha\n",
    "best_lambda <- elasticnet_df[elasticnet_df$cvm == min(elasticnet_df$cvm),]$lambda.min\n",
    "plot(elasticnet_df$alpha, elasticnet_df$cvm,\n",
    "     ylim=range(c(elasticnet_df$cvm-elasticnet_df$cvsd, elasticnet_df$cvm+elasticnet_df$cvsd)),\n",
    "     pch=19, xlab=\"Alpha\", ylab=\"Mean squared error\",\n",
    "     main=\"Plot of error as a function of alpha\",\n",
    "     col=ifelse(elasticnet_df$alpha==best_alpha, \"red\", \"black\")\n",
    "    )\n",
    "arrows(elasticnet_df$alpha, elasticnet_df$cvm-elasticnet_df$cvsd, \n",
    "       elasticnet_df$alpha, elasticnet_df$cvm+elasticnet_df$cvsd, \n",
    "       length=0.05, angle=90, code=3,\n",
    "       col=ifelse(elasticnet_df$alpha==best_alpha, \"red\", \"black\"))"
   ]
  },
  {
   "cell_type": "code",
   "execution_count": 130,
   "metadata": {},
   "outputs": [
    {
     "name": "stdout",
     "output_type": "stream",
     "text": [
      "Elastic net: best alpha = 0.500000, best lambda = 0.016078"
     ]
    }
   ],
   "source": [
    "cat(sprintf('Elastic net: best alpha = %f, best lambda = %f', best_alpha, best_lambda))"
   ]
  },
  {
   "cell_type": "code",
   "execution_count": 161,
   "metadata": {},
   "outputs": [],
   "source": [
    "alphalist <- seq(0,1,by=0.1)\n",
    "sparse_gl <- lapply(alphalist, function(a){\n",
    "  cvSGL(data=list(x=x, y=y), index=group_index, min.frac=0.01, type=\"linear\", alpha=a)\n",
    "})"
   ]
  },
  {
   "cell_type": "code",
   "execution_count": 173,
   "metadata": {},
   "outputs": [
    {
     "data": {
      "text/html": [
       "<ol class=list-inline>\n",
       "\t<li>'fit'</li>\n",
       "\t<li>'lldiff'</li>\n",
       "\t<li>'lambdas'</li>\n",
       "\t<li>'type'</li>\n",
       "\t<li>'llSD'</li>\n",
       "</ol>\n"
      ],
      "text/latex": [
       "\\begin{enumerate*}\n",
       "\\item 'fit'\n",
       "\\item 'lldiff'\n",
       "\\item 'lambdas'\n",
       "\\item 'type'\n",
       "\\item 'llSD'\n",
       "\\end{enumerate*}\n"
      ],
      "text/markdown": [
       "1. 'fit'\n",
       "2. 'lldiff'\n",
       "3. 'lambdas'\n",
       "4. 'type'\n",
       "5. 'llSD'\n",
       "\n",
       "\n"
      ],
      "text/plain": [
       "[1] \"fit\"     \"lldiff\"  \"lambdas\" \"type\"    \"llSD\"   "
      ]
     },
     "metadata": {},
     "output_type": "display_data"
    }
   ],
   "source": [
    "names(sparse_gl[[6]])"
   ]
  },
  {
   "cell_type": "code",
   "execution_count": 190,
   "metadata": {},
   "outputs": [
    {
     "data": {
      "text/html": [
       "<table>\n",
       "<thead><tr><th scope=col>lambda.min</th><th scope=col>nll</th><th scope=col>nllsd</th><th scope=col>alpha</th></tr></thead>\n",
       "<tbody>\n",
       "\t<tr><td>0.0008916101</td><td>46.85303    </td><td> 7.825006   </td><td>0.0         </td></tr>\n",
       "\t<tr><td>0.0009123253</td><td>45.35427    </td><td>11.202766   </td><td>0.1         </td></tr>\n",
       "\t<tr><td>0.0009376265</td><td>44.49379    </td><td> 8.890506   </td><td>0.2         </td></tr>\n",
       "\t<tr><td>0.0009690195</td><td>48.65491    </td><td>11.298826   </td><td>0.3         </td></tr>\n",
       "\t<tr><td>0.0012838768</td><td>41.05301    </td><td> 9.679451   </td><td>0.4         </td></tr>\n",
       "\t<tr><td>0.0010560365</td><td>44.83996    </td><td> 9.405043   </td><td>0.5         </td></tr>\n",
       "\t<tr><td>0.0011203666</td><td>45.40412    </td><td>13.341604   </td><td>0.6         </td></tr>\n",
       "\t<tr><td>0.0009492706</td><td>50.27063    </td><td>11.096366   </td><td>0.7         </td></tr>\n",
       "\t<tr><td>0.0093681858</td><td>59.81065    </td><td>15.373660   </td><td>0.8         </td></tr>\n",
       "\t<tr><td>0.0009825607</td><td>54.04654    </td><td>15.718310   </td><td>0.9         </td></tr>\n",
       "\t<tr><td>0.0574812991</td><td>49.09243    </td><td> 9.181723   </td><td>1.0         </td></tr>\n",
       "</tbody>\n",
       "</table>\n"
      ],
      "text/latex": [
       "\\begin{tabular}{r|llll}\n",
       " lambda.min & nll & nllsd & alpha\\\\\n",
       "\\hline\n",
       "\t 0.0008916101 & 46.85303     &  7.825006    & 0.0         \\\\\n",
       "\t 0.0009123253 & 45.35427     & 11.202766    & 0.1         \\\\\n",
       "\t 0.0009376265 & 44.49379     &  8.890506    & 0.2         \\\\\n",
       "\t 0.0009690195 & 48.65491     & 11.298826    & 0.3         \\\\\n",
       "\t 0.0012838768 & 41.05301     &  9.679451    & 0.4         \\\\\n",
       "\t 0.0010560365 & 44.83996     &  9.405043    & 0.5         \\\\\n",
       "\t 0.0011203666 & 45.40412     & 13.341604    & 0.6         \\\\\n",
       "\t 0.0009492706 & 50.27063     & 11.096366    & 0.7         \\\\\n",
       "\t 0.0093681858 & 59.81065     & 15.373660    & 0.8         \\\\\n",
       "\t 0.0009825607 & 54.04654     & 15.718310    & 0.9         \\\\\n",
       "\t 0.0574812991 & 49.09243     &  9.181723    & 1.0         \\\\\n",
       "\\end{tabular}\n"
      ],
      "text/markdown": [
       "\n",
       "lambda.min | nll | nllsd | alpha | \n",
       "|---|---|---|---|---|---|---|---|---|---|---|\n",
       "| 0.0008916101 | 46.85303     |  7.825006    | 0.0          | \n",
       "| 0.0009123253 | 45.35427     | 11.202766    | 0.1          | \n",
       "| 0.0009376265 | 44.49379     |  8.890506    | 0.2          | \n",
       "| 0.0009690195 | 48.65491     | 11.298826    | 0.3          | \n",
       "| 0.0012838768 | 41.05301     |  9.679451    | 0.4          | \n",
       "| 0.0010560365 | 44.83996     |  9.405043    | 0.5          | \n",
       "| 0.0011203666 | 45.40412     | 13.341604    | 0.6          | \n",
       "| 0.0009492706 | 50.27063     | 11.096366    | 0.7          | \n",
       "| 0.0093681858 | 59.81065     | 15.373660    | 0.8          | \n",
       "| 0.0009825607 | 54.04654     | 15.718310    | 0.9          | \n",
       "| 0.0574812991 | 49.09243     |  9.181723    | 1.0          | \n",
       "\n",
       "\n"
      ],
      "text/plain": [
       "   lambda.min   nll      nllsd     alpha\n",
       "1  0.0008916101 46.85303  7.825006 0.0  \n",
       "2  0.0009123253 45.35427 11.202766 0.1  \n",
       "3  0.0009376265 44.49379  8.890506 0.2  \n",
       "4  0.0009690195 48.65491 11.298826 0.3  \n",
       "5  0.0012838768 41.05301  9.679451 0.4  \n",
       "6  0.0010560365 44.83996  9.405043 0.5  \n",
       "7  0.0011203666 45.40412 13.341604 0.6  \n",
       "8  0.0009492706 50.27063 11.096366 0.7  \n",
       "9  0.0093681858 59.81065 15.373660 0.8  \n",
       "10 0.0009825607 54.04654 15.718310 0.9  \n",
       "11 0.0574812991 49.09243  9.181723 1.0  "
      ]
     },
     "metadata": {},
     "output_type": "display_data"
    }
   ],
   "source": [
    "sparse_gl_df <- data.frame('lambda.min' = as.numeric(unlist(lapply(sparse_gl, function(o) {\n",
    "                            o$lambdas[o$lldiff == min(o$lldiff)]}))), \n",
    "                            'nll' = as.numeric(unlist(lapply(sparse_gl, function(o) {\n",
    "                                min(o$lldiff)}))),\n",
    "                            'nllsd' = as.numeric(unlist(lapply(sparse_gl, function(o) {\n",
    "                                o$llSD[o$lldiff == min(o$lldiff)]}))),\n",
    "                            'alpha' = alphalist)\n",
    "sparse_gl_df"
   ]
  },
  {
   "cell_type": "code",
   "execution_count": 194,
   "metadata": {},
   "outputs": [
    {
     "data": {
      "image/png": "[encoded data removed]",
      "text/plain": [
       "Plot with title “Plot of error as a function of alpha”"
      ]
     },
     "metadata": {},
     "output_type": "display_data",
     "source": "R display func"
    }
   ],
   "source": [
    "best_alpha_sgl <- sparse_gl_df[sparse_gl_df$nll == min(sparse_gl_df$nll),]$alpha\n",
    "best_lambda_sgl <- sparse_gl_df[sparse_gl_df$nll == min(sparse_gl_df$nll),]$lambda.min\n",
    "plot(sparse_gl_df$alpha, sparse_gl_df$nll,\n",
    "     ylim=range(c(sparse_gl_df$nll-sparse_gl_df$nllsd, sparse_gl_df$nll+sparse_gl_df$nllsd)),\n",
    "     pch=19, xlab=\"Alpha\", ylab=\"Mean squared error\",\n",
    "     main=\"Plot of error as a function of alpha\",\n",
    "     col=ifelse(sparse_gl_df$alpha==best_alpha_sgl, \"red\", \"black\")\n",
    "    )\n",
    "arrows(sparse_gl_df$alpha, sparse_gl_df$nll-sparse_gl_df$nllsd, \n",
    "       sparse_gl_df$alpha, sparse_gl_df$nll+sparse_gl_df$nllsd, \n",
    "       length=0.05, angle=90, code=3,\n",
    "       col=ifelse(sparse_gl_df$alpha==best_alpha_sgl, \"red\", \"black\"))"
   ]
  },
  {
   "cell_type": "code",
   "execution_count": 196,
   "metadata": {},
   "outputs": [
    {
     "name": "stdout",
     "output_type": "stream",
     "text": [
      "Sparse Group Lasso: best alpha = 0.400000, best lambda = 0.001284"
     ]
    }
   ],
   "source": [
    "cat(sprintf('Sparse Group Lasso: best alpha = %f, best lambda = %f', best_alpha_sgl, best_lambda_sgl))"
   ]
  },
  {
   "cell_type": "code",
   "execution_count": 240,
   "metadata": {},
   "outputs": [],
   "source": [
    "group_df <- lapply(unique(group_index), function(o, gi) { \n",
    "    paste('g', which(group_index == 0), sep='')\n",
    "}, \n",
    "group_index)"
   ]
  },
  {
   "cell_type": "code",
   "execution_count": 245,
   "metadata": {},
   "outputs": [],
   "source": [
    "alphalist <- seq(0.1,1,by=0.1)\n",
    "overlap_gl <- lapply(alphalist, function(a){\n",
    "  cv.grpregOverlap(x, y, group_df, penalty=\"grLasso\", alpha=a)\n",
    "})"
   ]
  },
  {
   "cell_type": "code",
   "execution_count": 249,
   "metadata": {},
   "outputs": [
    {
     "data": {
      "text/html": [
       "<table>\n",
       "<thead><tr><th scope=col>lambda.min</th><th scope=col>cve</th><th scope=col>cvse</th><th scope=col>alpha</th></tr></thead>\n",
       "<tbody>\n",
       "\t<tr><td>0.08727587</td><td>0.4126314 </td><td>0.05488402</td><td>0.1       </td></tr>\n",
       "\t<tr><td>0.04636045</td><td>0.4200779 </td><td>0.05504586</td><td>0.2       </td></tr>\n",
       "\t<tr><td>0.05015611</td><td>0.4574401 </td><td>0.06060558</td><td>0.3       </td></tr>\n",
       "\t<tr><td>0.04649188</td><td>0.3542762 </td><td>0.04657985</td><td>0.4       </td></tr>\n",
       "\t<tr><td>0.02586822</td><td>0.3867573 </td><td>0.05237964</td><td>0.5       </td></tr>\n",
       "\t<tr><td>0.01744188</td><td>0.4268944 </td><td>0.06077347</td><td>0.6       </td></tr>\n",
       "\t<tr><td>0.02085477</td><td>0.3750493 </td><td>0.04922529</td><td>0.7       </td></tr>\n",
       "\t<tr><td>0.02396011</td><td>0.4193196 </td><td>0.06147810</td><td>0.8       </td></tr>\n",
       "\t<tr><td>0.01622037</td><td>0.5373674 </td><td>0.08686251</td><td>0.9       </td></tr>\n",
       "\t<tr><td>0.01975698</td><td>0.4282366 </td><td>0.05590570</td><td>1.0       </td></tr>\n",
       "</tbody>\n",
       "</table>\n"
      ],
      "text/latex": [
       "\\begin{tabular}{r|llll}\n",
       " lambda.min & cve & cvse & alpha\\\\\n",
       "\\hline\n",
       "\t 0.08727587 & 0.4126314  & 0.05488402 & 0.1       \\\\\n",
       "\t 0.04636045 & 0.4200779  & 0.05504586 & 0.2       \\\\\n",
       "\t 0.05015611 & 0.4574401  & 0.06060558 & 0.3       \\\\\n",
       "\t 0.04649188 & 0.3542762  & 0.04657985 & 0.4       \\\\\n",
       "\t 0.02586822 & 0.3867573  & 0.05237964 & 0.5       \\\\\n",
       "\t 0.01744188 & 0.4268944  & 0.06077347 & 0.6       \\\\\n",
       "\t 0.02085477 & 0.3750493  & 0.04922529 & 0.7       \\\\\n",
       "\t 0.02396011 & 0.4193196  & 0.06147810 & 0.8       \\\\\n",
       "\t 0.01622037 & 0.5373674  & 0.08686251 & 0.9       \\\\\n",
       "\t 0.01975698 & 0.4282366  & 0.05590570 & 1.0       \\\\\n",
       "\\end{tabular}\n"
      ],
      "text/markdown": [
       "\n",
       "lambda.min | cve | cvse | alpha | \n",
       "|---|---|---|---|---|---|---|---|---|---|\n",
       "| 0.08727587 | 0.4126314  | 0.05488402 | 0.1        | \n",
       "| 0.04636045 | 0.4200779  | 0.05504586 | 0.2        | \n",
       "| 0.05015611 | 0.4574401  | 0.06060558 | 0.3        | \n",
       "| 0.04649188 | 0.3542762  | 0.04657985 | 0.4        | \n",
       "| 0.02586822 | 0.3867573  | 0.05237964 | 0.5        | \n",
       "| 0.01744188 | 0.4268944  | 0.06077347 | 0.6        | \n",
       "| 0.02085477 | 0.3750493  | 0.04922529 | 0.7        | \n",
       "| 0.02396011 | 0.4193196  | 0.06147810 | 0.8        | \n",
       "| 0.01622037 | 0.5373674  | 0.08686251 | 0.9        | \n",
       "| 0.01975698 | 0.4282366  | 0.05590570 | 1.0        | \n",
       "\n",
       "\n"
      ],
      "text/plain": [
       "   lambda.min cve       cvse       alpha\n",
       "1  0.08727587 0.4126314 0.05488402 0.1  \n",
       "2  0.04636045 0.4200779 0.05504586 0.2  \n",
       "3  0.05015611 0.4574401 0.06060558 0.3  \n",
       "4  0.04649188 0.3542762 0.04657985 0.4  \n",
       "5  0.02586822 0.3867573 0.05237964 0.5  \n",
       "6  0.01744188 0.4268944 0.06077347 0.6  \n",
       "7  0.02085477 0.3750493 0.04922529 0.7  \n",
       "8  0.02396011 0.4193196 0.06147810 0.8  \n",
       "9  0.01622037 0.5373674 0.08686251 0.9  \n",
       "10 0.01975698 0.4282366 0.05590570 1.0  "
      ]
     },
     "metadata": {},
     "output_type": "display_data"
    }
   ],
   "source": [
    "overlap_gl_df <- data.frame('lambda.min' = as.numeric(unlist(lapply(overlap_gl, function(o) {\n",
    "                            o$lambda[o$cve == min(o$cve)]}))), \n",
    "                            'cve' = as.numeric(unlist(lapply(overlap_gl, function(o) {\n",
    "                                min(o$cve)}))),\n",
    "                            'cvse' = as.numeric(unlist(lapply(overlap_gl, function(o) {\n",
    "                                o$cvse[o$cve == min(o$cve)]}))),\n",
    "                            'alpha' = alphalist)\n",
    "overlap_gl_df"
   ]
  },
  {
   "cell_type": "code",
   "execution_count": 250,
   "metadata": {},
   "outputs": [
    {
     "data": {
      "image/png": "[encoded data removed]",
      "text/plain": [
       "Plot with title “Plot of error as a function of alpha”"
      ]
     },
     "metadata": {},
     "output_type": "display_data",
     "source": "R display func"
    }
   ],
   "source": [
    "best_alpha_ovl <- overlap_gl_df[overlap_gl_df$cve == min(overlap_gl_df$cve),]$alpha\n",
    "best_lambda_ovl <- overlap_gl_df[overlap_gl_df$cve == min(overlap_gl_df$cve),]$lambda.min\n",
    "plot(overlap_gl_df$alpha, overlap_gl_df$cve,\n",
    "     ylim=range(c(overlap_gl_df$cve-overlap_gl_df$cvse, overlap_gl_df$cve+overlap_gl_df$cvse)),\n",
    "     pch=19, xlab=\"Alpha\", ylab=\"Mean squared error\",\n",
    "     main=\"Plot of error as a function of alpha\",\n",
    "     col=ifelse(overlap_gl_df$alpha==best_alpha_ovl, \"red\", \"black\")\n",
    "    )\n",
    "arrows(overlap_gl_df$alpha, overlap_gl_df$cve-overlap_gl_df$cvse, \n",
    "       overlap_gl_df$alpha, overlap_gl_df$cve+overlap_gl_df$cvse, \n",
    "       length=0.05, angle=90, code=3,\n",
    "       col=ifelse(overlap_gl_df$alpha==best_alpha_ovl, \"red\", \"black\"))"
   ]
  },
  {
   "cell_type": "code",
   "execution_count": 251,
   "metadata": {},
   "outputs": [
    {
     "name": "stdout",
     "output_type": "stream",
     "text": [
      "Overlapping Group Lasso: best alpha = 0.400000, best lambda = 0.046492"
     ]
    }
   ],
   "source": [
    "cat(sprintf('Overlapping Group Lasso: best alpha = %f, best lambda = %f', best_alpha_ovl, best_lambda_ovl))"
   ]
  }
 ],
 "metadata": {
  "kernelspec": {
   "display_name": "R",
   "language": "R",
   "name": "ir"
  },
  "language_info": {
   "codemirror_mode": "r",
   "file_extension": ".r",
   "mimetype": "text/x-r-source",
   "name": "R",
   "pygments_lexer": "r",
   "version": "3.5.1"
  }
 },
 "nbformat": 4,
 "nbformat_minor": 2
}
