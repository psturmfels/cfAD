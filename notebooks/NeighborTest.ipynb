{
 "cells": [
  {
   "cell_type": "code",
   "execution_count": 1,
   "metadata": {},
   "outputs": [],
   "source": [
    "import numpy as np\n",
    "import pandas as pd\n",
    "import seaborn as sns\n",
    "sns.set()\n",
    "import matplotlib.pyplot as plt\n",
    "\n",
    "import importlib\n",
    "import MatrixFactorization\n",
    "importlib.reload(MatrixFactorization)\n",
    "\n",
    "from CrossValidation import *\n",
    "from FeatureSimilarity import GetTopGenes\n",
    "from MatrixFactorization import CreateLatentVariables, FactorizeMatrix, GetRepresentationError"
   ]
  },
  {
   "cell_type": "code",
   "execution_count": 2,
   "metadata": {},
   "outputs": [
    {
     "name": "stdout",
     "output_type": "stream",
     "text": [
      "[[-1.3154229   2.394677   -1.5700375  -1.0082035   3.72266     1.4282197\n",
      "   2.386021   -1.0233182  -1.2192004   1.1915258 ]\n",
      " [ 1.0691701  -0.9751946   1.1408842   0.09955846  0.65098953 -0.36486024\n",
      "   0.41337627 -0.043309    0.91151285 -0.1248958 ]\n",
      " [-2.9063437   3.5540743  -3.2270517  -0.94012856  1.649708    1.7320611\n",
      "   1.0642974  -0.6960582  -2.5516665   1.1240106 ]\n",
      " [-0.5730872   0.18334436 -0.5642702   0.19819821 -1.6337372  -0.08258073\n",
      "  -1.0437071   0.32899314 -0.460819   -0.22783095]\n",
      " [-1.3426679   1.2596312  -1.4375973  -0.15095378 -0.6850945   0.48686105\n",
      "  -0.43438452  0.0228718  -1.1475428   0.18722641]\n",
      " [-2.7875228   2.9622102  -3.0329363  -0.57067394 -0.10834208  1.2952447\n",
      "  -0.06101884 -0.26524138 -2.410815    0.6901754 ]\n",
      " [ 1.7650907  -1.2521799   1.8336651  -0.10083804  2.4291608  -0.3091197\n",
      "   1.5491394  -0.39385286  1.4755477   0.10456493]\n",
      " [-1.5298939   2.279321   -1.7555914  -0.79765993  2.4147737   1.2465318\n",
      "   1.5497541  -0.734436   -1.3766067   0.9464668 ]\n",
      " [-0.8012507   0.4043771  -0.8095372   0.16737224 -1.7237325   0.00587377\n",
      "  -1.1006143   0.32659075 -0.65639526 -0.18995224]\n",
      " [-0.67964846  0.30976227 -0.6820482   0.16661361 -1.5879865  -0.02226481\n",
      "  -1.0141139   0.30697924 -0.55405754 -0.18999991]]\n"
     ]
    }
   ],
   "source": [
    "n = 10\n",
    "g = 10\n",
    "k = 2\n",
    "#Why so small? Just to test whether things are working the way I think they are. \n",
    "U = np.random.randn(n, k).astype(np.float32)\n",
    "V = np.random.randn(g, k).astype(np.float32)\n",
    "X = np.dot(U, V.T)\n",
    "print(X)"
   ]
  },
  {
   "cell_type": "code",
   "execution_count": 13,
   "metadata": {},
   "outputs": [
    {
     "name": "stdout",
     "output_type": "stream",
     "text": [
      "[1.6913744  1.6865463  1.659425   1.4926289  1.0136116  0.62918013\n",
      " 0.53911865 0.46937317 0.32835695 0.16081038 0.08360262 0.04653756\n",
      " 0.03559758 0.02629221 0.02402578 0.02618519 0.02375677 0.01344194\n",
      " 0.012825   0.01747474 0.01922337]\n",
      "[[ 1.124779    0.5127966 ]\n",
      " [-0.89179534 -1.1533647 ]\n",
      " [ 1.2414621   0.77216125]\n",
      " [ 0.02020393  0.48860338]\n",
      " [ 1.1860093  -1.78877   ]\n",
      " [-0.30551708 -0.696926  ]\n",
      " [ 0.7610939  -1.1486385 ]\n",
      " [-0.16039063  0.49105176]\n",
      " [ 1.0014772   0.59920454]\n",
      " [-0.02846567 -0.57487553]]\n"
     ]
    }
   ],
   "source": [
    "neighbors = {\n",
    "    0:[[1, 1.0]],\n",
    "    1:[[0, 1.0]],\n",
    "}\n",
    "U_pred, V_pred = CreateLatentVariables(n, g, k)\n",
    "U_pred, V_pred, trainErrors, testErrors = FactorizeMatrix(X, U_pred, V_pred, neighbors=neighbors, eta=0.1, lamb1=0.02, lamb2=0.1, num_epochs=300, returnErrorVectors=True)\n",
    "print(testErrors)\n",
    "print(V_pred)"
   ]
  }
 ],
 "metadata": {
  "kernelspec": {
   "display_name": "Python 3",
   "language": "python",
   "name": "python3"
  },
  "language_info": {
   "codemirror_mode": {
    "name": "ipython",
    "version": 3
   },
   "file_extension": ".py",
   "mimetype": "text/x-python",
   "name": "python",
   "nbconvert_exporter": "python",
   "pygments_lexer": "ipython3",
   "version": "3.6.6"
  }
 },
 "nbformat": 4,
 "nbformat_minor": 2
}
