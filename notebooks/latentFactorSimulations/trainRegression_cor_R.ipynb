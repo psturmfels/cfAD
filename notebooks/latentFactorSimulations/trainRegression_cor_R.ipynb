{
 "cells": [
  {
   "cell_type": "code",
   "execution_count": 1,
   "metadata": {},
   "outputs": [
    {
     "name": "stderr",
     "output_type": "stream",
     "text": [
      "Loading required package: Matrix\n",
      "Loading required package: grpreg\n",
      "\n",
      "Attaching package: ‘MASS’\n",
      "\n",
      "The following object is masked from ‘package:grpregOverlap’:\n",
      "\n",
      "    select\n",
      "\n",
      "The following object is masked from ‘package:grpreg’:\n",
      "\n",
      "    select\n",
      "\n",
      "Loading required package: foreach\n",
      "Loaded glmnet 2.0-16\n",
      "\n"
     ]
    }
   ],
   "source": [
    "library('SGL')\n",
    "library('grpregOverlap')\n",
    "library('MASS')\n",
    "library('glmnet')\n",
    "library('parallel')"
   ]
  },
  {
   "cell_type": "code",
   "execution_count": 2,
   "metadata": {},
   "outputs": [],
   "source": [
    "numPheno <- 1\n",
    "numGenes <- 2999\n",
    "numSamples <- 500\n",
    "numPaths <- 20"
   ]
  },
  {
   "cell_type": "code",
   "execution_count": 3,
   "metadata": {},
   "outputs": [],
   "source": [
    "readDF <- function(i, dataFileBase='/homes/gws/psturm/simulatedData/corLatentData/df%i.csv') {\n",
    "    ret <- list()\n",
    "    \n",
    "    df <- read.csv(sprintf(dataFileBase, i), header=TRUE)\n",
    "    df = as.data.frame(df)\n",
    "    df_t = as.data.frame(t(df))\n",
    "    colnames(df_t) = c(paste('p', sep='', 1:numPheno), paste('g', sep='', 1:numGenes))\n",
    "    data_mat = df_t[1:numSamples, ]\n",
    "\n",
    "    phenotype_genes <- which(df[['phenotype_genes']][-1] != 0)\n",
    "    y <- data_mat$p1\n",
    "    x <- data.matrix(data_mat[, paste('g', sep='', 1:numGenes)])\n",
    "\n",
    "    bin_path_mat <- df[paste('pathway', 0:(numPaths-1), sep='')]\n",
    "    bin_path_mat <- bin_path_mat[-1, ]\n",
    "\n",
    "    group_index <- integer(numGenes) - 1\n",
    "    group_obj <- which(bin_path_mat == 1, arr.ind=T)\n",
    "    group_index[as.vector(group_obj[, 1])] <- as.vector(group_obj[, 2])\n",
    "    \n",
    "    ret$x <- x\n",
    "    ret$y <- y\n",
    "    ret$group_index <- group_index\n",
    "    \n",
    "    ret$phenotype_genes <- phenotype_genes\n",
    "    \n",
    "    ret$group_df <- lapply(unique(group_index), function(o, gi) { \n",
    "                        paste('g', which(gi == o), sep='')\n",
    "                        }, \n",
    "                group_index)\n",
    "    return(ret)\n",
    "}"
   ]
  },
  {
   "cell_type": "code",
   "execution_count": 4,
   "metadata": {},
   "outputs": [],
   "source": [
    "getCounts <- function(coeffs, reference_index) {\n",
    "    discovered_genes <- which(coeffs != 0)\n",
    "    discovered_genes <- discovered_genes[order(abs(coeffs[discovered_genes]), decreasing=TRUE)]\n",
    "    num_discovered <- length(discovered_genes)\n",
    "    total_count <- cumsum(discovered_genes %in% reference_index)\n",
    "    total_count <- total_count / length(reference_index)\n",
    "    return(total_count)\n",
    "}"
   ]
  },
  {
   "cell_type": "code",
   "execution_count": null,
   "metadata": {},
   "outputs": [],
   "source": [
    "numReps = 49 #should be 49\n",
    "cumulative_overlap_counts <- mclapply(0:numReps, function(i) {\n",
    "    cat(sprintf(\"Started rep:\\t%i, at time %s\\n\", i, Sys.time()), file=\"trainReg_cor_progress.txt\", append=TRUE)\n",
    "    \n",
    "    overlap_counts <- list()\n",
    "    \n",
    "    ret <- readDF(i)\n",
    "    x <- ret$x\n",
    "    y <- ret$y\n",
    "    group_index <- ret$group_index\n",
    "    phenotype_genes <- ret$phenotype_genes\n",
    "    group_df <- ret$group_df\n",
    "    \n",
    "#   ELASTIC NET\n",
    "    elasticnet <- glmnet(x, y, alpha = 0.200000, lambda = 0.106429)\n",
    "    coef_enet <- as.matrix(coef(elasticnet, s=elasticnet$lambda))[-1]\n",
    "    count_enet <- getCounts(coef_enet, phenotype_genes)\n",
    "    overlap_counts$elastic_net <- count_enet\n",
    "\n",
    "#   SPARSE GROUP LASSO\n",
    "    sparse_gl <- SGL(data=list(x=x, y=y), index=group_index, lambda = 0.0175799340984784, type=\"linear\", alpha=0.5)\n",
    "    coef_sgl  <- sparse_gl$beta\n",
    "    count_sgl <- getCounts(coef_sgl, phenotype_genes)\n",
    "    overlap_counts$sparse_gl <- count_sgl\n",
    "    \n",
    "#   OVERLAPPING GROUP LASSO\n",
    "#     overlap_gl <- grpregOverlap(x, y, group_df, penalty=\"grLasso\", alpha=1, lambda=0.1)\n",
    "#     coef_overlap <- as.matrix(overlap_gl$beta)[-1]\n",
    "#     count_overlap <- getCounts(coef_overlap, phenotype_genes)\n",
    "#     overlap_counts$overlap_gl <- count_overlap\n",
    "    cat(sprintf(\"Ended rep:\\t%i, at time %s\\n\", i, Sys.time()), file=\"trainReg_cor_progress.txt\", append=TRUE)\n",
    "    \n",
    "    overlap_counts\n",
    "}, mc.cores=10)"
   ]
  },
  {
   "cell_type": "code",
   "execution_count": null,
   "metadata": {},
   "outputs": [],
   "source": [
    "df_from_counts <- function(counts, name) {\n",
    "    name_list <- lapply(counts, `[[`, name)\n",
    "    maxlength <- max(lengths(name_list))\n",
    "    name_list <- lapply(name_list, function(o, m) {\n",
    "    o <- if (length(o) < m) c(o, integer(m - length(o)) + o[length(o)]) else o\n",
    "}, maxlength)\n",
    "    name_list <- do.call('cbind', name_list)\n",
    "    name_list <- as.data.frame(name_list)\n",
    "    colnames(name_list) <- paste('run', 1:length(name_list), sep='')\n",
    "    name_list\n",
    "}"
   ]
  },
  {
   "cell_type": "code",
   "execution_count": null,
   "metadata": {},
   "outputs": [],
   "source": [
    "elastic_net_df <- df_from_counts(cumulative_overlap_counts, 'elastic_net')\n",
    "sparse_gl_df   <- df_from_counts(cumulative_overlap_counts, 'sparse_gl')\n",
    "# overlap_gl_df  <- df_from_counts(cumulative_overlap_counts, 'overlap_gl')"
   ]
  },
  {
   "cell_type": "code",
   "execution_count": null,
   "metadata": {},
   "outputs": [],
   "source": [
    "baseSaveDir <- '../../DataFrames/corLatentRegression/%s'\n",
    "write.csv(elastic_net_df, file=sprintf(baseSaveDir, 'elastic_net.csv'), row.names=FALSE)\n",
    "write.csv(sparse_gl_df, file=sprintf(baseSaveDir, 'sparse_gl.csv'), row.names=FALSE)\n",
    "# write.csv(overlap_gl_df, file=sprintf(baseSaveDir, 'overlap_gl.csv'), row.names=FALSE)"
   ]
  },
  {
   "cell_type": "code",
   "execution_count": null,
   "metadata": {},
   "outputs": [],
   "source": [
    "save(cumulative_overlap_counts, file='/projects/leelab3/psturm/cor_sim_reg_counts.RData')"
   ]
  }
 ],
 "metadata": {
  "kernelspec": {
   "display_name": "R",
   "language": "R",
   "name": "ir"
  },
  "language_info": {
   "codemirror_mode": "r",
   "file_extension": ".r",
   "mimetype": "text/x-r-source",
   "name": "R",
   "pygments_lexer": "r",
   "version": "3.5.1"
  }
 },
 "nbformat": 4,
 "nbformat_minor": 2
}
