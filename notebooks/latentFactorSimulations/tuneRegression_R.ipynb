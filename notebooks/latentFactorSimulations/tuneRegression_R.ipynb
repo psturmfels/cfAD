{
 "cells": [
  {
   "cell_type": "code",
   "execution_count": 1,
   "metadata": {},
   "outputs": [
    {
     "name": "stderr",
     "output_type": "stream",
     "text": [
      "Loading required package: Matrix\n",
      "Loading required package: grpreg\n",
      "\n",
      "Attaching package: ‘MASS’\n",
      "\n",
      "The following object is masked from ‘package:grpregOverlap’:\n",
      "\n",
      "    select\n",
      "\n",
      "The following object is masked from ‘package:grpreg’:\n",
      "\n",
      "    select\n",
      "\n",
      "Loading required package: foreach\n",
      "Loaded glmnet 2.0-16\n",
      "\n"
     ]
    }
   ],
   "source": [
    "library('SGL')\n",
    "library('grpregOverlap')\n",
    "library('MASS')\n",
    "library('glmnet')\n",
    "library('parallel')"
   ]
  },
  {
   "cell_type": "code",
   "execution_count": 2,
   "metadata": {},
   "outputs": [],
   "source": [
    "df <- read.csv('/projects/leelab2/data/AD_DATA/simulatedData/latentData/df0.csv', header=TRUE)\n",
    "df = as.data.frame(df)\n",
    "numPheno <- 1\n",
    "numGenes <- 2999\n",
    "numSamples <- 500\n",
    "numPaths <- 20"
   ]
  },
  {
   "cell_type": "code",
   "execution_count": 3,
   "metadata": {},
   "outputs": [],
   "source": [
    "df_t = as.data.frame(t(df))\n",
    "colnames(df_t) = c(paste('p', sep='', 1:numPheno), paste('g', sep='', 1:numGenes))\n",
    "data_mat = df_t[1:numSamples, ]"
   ]
  },
  {
   "cell_type": "code",
   "execution_count": 4,
   "metadata": {},
   "outputs": [],
   "source": [
    "bin_path_mat <- df[paste('pathway', 0:(numPaths-1), sep='')]\n",
    "bin_path_mat <- bin_path_mat[-1, ]"
   ]
  },
  {
   "cell_type": "code",
   "execution_count": 5,
   "metadata": {},
   "outputs": [],
   "source": [
    "group_index <- integer(numGenes) - 1\n",
    "group_obj <- which(bin_path_mat == 1, arr.ind=T)\n",
    "group_index[as.vector(group_obj[, 1])] <- as.vector(group_obj[, 2])"
   ]
  },
  {
   "cell_type": "code",
   "execution_count": 6,
   "metadata": {},
   "outputs": [],
   "source": [
    "y <- data_mat$p1\n",
    "x <- data.matrix(data_mat[, paste('g', sep='', 1:numGenes)])"
   ]
  },
  {
   "cell_type": "code",
   "execution_count": 7,
   "metadata": {},
   "outputs": [
    {
     "data": {
      "text/html": [
       "<table>\n",
       "<thead><tr><th></th><th scope=col>g1</th><th scope=col>g2</th><th scope=col>g3</th><th scope=col>g4</th><th scope=col>g5</th><th scope=col>g6</th><th scope=col>g7</th><th scope=col>g8</th><th scope=col>g9</th><th scope=col>g10</th><th scope=col>⋯</th><th scope=col>g2990</th><th scope=col>g2991</th><th scope=col>g2992</th><th scope=col>g2993</th><th scope=col>g2994</th><th scope=col>g2995</th><th scope=col>g2996</th><th scope=col>g2997</th><th scope=col>g2998</th><th scope=col>g2999</th></tr></thead>\n",
       "<tbody>\n",
       "\t<tr><th scope=row>X0</th><td> 0.90378750 </td><td> 4.94927260 </td><td> 2.509696000</td><td>-0.7380382  </td><td>-2.8428202  </td><td> 1.5988823  </td><td> 2.5764920  </td><td>-0.7849524  </td><td> 3.7404761  </td><td>-0.08895636 </td><td>⋯           </td><td> 1.2338378  </td><td> 3.02199650 </td><td>-0.59049314 </td><td> 0.78485674 </td><td>-0.2819066  </td><td>-2.1370814  </td><td>-3.448518   </td><td> 0.7181603  </td><td>-0.2944965  </td><td>-3.339412500</td></tr>\n",
       "\t<tr><th scope=row>X1</th><td> 0.08057935 </td><td>-0.07781644 </td><td> 0.558197000</td><td>-0.6558409  </td><td>-2.3295600  </td><td> 1.2521298  </td><td>-1.1082599  </td><td>-0.9486393  </td><td>-0.3081696  </td><td>-1.56863030 </td><td>⋯           </td><td>-0.4627428  </td><td> 0.61619250 </td><td>-0.47606972 </td><td>-0.05841938 </td><td> 0.3072692  </td><td> 1.6511703  </td><td> 4.955984   </td><td>-1.1770304  </td><td>-2.2107100  </td><td> 0.003712148</td></tr>\n",
       "\t<tr><th scope=row>X2</th><td> 3.05009300 </td><td>-5.80800340 </td><td> 1.662247000</td><td> 1.5251266  </td><td>-0.4307933  </td><td> 0.4878784  </td><td>-0.5518155  </td><td>-1.2150016  </td><td>-3.8722043  </td><td> 2.29848430 </td><td>⋯           </td><td> 0.5674718  </td><td>-3.70858290 </td><td> 2.26604900 </td><td> 0.07283896 </td><td>-1.1636672  </td><td> 1.0631675  </td><td>-1.361657   </td><td> 0.8652222  </td><td> 1.4715338  </td><td>-0.788489460</td></tr>\n",
       "\t<tr><th scope=row>X3</th><td> 0.25618672 </td><td>-0.63430000 </td><td>-0.001989812</td><td>-5.3139140  </td><td>-3.2980275  </td><td> 2.9475412  </td><td>-0.9283505  </td><td>-1.8069029  </td><td> 1.5106225  </td><td> 1.93547930 </td><td>⋯           </td><td>-0.6009167  </td><td> 1.02343260 </td><td> 0.01151738 </td><td> 3.85393380 </td><td>-1.0337965  </td><td>-1.1797045  </td><td> 5.139686   </td><td> 0.2146778  </td><td>-0.9214452  </td><td>-3.691398100</td></tr>\n",
       "\t<tr><th scope=row>X4</th><td>-1.06209170 </td><td> 2.77575060 </td><td>-1.120023700</td><td> 1.4179718  </td><td> 0.5674591  </td><td>-1.4729061  </td><td> 2.7214885  </td><td> 1.8432969  </td><td> 2.4733315  </td><td>-1.08108890 </td><td>⋯           </td><td> 2.5037190  </td><td> 0.06231782 </td><td> 1.78544970 </td><td> 0.62754620 </td><td>-0.9591803  </td><td>-2.3527830  </td><td>-2.062015   </td><td>-4.1541340  </td><td> 2.6670900  </td><td>-3.254387000</td></tr>\n",
       "\t<tr><th scope=row>X5</th><td>-1.06973470 </td><td> 0.25288522 </td><td>-1.926276600</td><td> 0.7995334  </td><td>-1.7876165  </td><td>-0.5041668  </td><td> 2.0264773  </td><td> 0.3523512  </td><td>-0.4164423  </td><td> 0.16083632 </td><td>⋯           </td><td> 2.1026115  </td><td>-3.56904360 </td><td> 0.89119720 </td><td>-0.14293931 </td><td>-0.3438913  </td><td>-0.8105026  </td><td>-2.464616   </td><td>-2.4090330  </td><td>-0.6562045  </td><td>-0.501049160</td></tr>\n",
       "</tbody>\n",
       "</table>\n"
      ],
      "text/latex": [
       "\\begin{tabular}{r|lllllllllllllllllllllllllllllllllllllllllllllllllllllllllllllllllllllllllllllllllllllllllllllllllllllllllllllllllllllllllllllllllllllllllllllllllllllllllllllllllllllllllllllllllllllllllllllllllllllllllllllllllllllllllllllllllllllllllllllllllllllllllllllllllllllllllllllllllllllllllllllllllllllllllllllllllllllllllllllllllllllllllllllllllllllllllllllllllllllllllllllllllllllllllllllllllllllllllllllllllllllllllllllllllllllllllllllllllllllllllllllllllllllllllllllllllllllllllllllllllllllllllllllllllllllllllllllllllllllllllllllllllllllllllllllllllllllllllllllllllllllllllllllllllllllllllllllllllllllllllllllllllllllllllllllllllllllllllllllllllllllllllllllllllllllllllllllllllllllllllllllllllllllllllllllllllllllllllllllllllllllllllllllllllllllllllllllllllllllllllllllllllllllllllllllllllllllllllllllllllllllllllllllllllllllllllllllllllllllllllllllllllllllllllllllllllllllllllllllllllllllllllllllllllllllllllllllllllllllllllllllllllllllllllllllllllllllllllllllllllllllllllllllllllllllllllllllllllllllllllllllllllllllllllllllllllllllllllllllllllllllllllllllllllllllllllllllllllllllllllllllllllllllllllllllllllllllllllllllllllllllllllllllllllllllllllllllllllllllllllllllllllllllllllllllllllllllllllllllllllllllllllllllllllllllllllllllllllllllllllllllllllllllllllllllllllllllllllllllllllllllllllllllllllllllllllllllllllllllllllllllllllllllllllllllllllllllllllllllllllllllllllllllllllllllllllllllllllllllllllllllllllllllllllllllllllllllllllllllllllllllllllllllllllllllllllllllllllllllllllllllllllllllllllllllllllllllllllllllllllllllllllllllllllllllllllllllllllllllllllllllllllllllllllllllllllllllllllllllllllllllllllllllllllllllllllllllllllllllllllllllllllllllllllllllllllllllllllllllllllllllllllllllllllllllllllllllllllllllllllllllllllllllllllllllllllllllllllllllllllllllllllllllllllllllllllllllllllllllllllllllllllllllllllllllllllllllllllllllllllllllllllllllllllllllllllllllllllllllllllllllllllllllllllllllllllllllllllllllllllllllllllllllllllllllllllllllllllllllllllllllllllllllllllllllllllllllllllllllllllllllllllllllllllllllllllllllllllllllllllllllllllllllllllllllllllllllllllllllllllllllllllllllllllllllllllllllllllllllllllllllllllllllllllllllllllllllllllllllllllllllllllllllllllllllllllllllllllllllllllllllllllllllllllllllllllllllllllllllllllllllllllllllllllllllllllllllllllllllllllllllllllllllllllllllllllllllllllllllllllllllllllllllllllllllllllllllllllllllllllllllllllllllllllllllllllllllllllllllllllllllllllllllllllllllllllllllllllllllllllllllllllllllllllllllllllllllllllllllllllllllllllllllllllllllllllllllllllllllllllllllllllllllllllllllllllllllllllllllllllllllllllllllllllllllllllllllllllllllllllllllllllllllllllllllllllllllllllllllllllllllllllllllllllllllllllllllllllllllllllllllllllllllllllllllllllllllllllllllllllllllllllllllllllllllllllllllllllllllllllllllllllllllllllllllllllllllllllllllllllllllllllllllllllllllllllllllllllllllllllllllllllllllllllllllllllllllllllllllllllllllllllllllllllllllllllllllllllllllllllllllllllllllllllllllllllllllllllllllllllllllllllllllllllllllllllllllllllllllll}\n",
       "  & g1 & g2 & g3 & g4 & g5 & g6 & g7 & g8 & g9 & g10 & ⋯ & g2990 & g2991 & g2992 & g2993 & g2994 & g2995 & g2996 & g2997 & g2998 & g2999\\\\\n",
       "\\hline\n",
       "\tX0 &  0.90378750  &  4.94927260  &  2.509696000 & -0.7380382   & -2.8428202   &  1.5988823   &  2.5764920   & -0.7849524   &  3.7404761   & -0.08895636  & ⋯            &  1.2338378   &  3.02199650  & -0.59049314  &  0.78485674  & -0.2819066   & -2.1370814   & -3.448518    &  0.7181603   & -0.2944965   & -3.339412500\\\\\n",
       "\tX1 &  0.08057935  & -0.07781644  &  0.558197000 & -0.6558409   & -2.3295600   &  1.2521298   & -1.1082599   & -0.9486393   & -0.3081696   & -1.56863030  & ⋯            & -0.4627428   &  0.61619250  & -0.47606972  & -0.05841938  &  0.3072692   &  1.6511703   &  4.955984    & -1.1770304   & -2.2107100   &  0.003712148\\\\\n",
       "\tX2 &  3.05009300  & -5.80800340  &  1.662247000 &  1.5251266   & -0.4307933   &  0.4878784   & -0.5518155   & -1.2150016   & -3.8722043   &  2.29848430  & ⋯            &  0.5674718   & -3.70858290  &  2.26604900  &  0.07283896  & -1.1636672   &  1.0631675   & -1.361657    &  0.8652222   &  1.4715338   & -0.788489460\\\\\n",
       "\tX3 &  0.25618672  & -0.63430000  & -0.001989812 & -5.3139140   & -3.2980275   &  2.9475412   & -0.9283505   & -1.8069029   &  1.5106225   &  1.93547930  & ⋯            & -0.6009167   &  1.02343260  &  0.01151738  &  3.85393380  & -1.0337965   & -1.1797045   &  5.139686    &  0.2146778   & -0.9214452   & -3.691398100\\\\\n",
       "\tX4 & -1.06209170  &  2.77575060  & -1.120023700 &  1.4179718   &  0.5674591   & -1.4729061   &  2.7214885   &  1.8432969   &  2.4733315   & -1.08108890  & ⋯            &  2.5037190   &  0.06231782  &  1.78544970  &  0.62754620  & -0.9591803   & -2.3527830   & -2.062015    & -4.1541340   &  2.6670900   & -3.254387000\\\\\n",
       "\tX5 & -1.06973470  &  0.25288522  & -1.926276600 &  0.7995334   & -1.7876165   & -0.5041668   &  2.0264773   &  0.3523512   & -0.4164423   &  0.16083632  & ⋯            &  2.1026115   & -3.56904360  &  0.89119720  & -0.14293931  & -0.3438913   & -0.8105026   & -2.464616    & -2.4090330   & -0.6562045   & -0.501049160\\\\\n",
       "\\end{tabular}\n"
      ],
      "text/markdown": [
       "\n",
       "| <!--/--> | g1 | g2 | g3 | g4 | g5 | g6 | g7 | g8 | g9 | g10 | ⋯ | g2990 | g2991 | g2992 | g2993 | g2994 | g2995 | g2996 | g2997 | g2998 | g2999 | \n",
       "|---|---|---|---|---|---|\n",
       "| X0 |  0.90378750  |  4.94927260  |  2.509696000 | -0.7380382   | -2.8428202   |  1.5988823   |  2.5764920   | -0.7849524   |  3.7404761   | -0.08895636  | ⋯            |  1.2338378   |  3.02199650  | -0.59049314  |  0.78485674  | -0.2819066   | -2.1370814   | -3.448518    |  0.7181603   | -0.2944965   | -3.339412500 | \n",
       "| X1 |  0.08057935  | -0.07781644  |  0.558197000 | -0.6558409   | -2.3295600   |  1.2521298   | -1.1082599   | -0.9486393   | -0.3081696   | -1.56863030  | ⋯            | -0.4627428   |  0.61619250  | -0.47606972  | -0.05841938  |  0.3072692   |  1.6511703   |  4.955984    | -1.1770304   | -2.2107100   |  0.003712148 | \n",
       "| X2 |  3.05009300  | -5.80800340  |  1.662247000 |  1.5251266   | -0.4307933   |  0.4878784   | -0.5518155   | -1.2150016   | -3.8722043   |  2.29848430  | ⋯            |  0.5674718   | -3.70858290  |  2.26604900  |  0.07283896  | -1.1636672   |  1.0631675   | -1.361657    |  0.8652222   |  1.4715338   | -0.788489460 | \n",
       "| X3 |  0.25618672  | -0.63430000  | -0.001989812 | -5.3139140   | -3.2980275   |  2.9475412   | -0.9283505   | -1.8069029   |  1.5106225   |  1.93547930  | ⋯            | -0.6009167   |  1.02343260  |  0.01151738  |  3.85393380  | -1.0337965   | -1.1797045   |  5.139686    |  0.2146778   | -0.9214452   | -3.691398100 | \n",
       "| X4 | -1.06209170  |  2.77575060  | -1.120023700 |  1.4179718   |  0.5674591   | -1.4729061   |  2.7214885   |  1.8432969   |  2.4733315   | -1.08108890  | ⋯            |  2.5037190   |  0.06231782  |  1.78544970  |  0.62754620  | -0.9591803   | -2.3527830   | -2.062015    | -4.1541340   |  2.6670900   | -3.254387000 | \n",
       "| X5 | -1.06973470  |  0.25288522  | -1.926276600 |  0.7995334   | -1.7876165   | -0.5041668   |  2.0264773   |  0.3523512   | -0.4164423   |  0.16083632  | ⋯            |  2.1026115   | -3.56904360  |  0.89119720  | -0.14293931  | -0.3438913   | -0.8105026   | -2.464616    | -2.4090330   | -0.6562045   | -0.501049160 | \n",
       "\n",
       "\n"
      ],
      "text/plain": [
       "   g1          g2          g3           g4         g5         g6        \n",
       "X0  0.90378750  4.94927260  2.509696000 -0.7380382 -2.8428202  1.5988823\n",
       "X1  0.08057935 -0.07781644  0.558197000 -0.6558409 -2.3295600  1.2521298\n",
       "X2  3.05009300 -5.80800340  1.662247000  1.5251266 -0.4307933  0.4878784\n",
       "X3  0.25618672 -0.63430000 -0.001989812 -5.3139140 -3.2980275  2.9475412\n",
       "X4 -1.06209170  2.77575060 -1.120023700  1.4179718  0.5674591 -1.4729061\n",
       "X5 -1.06973470  0.25288522 -1.926276600  0.7995334 -1.7876165 -0.5041668\n",
       "   g7         g8         g9         g10         ⋯ g2990      g2991      \n",
       "X0  2.5764920 -0.7849524  3.7404761 -0.08895636 ⋯  1.2338378  3.02199650\n",
       "X1 -1.1082599 -0.9486393 -0.3081696 -1.56863030 ⋯ -0.4627428  0.61619250\n",
       "X2 -0.5518155 -1.2150016 -3.8722043  2.29848430 ⋯  0.5674718 -3.70858290\n",
       "X3 -0.9283505 -1.8069029  1.5106225  1.93547930 ⋯ -0.6009167  1.02343260\n",
       "X4  2.7214885  1.8432969  2.4733315 -1.08108890 ⋯  2.5037190  0.06231782\n",
       "X5  2.0264773  0.3523512 -0.4164423  0.16083632 ⋯  2.1026115 -3.56904360\n",
       "   g2992       g2993       g2994      g2995      g2996     g2997     \n",
       "X0 -0.59049314  0.78485674 -0.2819066 -2.1370814 -3.448518  0.7181603\n",
       "X1 -0.47606972 -0.05841938  0.3072692  1.6511703  4.955984 -1.1770304\n",
       "X2  2.26604900  0.07283896 -1.1636672  1.0631675 -1.361657  0.8652222\n",
       "X3  0.01151738  3.85393380 -1.0337965 -1.1797045  5.139686  0.2146778\n",
       "X4  1.78544970  0.62754620 -0.9591803 -2.3527830 -2.062015 -4.1541340\n",
       "X5  0.89119720 -0.14293931 -0.3438913 -0.8105026 -2.464616 -2.4090330\n",
       "   g2998      g2999       \n",
       "X0 -0.2944965 -3.339412500\n",
       "X1 -2.2107100  0.003712148\n",
       "X2  1.4715338 -0.788489460\n",
       "X3 -0.9214452 -3.691398100\n",
       "X4  2.6670900 -3.254387000\n",
       "X5 -0.6562045 -0.501049160"
      ]
     },
     "metadata": {},
     "output_type": "display_data"
    }
   ],
   "source": [
    "head(x)"
   ]
  },
  {
   "cell_type": "code",
   "execution_count": 8,
   "metadata": {},
   "outputs": [
    {
     "data": {
      "text/html": [
       "<ol class=list-inline>\n",
       "\t<li>500</li>\n",
       "\t<li>2999</li>\n",
       "</ol>\n"
      ],
      "text/latex": [
       "\\begin{enumerate*}\n",
       "\\item 500\n",
       "\\item 2999\n",
       "\\end{enumerate*}\n"
      ],
      "text/markdown": [
       "1. 500\n",
       "2. 2999\n",
       "\n",
       "\n"
      ],
      "text/plain": [
       "[1]  500 2999"
      ]
     },
     "metadata": {},
     "output_type": "display_data"
    }
   ],
   "source": [
    "dim(x)"
   ]
  },
  {
   "cell_type": "code",
   "execution_count": 9,
   "metadata": {},
   "outputs": [],
   "source": [
    "filtered_group_index <- group_index[group_index != -1]\n",
    "filtered_x <- x[, which(group_index != -1)]"
   ]
  },
  {
   "cell_type": "code",
   "execution_count": 10,
   "metadata": {},
   "outputs": [],
   "source": [
    "alphalist <- seq(0,1,by=0.1)\n",
    "elasticnet <- lapply(alphalist, function(a){\n",
    "  cv.glmnet(x, y, alpha=a)\n",
    "})"
   ]
  },
  {
   "cell_type": "code",
   "execution_count": 11,
   "metadata": {},
   "outputs": [],
   "source": [
    "elasticnet_df <- data.frame('lambda.min' = as.numeric(unlist(lapply(elasticnet, function(o) {o$lambda.min}))), \n",
    "                            'cvm' = as.numeric(unlist(lapply(elasticnet, function(o) {\n",
    "                                o$cvm[o$lambda == o$lambda.min]}))),\n",
    "                            'cvsd' = as.numeric(unlist(lapply(elasticnet, function(o) {\n",
    "                                o$cvsd[o$lambda == o$lambda.min]}))),\n",
    "                            'alpha' = alphalist)"
   ]
  },
  {
   "cell_type": "code",
   "execution_count": 12,
   "metadata": {},
   "outputs": [
    {
     "data": {
      "text/html": [
       "<table>\n",
       "<thead><tr><th scope=col>lambda.min</th><th scope=col>cvm</th><th scope=col>cvsd</th><th scope=col>alpha</th></tr></thead>\n",
       "<tbody>\n",
       "\t<tr><td>11.64369762 </td><td>0.020560713 </td><td>0.0015956437</td><td>0.0         </td></tr>\n",
       "\t<tr><td> 0.20347692 </td><td>0.004254699 </td><td>0.0003877271</td><td>0.1         </td></tr>\n",
       "\t<tr><td> 0.11165784 </td><td>0.004228812 </td><td>0.0004428322</td><td>0.2         </td></tr>\n",
       "\t<tr><td> 0.07798301 </td><td>0.004192652 </td><td>0.0002672496</td><td>0.3         </td></tr>\n",
       "\t<tr><td> 0.06127217 </td><td>0.004230724 </td><td>0.0002958080</td><td>0.4         </td></tr>\n",
       "\t<tr><td> 0.04901773 </td><td>0.004064097 </td><td>0.0003348671</td><td>0.5         </td></tr>\n",
       "\t<tr><td> 0.04084811 </td><td>0.004026556 </td><td>0.0004258229</td><td>0.6         </td></tr>\n",
       "\t<tr><td> 0.03667982 </td><td>0.004276162 </td><td>0.0003272602</td><td>0.7         </td></tr>\n",
       "\t<tr><td> 0.03209484 </td><td>0.004279983 </td><td>0.0003559258</td><td>0.8         </td></tr>\n",
       "\t<tr><td> 0.02852875 </td><td>0.004047531 </td><td>0.0002629238</td><td>0.9         </td></tr>\n",
       "\t<tr><td> 0.02567588 </td><td>0.004051735 </td><td>0.0002670260</td><td>1.0         </td></tr>\n",
       "</tbody>\n",
       "</table>\n"
      ],
      "text/latex": [
       "\\begin{tabular}{r|llll}\n",
       " lambda.min & cvm & cvsd & alpha\\\\\n",
       "\\hline\n",
       "\t 11.64369762  & 0.020560713  & 0.0015956437 & 0.0         \\\\\n",
       "\t  0.20347692  & 0.004254699  & 0.0003877271 & 0.1         \\\\\n",
       "\t  0.11165784  & 0.004228812  & 0.0004428322 & 0.2         \\\\\n",
       "\t  0.07798301  & 0.004192652  & 0.0002672496 & 0.3         \\\\\n",
       "\t  0.06127217  & 0.004230724  & 0.0002958080 & 0.4         \\\\\n",
       "\t  0.04901773  & 0.004064097  & 0.0003348671 & 0.5         \\\\\n",
       "\t  0.04084811  & 0.004026556  & 0.0004258229 & 0.6         \\\\\n",
       "\t  0.03667982  & 0.004276162  & 0.0003272602 & 0.7         \\\\\n",
       "\t  0.03209484  & 0.004279983  & 0.0003559258 & 0.8         \\\\\n",
       "\t  0.02852875  & 0.004047531  & 0.0002629238 & 0.9         \\\\\n",
       "\t  0.02567588  & 0.004051735  & 0.0002670260 & 1.0         \\\\\n",
       "\\end{tabular}\n"
      ],
      "text/markdown": [
       "\n",
       "lambda.min | cvm | cvsd | alpha | \n",
       "|---|---|---|---|---|---|---|---|---|---|---|\n",
       "| 11.64369762  | 0.020560713  | 0.0015956437 | 0.0          | \n",
       "|  0.20347692  | 0.004254699  | 0.0003877271 | 0.1          | \n",
       "|  0.11165784  | 0.004228812  | 0.0004428322 | 0.2          | \n",
       "|  0.07798301  | 0.004192652  | 0.0002672496 | 0.3          | \n",
       "|  0.06127217  | 0.004230724  | 0.0002958080 | 0.4          | \n",
       "|  0.04901773  | 0.004064097  | 0.0003348671 | 0.5          | \n",
       "|  0.04084811  | 0.004026556  | 0.0004258229 | 0.6          | \n",
       "|  0.03667982  | 0.004276162  | 0.0003272602 | 0.7          | \n",
       "|  0.03209484  | 0.004279983  | 0.0003559258 | 0.8          | \n",
       "|  0.02852875  | 0.004047531  | 0.0002629238 | 0.9          | \n",
       "|  0.02567588  | 0.004051735  | 0.0002670260 | 1.0          | \n",
       "\n",
       "\n"
      ],
      "text/plain": [
       "   lambda.min  cvm         cvsd         alpha\n",
       "1  11.64369762 0.020560713 0.0015956437 0.0  \n",
       "2   0.20347692 0.004254699 0.0003877271 0.1  \n",
       "3   0.11165784 0.004228812 0.0004428322 0.2  \n",
       "4   0.07798301 0.004192652 0.0002672496 0.3  \n",
       "5   0.06127217 0.004230724 0.0002958080 0.4  \n",
       "6   0.04901773 0.004064097 0.0003348671 0.5  \n",
       "7   0.04084811 0.004026556 0.0004258229 0.6  \n",
       "8   0.03667982 0.004276162 0.0003272602 0.7  \n",
       "9   0.03209484 0.004279983 0.0003559258 0.8  \n",
       "10  0.02852875 0.004047531 0.0002629238 0.9  \n",
       "11  0.02567588 0.004051735 0.0002670260 1.0  "
      ]
     },
     "metadata": {},
     "output_type": "display_data"
    }
   ],
   "source": [
    "elasticnet_df"
   ]
  },
  {
   "cell_type": "code",
   "execution_count": 13,
   "metadata": {},
   "outputs": [
    {
     "data": {
      "text/html": [
       "'double'"
      ],
      "text/latex": [
       "'double'"
      ],
      "text/markdown": [
       "'double'"
      ],
      "text/plain": [
       "[1] \"double\""
      ]
     },
     "metadata": {},
     "output_type": "display_data"
    }
   ],
   "source": [
    "typeof(elasticnet_df$alpha)"
   ]
  },
  {
   "cell_type": "code",
   "execution_count": 14,
   "metadata": {},
   "outputs": [
    {
     "data": {
      "image/png": "[encoded data removed]",
      "text/plain": [
       "Plot with title “Plot of error as a function of alpha, ind”"
      ]
     },
     "metadata": {},
     "output_type": "display_data",
     "source": "R display func"
    }
   ],
   "source": [
    "best_alpha <- elasticnet_df[elasticnet_df$cvm == min(elasticnet_df$cvm),]$alpha\n",
    "best_lambda <- elasticnet_df[elasticnet_df$cvm == min(elasticnet_df$cvm),]$lambda.min\n",
    "plot(elasticnet_df$alpha, elasticnet_df$cvm,\n",
    "     ylim=range(c(elasticnet_df$cvm-elasticnet_df$cvsd, elasticnet_df$cvm+elasticnet_df$cvsd)),\n",
    "     pch=19, xlab=\"Alpha\", ylab=\"Mean squared error\",\n",
    "     main=\"Plot of error as a function of alpha, ind\",\n",
    "     col=ifelse(elasticnet_df$alpha==best_alpha, \"red\", \"black\")\n",
    "    )\n",
    "arrows(elasticnet_df$alpha, elasticnet_df$cvm-elasticnet_df$cvsd, \n",
    "       elasticnet_df$alpha, elasticnet_df$cvm+elasticnet_df$cvsd, \n",
    "       length=0.05, angle=90, code=3,\n",
    "       col=ifelse(elasticnet_df$alpha==best_alpha, \"red\", \"black\"))"
   ]
  },
  {
   "cell_type": "code",
   "execution_count": 15,
   "metadata": {},
   "outputs": [
    {
     "name": "stdout",
     "output_type": "stream",
     "text": [
      "Elastic net: best alpha = 0.600000, best lambda = 0.040848"
     ]
    }
   ],
   "source": [
    "cat(sprintf('Elastic net: best alpha = %f, best lambda = %f', best_alpha, best_lambda))"
   ]
  },
  {
   "cell_type": "code",
   "execution_count": null,
   "metadata": {},
   "outputs": [],
   "source": [
    "alphalist <- seq(0,1,by=0.1)\n",
    "sparse_gl <- lapply(alphalist, function(a){\n",
    "  cvSGL(data=list(x=filtered_x, y=y), index=filtered_group_index, type=\"linear\", alpha=a)\n",
    "})"
   ]
  },
  {
   "cell_type": "code",
   "execution_count": null,
   "metadata": {},
   "outputs": [],
   "source": [
    "sparse_gl_df <- data.frame('lambda.min' = as.numeric(unlist(lapply(sparse_gl, function(o) {\n",
    "                            o$lambdas[o$lldiff == min(o$lldiff)]}))), \n",
    "                            'nll' = as.numeric(unlist(lapply(sparse_gl, function(o) {\n",
    "                                min(o$lldiff)}))),\n",
    "                            'nllsd' = as.numeric(unlist(lapply(sparse_gl, function(o) {\n",
    "                                o$llSD[o$lldiff == min(o$lldiff)]}))),\n",
    "                            'alpha' = seq(0,1,by=0.1))\n",
    "sparse_gl_df"
   ]
  },
  {
   "cell_type": "code",
   "execution_count": null,
   "metadata": {},
   "outputs": [],
   "source": [
    "best_alpha_sgl <- sparse_gl_df[sparse_gl_df$nll == min(sparse_gl_df$nll),]$alpha\n",
    "best_lambda_sgl <- sparse_gl_df[sparse_gl_df$nll == min(sparse_gl_df$nll),]$lambda.min\n",
    "plot(sparse_gl_df$alpha, sparse_gl_df$nll,\n",
    "     ylim=range(c(sparse_gl_df$nll-sparse_gl_df$nllsd, sparse_gl_df$nll+sparse_gl_df$nllsd)),\n",
    "     pch=19, xlab=\"Alpha\", ylab=\"Negative Log Likelihood\",\n",
    "     main=\"Plot of error as a function of alpha, ind\",\n",
    "     col=ifelse(sparse_gl_df$alpha==best_alpha_sgl, \"red\", \"black\")\n",
    "    )\n",
    "arrows(sparse_gl_df$alpha, sparse_gl_df$nll-sparse_gl_df$nllsd,\n",
    "       sparse_gl_df$alpha, sparse_gl_df$nll+sparse_gl_df$nllsd, \n",
    "       length=0.05, angle=90, code=3,\n",
    "       col=ifelse(sparse_gl_df$alpha==best_alpha_sgl, \"red\", \"black\"))"
   ]
  },
  {
   "cell_type": "code",
   "execution_count": null,
   "metadata": {},
   "outputs": [],
   "source": [
    "cat(sprintf('Sparse Group Lasso: best alpha = %f, best lambda = %f', best_alpha_sgl, best_lambda_sgl))"
   ]
  }
 ],
 "metadata": {
  "kernelspec": {
   "display_name": "R",
   "language": "R",
   "name": "ir"
  },
  "language_info": {
   "codemirror_mode": "r",
   "file_extension": ".r",
   "mimetype": "text/x-r-source",
   "name": "R",
   "pygments_lexer": "r",
   "version": "3.5.1"
  }
 },
 "nbformat": 4,
 "nbformat_minor": 2
}
