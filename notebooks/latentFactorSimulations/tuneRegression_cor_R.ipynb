{
 "cells": [
  {
   "cell_type": "code",
   "execution_count": 1,
   "metadata": {},
   "outputs": [
    {
     "name": "stderr",
     "output_type": "stream",
     "text": [
      "Loading required package: Matrix\n",
      "Loading required package: grpreg\n",
      "\n",
      "Attaching package: ‘MASS’\n",
      "\n",
      "The following object is masked from ‘package:grpregOverlap’:\n",
      "\n",
      "    select\n",
      "\n",
      "The following object is masked from ‘package:grpreg’:\n",
      "\n",
      "    select\n",
      "\n",
      "Loading required package: foreach\n",
      "Loaded glmnet 2.0-16\n",
      "\n"
     ]
    }
   ],
   "source": [
    "library('SGL')\n",
    "library('grpregOverlap')\n",
    "library('MASS')\n",
    "library('glmnet')\n",
    "library('parallel')"
   ]
  },
  {
   "cell_type": "code",
   "execution_count": 2,
   "metadata": {},
   "outputs": [],
   "source": [
    "df <- read.csv('/projects/leelab2/data/AD_DATA/simulatedData/corLatentData/df0.csv', header=TRUE)\n",
    "df = as.data.frame(df)\n",
    "numPheno <- 1\n",
    "numGenes <- 2999\n",
    "numSamples <- 500\n",
    "numPaths <- 20"
   ]
  },
  {
   "cell_type": "code",
   "execution_count": 3,
   "metadata": {},
   "outputs": [],
   "source": [
    "df_t = as.data.frame(t(df))\n",
    "colnames(df_t) = c(paste('p', sep='', 1:numPheno), paste('g', sep='', 1:numGenes))\n",
    "data_mat = df_t[1:numSamples, ]"
   ]
  },
  {
   "cell_type": "code",
   "execution_count": 4,
   "metadata": {},
   "outputs": [],
   "source": [
    "bin_path_mat <- df[paste('pathway', 0:(numPaths-1), sep='')]\n",
    "bin_path_mat <- bin_path_mat[-1, ]"
   ]
  },
  {
   "cell_type": "code",
   "execution_count": 5,
   "metadata": {},
   "outputs": [],
   "source": [
    "group_index <- integer(numGenes) - 1\n",
    "group_obj <- which(bin_path_mat == 1, arr.ind=T)\n",
    "group_index[as.vector(group_obj[, 1])] <- as.vector(group_obj[, 2])"
   ]
  },
  {
   "cell_type": "code",
   "execution_count": 6,
   "metadata": {},
   "outputs": [],
   "source": [
    "y <- data_mat$p1\n",
    "x <- data.matrix(data_mat[, paste('g', sep='', 1:numGenes)])"
   ]
  },
  {
   "cell_type": "code",
   "execution_count": 7,
   "metadata": {},
   "outputs": [
    {
     "data": {
      "text/html": [
       "<table>\n",
       "<thead><tr><th></th><th scope=col>g1</th><th scope=col>g2</th><th scope=col>g3</th><th scope=col>g4</th><th scope=col>g5</th><th scope=col>g6</th><th scope=col>g7</th><th scope=col>g8</th><th scope=col>g9</th><th scope=col>g10</th><th scope=col>⋯</th><th scope=col>g2990</th><th scope=col>g2991</th><th scope=col>g2992</th><th scope=col>g2993</th><th scope=col>g2994</th><th scope=col>g2995</th><th scope=col>g2996</th><th scope=col>g2997</th><th scope=col>g2998</th><th scope=col>g2999</th></tr></thead>\n",
       "<tbody>\n",
       "\t<tr><th scope=row>X0</th><td>-1.5629509 </td><td>-6.328167  </td><td>4.918395   </td><td>-3.8785188 </td><td> 1.52304584</td><td> 0.01924819</td><td>-1.554705  </td><td> 1.3218619 </td><td>-3.23178450</td><td>-0.1270229 </td><td>⋯          </td><td>-2.515240  </td><td>-0.2014522 </td><td>-3.344730  </td><td> 2.1418193 </td><td> 2.7575105 </td><td>-0.9670143 </td><td>-0.8508906 </td><td>-2.4654806 </td><td> 1.7118655 </td><td> 0.9440689 </td></tr>\n",
       "\t<tr><th scope=row>X1</th><td> 1.6246402 </td><td>-5.862356  </td><td>2.383362   </td><td>-6.3337186 </td><td>-6.14505201</td><td>-3.68435918</td><td>-5.884112  </td><td>-2.0738483 </td><td>-0.06172857</td><td>-0.9868279 </td><td>⋯          </td><td>-2.132301  </td><td> 4.4913966 </td><td> 4.985421  </td><td>-7.4642359 </td><td> 5.9411323 </td><td> 2.8449759 </td><td>-2.6383309 </td><td> 3.8280864 </td><td>-1.7499010 </td><td>-3.7506476 </td></tr>\n",
       "\t<tr><th scope=row>X2</th><td> 0.6446129 </td><td> 1.862584  </td><td>2.751587   </td><td> 0.4487882 </td><td> 1.30019296</td><td>-0.27388784</td><td> 5.913832  </td><td> 5.9427777 </td><td>-1.41858882</td><td>-4.0539614 </td><td>⋯          </td><td>-3.099782  </td><td> 2.4109552 </td><td>-4.182873  </td><td> 7.4215098 </td><td> 0.8381763 </td><td>-6.2138083 </td><td>-0.6451277 </td><td>-4.0013592 </td><td> 1.1368586 </td><td> 2.0895018 </td></tr>\n",
       "\t<tr><th scope=row>X3</th><td> 0.8140002 </td><td> 3.753136  </td><td>3.086028   </td><td> 1.2297868 </td><td> 0.07036305</td><td> 1.28322348</td><td>-3.007742  </td><td>-2.2083192 </td><td>-1.24707006</td><td> 1.8042356 </td><td>⋯          </td><td>-1.555387  </td><td>-1.8149714 </td><td> 1.536912  </td><td>-0.3837959 </td><td> 1.9271833 </td><td> 0.1006063 </td><td>-1.5056058 </td><td>-2.3487084 </td><td> 2.0438020 </td><td>-0.3700644 </td></tr>\n",
       "\t<tr><th scope=row>X4</th><td>-1.3072558 </td><td>-5.606119  </td><td>2.075183   </td><td>-4.3216323 </td><td>-3.08568535</td><td> 2.69829835</td><td>-2.178754  </td><td>-0.2198663 </td><td>-1.23226305</td><td> 4.5551511 </td><td>⋯          </td><td>-1.777059  </td><td> 1.7806207 </td><td>-2.069905  </td><td>-5.1585180 </td><td> 5.6113878 </td><td>-0.4403290 </td><td>-5.8948786 </td><td>-0.4807302 </td><td> 2.0302958 </td><td> 0.6448589 </td></tr>\n",
       "\t<tr><th scope=row>X5</th><td>-4.8125905 </td><td>-1.792568  </td><td>4.704017   </td><td>-3.2308474 </td><td>-1.14910135</td><td>-1.99202998</td><td> 1.058606  </td><td> 5.3436443 </td><td>-0.61799469</td><td> 1.7265238 </td><td>⋯          </td><td>-4.422610  </td><td> 5.2876729 </td><td>-4.197060  </td><td>-1.6631459 </td><td>-0.4267052 </td><td>-0.4881859 </td><td>-1.4083578 </td><td>-1.7170670 </td><td>-0.2274963 </td><td>-2.3139012 </td></tr>\n",
       "</tbody>\n",
       "</table>\n"
      ],
      "text/latex": [
       "\\begin{tabular}{r|lllllllllllllllllllllllllllllllllllllllllllllllllllllllllllllllllllllllllllllllllllllllllllllllllllllllllllllllllllllllllllllllllllllllllllllllllllllllllllllllllllllllllllllllllllllllllllllllllllllllllllllllllllllllllllllllllllllllllllllllllllllllllllllllllllllllllllllllllllllllllllllllllllllllllllllllllllllllllllllllllllllllllllllllllllllllllllllllllllllllllllllllllllllllllllllllllllllllllllllllllllllllllllllllllllllllllllllllllllllllllllllllllllllllllllllllllllllllllllllllllllllllllllllllllllllllllllllllllllllllllllllllllllllllllllllllllllllllllllllllllllllllllllllllllllllllllllllllllllllllllllllllllllllllllllllllllllllllllllllllllllllllllllllllllllllllllllllllllllllllllllllllllllllllllllllllllllllllllllllllllllllllllllllllllllllllllllllllllllllllllllllllllllllllllllllllllllllllllllllllllllllllllllllllllllllllllllllllllllllllllllllllllllllllllllllllllllllllllllllllllllllllllllllllllllllllllllllllllllllllllllllllllllllllllllllllllllllllllllllllllllllllllllllllllllllllllllllllllllllllllllllllllllllllllllllllllllllllllllllllllllllllllllllllllllllllllllllllllllllllllllllllllllllllllllllllllllllllllllllllllllllllllllllllllllllllllllllllllllllllllllllllllllllllllllllllllllllllllllllllllllllllllllllllllllllllllllllllllllllllllllllllllllllllllllllllllllllllllllllllllllllllllllllllllllllllllllllllllllllllllllllllllllllllllllllllllllllllllllllllllllllllllllllllllllllllllllllllllllllllllllllllllllllllllllllllllllllllllllllllllllllllllllllllllllllllllllllllllllllllllllllllllllllllllllllllllllllllllllllllllllllllllllllllllllllllllllllllllllllllllllllllllllllllllllllllllllllllllllllllllllllllllllllllllllllllllllllllllllllllllllllllllllllllllllllllllllllllllllllllllllllllllllllllllllllllllllllllllllllllllllllllllllllllllllllllllllllllllllllllllllllllllllllllllllllllllllllllllllllllllllllllllllllllllllllllllllllllllllllllllllllllllllllllllllllllllllllllllllllllllllllllllllllllllllllllllllllllllllllllllllllllllllllllllllllllllllllllllllllllllllllllllllllllllllllllllllllllllllllllllllllllllllllllllllllllllllllllllllllllllllllllllllllllllllllllllllllllllllllllllllllllllllllllllllllllllllllllllllllllllllllllllllllllllllllllllllllllllllllllllllllllllllllllllllllllllllllllllllllllllllllllllllllllllllllllllllllllllllllllllllllllllllllllllllllllllllllllllllllllllllllllllllllllllllllllllllllllllllllllllllllllllllllllllllllllllllllllllllllllllllllllllllllllllllllllllllllllllllllllllllllllllllllllllllllllllllllllllllllllllllllllllllllllllllllllllllllllllllllllllllllllllllllllllllllllllllllllllllllllllllllllllllllllllllllllllllllllllllllllllllllllllllllllllllllllllllllllllllllllllllllllllllllllllllllllllllllllllllllllllllllllllllllllllllllllllllllllllllllllllllllllllllllllllllllllllllllllllllllllllllllllllllllllllllllllllllllllllllllllllllllllllllllllllllllllllllllllllllllllllllllllllllllllllllllllllllllllllllllllllllllllllllllllllllllllllllllllllllllllllllllllllllllllllllllllllllllllllllllllllllllllllllllllllllllllllllllllllllllllllllllllllllllllllllllllllllllllllllllll}\n",
       "  & g1 & g2 & g3 & g4 & g5 & g6 & g7 & g8 & g9 & g10 & ⋯ & g2990 & g2991 & g2992 & g2993 & g2994 & g2995 & g2996 & g2997 & g2998 & g2999\\\\\n",
       "\\hline\n",
       "\tX0 & -1.5629509  & -6.328167   & 4.918395    & -3.8785188  &  1.52304584 &  0.01924819 & -1.554705   &  1.3218619  & -3.23178450 & -0.1270229  & ⋯           & -2.515240   & -0.2014522  & -3.344730   &  2.1418193  &  2.7575105  & -0.9670143  & -0.8508906  & -2.4654806  &  1.7118655  &  0.9440689 \\\\\n",
       "\tX1 &  1.6246402  & -5.862356   & 2.383362    & -6.3337186  & -6.14505201 & -3.68435918 & -5.884112   & -2.0738483  & -0.06172857 & -0.9868279  & ⋯           & -2.132301   &  4.4913966  &  4.985421   & -7.4642359  &  5.9411323  &  2.8449759  & -2.6383309  &  3.8280864  & -1.7499010  & -3.7506476 \\\\\n",
       "\tX2 &  0.6446129  &  1.862584   & 2.751587    &  0.4487882  &  1.30019296 & -0.27388784 &  5.913832   &  5.9427777  & -1.41858882 & -4.0539614  & ⋯           & -3.099782   &  2.4109552  & -4.182873   &  7.4215098  &  0.8381763  & -6.2138083  & -0.6451277  & -4.0013592  &  1.1368586  &  2.0895018 \\\\\n",
       "\tX3 &  0.8140002  &  3.753136   & 3.086028    &  1.2297868  &  0.07036305 &  1.28322348 & -3.007742   & -2.2083192  & -1.24707006 &  1.8042356  & ⋯           & -1.555387   & -1.8149714  &  1.536912   & -0.3837959  &  1.9271833  &  0.1006063  & -1.5056058  & -2.3487084  &  2.0438020  & -0.3700644 \\\\\n",
       "\tX4 & -1.3072558  & -5.606119   & 2.075183    & -4.3216323  & -3.08568535 &  2.69829835 & -2.178754   & -0.2198663  & -1.23226305 &  4.5551511  & ⋯           & -1.777059   &  1.7806207  & -2.069905   & -5.1585180  &  5.6113878  & -0.4403290  & -5.8948786  & -0.4807302  &  2.0302958  &  0.6448589 \\\\\n",
       "\tX5 & -4.8125905  & -1.792568   & 4.704017    & -3.2308474  & -1.14910135 & -1.99202998 &  1.058606   &  5.3436443  & -0.61799469 &  1.7265238  & ⋯           & -4.422610   &  5.2876729  & -4.197060   & -1.6631459  & -0.4267052  & -0.4881859  & -1.4083578  & -1.7170670  & -0.2274963  & -2.3139012 \\\\\n",
       "\\end{tabular}\n"
      ],
      "text/markdown": [
       "\n",
       "| <!--/--> | g1 | g2 | g3 | g4 | g5 | g6 | g7 | g8 | g9 | g10 | ⋯ | g2990 | g2991 | g2992 | g2993 | g2994 | g2995 | g2996 | g2997 | g2998 | g2999 | \n",
       "|---|---|---|---|---|---|\n",
       "| X0 | -1.5629509  | -6.328167   | 4.918395    | -3.8785188  |  1.52304584 |  0.01924819 | -1.554705   |  1.3218619  | -3.23178450 | -0.1270229  | ⋯           | -2.515240   | -0.2014522  | -3.344730   |  2.1418193  |  2.7575105  | -0.9670143  | -0.8508906  | -2.4654806  |  1.7118655  |  0.9440689  | \n",
       "| X1 |  1.6246402  | -5.862356   | 2.383362    | -6.3337186  | -6.14505201 | -3.68435918 | -5.884112   | -2.0738483  | -0.06172857 | -0.9868279  | ⋯           | -2.132301   |  4.4913966  |  4.985421   | -7.4642359  |  5.9411323  |  2.8449759  | -2.6383309  |  3.8280864  | -1.7499010  | -3.7506476  | \n",
       "| X2 |  0.6446129  |  1.862584   | 2.751587    |  0.4487882  |  1.30019296 | -0.27388784 |  5.913832   |  5.9427777  | -1.41858882 | -4.0539614  | ⋯           | -3.099782   |  2.4109552  | -4.182873   |  7.4215098  |  0.8381763  | -6.2138083  | -0.6451277  | -4.0013592  |  1.1368586  |  2.0895018  | \n",
       "| X3 |  0.8140002  |  3.753136   | 3.086028    |  1.2297868  |  0.07036305 |  1.28322348 | -3.007742   | -2.2083192  | -1.24707006 |  1.8042356  | ⋯           | -1.555387   | -1.8149714  |  1.536912   | -0.3837959  |  1.9271833  |  0.1006063  | -1.5056058  | -2.3487084  |  2.0438020  | -0.3700644  | \n",
       "| X4 | -1.3072558  | -5.606119   | 2.075183    | -4.3216323  | -3.08568535 |  2.69829835 | -2.178754   | -0.2198663  | -1.23226305 |  4.5551511  | ⋯           | -1.777059   |  1.7806207  | -2.069905   | -5.1585180  |  5.6113878  | -0.4403290  | -5.8948786  | -0.4807302  |  2.0302958  |  0.6448589  | \n",
       "| X5 | -4.8125905  | -1.792568   | 4.704017    | -3.2308474  | -1.14910135 | -1.99202998 |  1.058606   |  5.3436443  | -0.61799469 |  1.7265238  | ⋯           | -4.422610   |  5.2876729  | -4.197060   | -1.6631459  | -0.4267052  | -0.4881859  | -1.4083578  | -1.7170670  | -0.2274963  | -2.3139012  | \n",
       "\n",
       "\n"
      ],
      "text/plain": [
       "   g1         g2        g3       g4         g5          g6          g7       \n",
       "X0 -1.5629509 -6.328167 4.918395 -3.8785188  1.52304584  0.01924819 -1.554705\n",
       "X1  1.6246402 -5.862356 2.383362 -6.3337186 -6.14505201 -3.68435918 -5.884112\n",
       "X2  0.6446129  1.862584 2.751587  0.4487882  1.30019296 -0.27388784  5.913832\n",
       "X3  0.8140002  3.753136 3.086028  1.2297868  0.07036305  1.28322348 -3.007742\n",
       "X4 -1.3072558 -5.606119 2.075183 -4.3216323 -3.08568535  2.69829835 -2.178754\n",
       "X5 -4.8125905 -1.792568 4.704017 -3.2308474 -1.14910135 -1.99202998  1.058606\n",
       "   g8         g9          g10        ⋯ g2990     g2991      g2992    \n",
       "X0  1.3218619 -3.23178450 -0.1270229 ⋯ -2.515240 -0.2014522 -3.344730\n",
       "X1 -2.0738483 -0.06172857 -0.9868279 ⋯ -2.132301  4.4913966  4.985421\n",
       "X2  5.9427777 -1.41858882 -4.0539614 ⋯ -3.099782  2.4109552 -4.182873\n",
       "X3 -2.2083192 -1.24707006  1.8042356 ⋯ -1.555387 -1.8149714  1.536912\n",
       "X4 -0.2198663 -1.23226305  4.5551511 ⋯ -1.777059  1.7806207 -2.069905\n",
       "X5  5.3436443 -0.61799469  1.7265238 ⋯ -4.422610  5.2876729 -4.197060\n",
       "   g2993      g2994      g2995      g2996      g2997      g2998      g2999     \n",
       "X0  2.1418193  2.7575105 -0.9670143 -0.8508906 -2.4654806  1.7118655  0.9440689\n",
       "X1 -7.4642359  5.9411323  2.8449759 -2.6383309  3.8280864 -1.7499010 -3.7506476\n",
       "X2  7.4215098  0.8381763 -6.2138083 -0.6451277 -4.0013592  1.1368586  2.0895018\n",
       "X3 -0.3837959  1.9271833  0.1006063 -1.5056058 -2.3487084  2.0438020 -0.3700644\n",
       "X4 -5.1585180  5.6113878 -0.4403290 -5.8948786 -0.4807302  2.0302958  0.6448589\n",
       "X5 -1.6631459 -0.4267052 -0.4881859 -1.4083578 -1.7170670 -0.2274963 -2.3139012"
      ]
     },
     "metadata": {},
     "output_type": "display_data"
    }
   ],
   "source": [
    "head(x)"
   ]
  },
  {
   "cell_type": "code",
   "execution_count": 8,
   "metadata": {},
   "outputs": [
    {
     "data": {
      "text/html": [
       "<ol class=list-inline>\n",
       "\t<li>500</li>\n",
       "\t<li>2999</li>\n",
       "</ol>\n"
      ],
      "text/latex": [
       "\\begin{enumerate*}\n",
       "\\item 500\n",
       "\\item 2999\n",
       "\\end{enumerate*}\n"
      ],
      "text/markdown": [
       "1. 500\n",
       "2. 2999\n",
       "\n",
       "\n"
      ],
      "text/plain": [
       "[1]  500 2999"
      ]
     },
     "metadata": {},
     "output_type": "display_data"
    }
   ],
   "source": [
    "dim(x)"
   ]
  },
  {
   "cell_type": "code",
   "execution_count": 9,
   "metadata": {},
   "outputs": [],
   "source": [
    "filtered_group_index <- group_index[group_index != -1]\n",
    "filtered_x <- x[, which(group_index != -1)]"
   ]
  },
  {
   "cell_type": "code",
   "execution_count": 10,
   "metadata": {},
   "outputs": [],
   "source": [
    "alphalist <- seq(0,1,by=0.1)\n",
    "elasticnet <- lapply(alphalist, function(a){\n",
    "  cv.glmnet(x, y, alpha=a)\n",
    "})"
   ]
  },
  {
   "cell_type": "code",
   "execution_count": 11,
   "metadata": {},
   "outputs": [],
   "source": [
    "elasticnet_df <- data.frame('lambda.min' = as.numeric(unlist(lapply(elasticnet, function(o) {o$lambda.min}))), \n",
    "                            'cvm' = as.numeric(unlist(lapply(elasticnet, function(o) {\n",
    "                                o$cvm[o$lambda == o$lambda.min]}))),\n",
    "                            'cvsd' = as.numeric(unlist(lapply(elasticnet, function(o) {\n",
    "                                o$cvsd[o$lambda == o$lambda.min]}))),\n",
    "                            'alpha' = alphalist)"
   ]
  },
  {
   "cell_type": "code",
   "execution_count": 12,
   "metadata": {},
   "outputs": [
    {
     "data": {
      "text/html": [
       "<table>\n",
       "<thead><tr><th scope=col>lambda.min</th><th scope=col>cvm</th><th scope=col>cvsd</th><th scope=col>alpha</th></tr></thead>\n",
       "<tbody>\n",
       "\t<tr><td>20.31837193 </td><td>0.048071524 </td><td>0.0045027062</td><td>0.0         </td></tr>\n",
       "\t<tr><td> 0.20318372 </td><td>0.008189144 </td><td>0.0007313730</td><td>0.1         </td></tr>\n",
       "\t<tr><td> 0.10642923 </td><td>0.007889695 </td><td>0.0006461963</td><td>0.2         </td></tr>\n",
       "\t<tr><td> 0.07787063 </td><td>0.008382736 </td><td>0.0005890886</td><td>0.3         </td></tr>\n",
       "\t<tr><td> 0.05840298 </td><td>0.007919453 </td><td>0.0007721389</td><td>0.4         </td></tr>\n",
       "\t<tr><td> 0.04894710 </td><td>0.008414761 </td><td>0.0008276503</td><td>0.5         </td></tr>\n",
       "\t<tr><td> 0.04078925 </td><td>0.008151472 </td><td>0.0006750171</td><td>0.6         </td></tr>\n",
       "\t<tr><td> 0.03496222 </td><td>0.008056961 </td><td>0.0003954348</td><td>0.7         </td></tr>\n",
       "\t<tr><td> 0.03204860 </td><td>0.008196661 </td><td>0.0008415115</td><td>0.8         </td></tr>\n",
       "\t<tr><td> 0.02848764 </td><td>0.008121007 </td><td>0.0005202871</td><td>0.9         </td></tr>\n",
       "\t<tr><td> 0.02563888 </td><td>0.008050906 </td><td>0.0004101203</td><td>1.0         </td></tr>\n",
       "</tbody>\n",
       "</table>\n"
      ],
      "text/latex": [
       "\\begin{tabular}{r|llll}\n",
       " lambda.min & cvm & cvsd & alpha\\\\\n",
       "\\hline\n",
       "\t 20.31837193  & 0.048071524  & 0.0045027062 & 0.0         \\\\\n",
       "\t  0.20318372  & 0.008189144  & 0.0007313730 & 0.1         \\\\\n",
       "\t  0.10642923  & 0.007889695  & 0.0006461963 & 0.2         \\\\\n",
       "\t  0.07787063  & 0.008382736  & 0.0005890886 & 0.3         \\\\\n",
       "\t  0.05840298  & 0.007919453  & 0.0007721389 & 0.4         \\\\\n",
       "\t  0.04894710  & 0.008414761  & 0.0008276503 & 0.5         \\\\\n",
       "\t  0.04078925  & 0.008151472  & 0.0006750171 & 0.6         \\\\\n",
       "\t  0.03496222  & 0.008056961  & 0.0003954348 & 0.7         \\\\\n",
       "\t  0.03204860  & 0.008196661  & 0.0008415115 & 0.8         \\\\\n",
       "\t  0.02848764  & 0.008121007  & 0.0005202871 & 0.9         \\\\\n",
       "\t  0.02563888  & 0.008050906  & 0.0004101203 & 1.0         \\\\\n",
       "\\end{tabular}\n"
      ],
      "text/markdown": [
       "\n",
       "lambda.min | cvm | cvsd | alpha | \n",
       "|---|---|---|---|---|---|---|---|---|---|---|\n",
       "| 20.31837193  | 0.048071524  | 0.0045027062 | 0.0          | \n",
       "|  0.20318372  | 0.008189144  | 0.0007313730 | 0.1          | \n",
       "|  0.10642923  | 0.007889695  | 0.0006461963 | 0.2          | \n",
       "|  0.07787063  | 0.008382736  | 0.0005890886 | 0.3          | \n",
       "|  0.05840298  | 0.007919453  | 0.0007721389 | 0.4          | \n",
       "|  0.04894710  | 0.008414761  | 0.0008276503 | 0.5          | \n",
       "|  0.04078925  | 0.008151472  | 0.0006750171 | 0.6          | \n",
       "|  0.03496222  | 0.008056961  | 0.0003954348 | 0.7          | \n",
       "|  0.03204860  | 0.008196661  | 0.0008415115 | 0.8          | \n",
       "|  0.02848764  | 0.008121007  | 0.0005202871 | 0.9          | \n",
       "|  0.02563888  | 0.008050906  | 0.0004101203 | 1.0          | \n",
       "\n",
       "\n"
      ],
      "text/plain": [
       "   lambda.min  cvm         cvsd         alpha\n",
       "1  20.31837193 0.048071524 0.0045027062 0.0  \n",
       "2   0.20318372 0.008189144 0.0007313730 0.1  \n",
       "3   0.10642923 0.007889695 0.0006461963 0.2  \n",
       "4   0.07787063 0.008382736 0.0005890886 0.3  \n",
       "5   0.05840298 0.007919453 0.0007721389 0.4  \n",
       "6   0.04894710 0.008414761 0.0008276503 0.5  \n",
       "7   0.04078925 0.008151472 0.0006750171 0.6  \n",
       "8   0.03496222 0.008056961 0.0003954348 0.7  \n",
       "9   0.03204860 0.008196661 0.0008415115 0.8  \n",
       "10  0.02848764 0.008121007 0.0005202871 0.9  \n",
       "11  0.02563888 0.008050906 0.0004101203 1.0  "
      ]
     },
     "metadata": {},
     "output_type": "display_data"
    }
   ],
   "source": [
    "elasticnet_df"
   ]
  },
  {
   "cell_type": "code",
   "execution_count": 13,
   "metadata": {},
   "outputs": [
    {
     "data": {
      "text/html": [
       "'double'"
      ],
      "text/latex": [
       "'double'"
      ],
      "text/markdown": [
       "'double'"
      ],
      "text/plain": [
       "[1] \"double\""
      ]
     },
     "metadata": {},
     "output_type": "display_data"
    }
   ],
   "source": [
    "typeof(elasticnet_df$alpha)"
   ]
  },
  {
   "cell_type": "code",
   "execution_count": 14,
   "metadata": {},
   "outputs": [
    {
     "data": {
      "image/png": "[encoded data removed]",
      "text/plain": [
       "Plot with title “Plot of error as a function of alpha, ind”"
      ]
     },
     "metadata": {},
     "output_type": "display_data",
     "source": "R display func"
    }
   ],
   "source": [
    "best_alpha <- elasticnet_df[elasticnet_df$cvm == min(elasticnet_df$cvm),]$alpha\n",
    "best_lambda <- elasticnet_df[elasticnet_df$cvm == min(elasticnet_df$cvm),]$lambda.min\n",
    "plot(elasticnet_df$alpha, elasticnet_df$cvm,\n",
    "     ylim=range(c(elasticnet_df$cvm-elasticnet_df$cvsd, elasticnet_df$cvm+elasticnet_df$cvsd)),\n",
    "     pch=19, xlab=\"Alpha\", ylab=\"Mean squared error\",\n",
    "     main=\"Plot of error as a function of alpha, ind\",\n",
    "     col=ifelse(elasticnet_df$alpha==best_alpha, \"red\", \"black\")\n",
    "    )\n",
    "arrows(elasticnet_df$alpha, elasticnet_df$cvm-elasticnet_df$cvsd, \n",
    "       elasticnet_df$alpha, elasticnet_df$cvm+elasticnet_df$cvsd, \n",
    "       length=0.05, angle=90, code=3,\n",
    "       col=ifelse(elasticnet_df$alpha==best_alpha, \"red\", \"black\"))"
   ]
  },
  {
   "cell_type": "code",
   "execution_count": 15,
   "metadata": {},
   "outputs": [
    {
     "name": "stdout",
     "output_type": "stream",
     "text": [
      "Elastic net: best alpha = 0.200000, best lambda = 0.106429"
     ]
    }
   ],
   "source": [
    "cat(sprintf('Elastic net: best alpha = %f, best lambda = %f', best_alpha, best_lambda))"
   ]
  },
  {
   "cell_type": "code",
   "execution_count": null,
   "metadata": {},
   "outputs": [],
   "source": [
    "alphalist <- seq(0,1,by=0.1)\n",
    "sparse_gl <- lapply(alphalist, function(a){\n",
    "  cvSGL(data=list(x=filtered_x, y=y), index=filtered_group_index, type=\"linear\", alpha=a)\n",
    "})"
   ]
  },
  {
   "cell_type": "code",
   "execution_count": 19,
   "metadata": {},
   "outputs": [
    {
     "ename": "ERROR",
     "evalue": "Error in lapply(sparse_gl, function(o) {: object 'sparse_gl' not found\n",
     "execution_count": 19,
     "output_type": "error",
     "traceback": [
      "Error in lapply(sparse_gl, function(o) {: object 'sparse_gl' not found\nTraceback:\n",
      "1. data.frame(lambda.min = as.numeric(unlist(lapply(sparse_gl, function(o) {\n .     o$lambdas[o$lldiff == min(o$lldiff)]\n . }))), nll = as.numeric(unlist(lapply(sparse_gl, function(o) {\n .     min(o$lldiff)\n . }))), nllsd = as.numeric(unlist(lapply(sparse_gl, function(o) {\n .     o$llSD[o$lldiff == min(o$lldiff)]\n . }))), alpha = seq(0, 1, by = 0.1))",
      "2. unlist(lapply(sparse_gl, function(o) {\n .     o$lambdas[o$lldiff == min(o$lldiff)]\n . }))",
      "3. lapply(sparse_gl, function(o) {\n .     o$lambdas[o$lldiff == min(o$lldiff)]\n . })"
     ]
    }
   ],
   "source": [
    "sparse_gl_df <- data.frame('lambda.min' = as.numeric(unlist(lapply(sparse_gl, function(o) {\n",
    "                            o$lambdas[o$lldiff == min(o$lldiff)]}))), \n",
    "                            'nll' = as.numeric(unlist(lapply(sparse_gl, function(o) {\n",
    "                                min(o$lldiff)}))),\n",
    "                            'nllsd' = as.numeric(unlist(lapply(sparse_gl, function(o) {\n",
    "                                o$llSD[o$lldiff == min(o$lldiff)]}))),\n",
    "                            'alpha' = seq(0,1,by=0.1))\n",
    "sparse_gl_df"
   ]
  },
  {
   "cell_type": "code",
   "execution_count": 20,
   "metadata": {},
   "outputs": [
    {
     "ename": "ERROR",
     "evalue": "Error in eval(expr, envir, enclos): object 'sparse_gl_df' not found\n",
     "execution_count": 20,
     "output_type": "error",
     "traceback": [
      "Error in eval(expr, envir, enclos): object 'sparse_gl_df' not found\nTraceback:\n"
     ]
    }
   ],
   "source": [
    "best_alpha_sgl <- sparse_gl_df[sparse_gl_df$nll == min(sparse_gl_df$nll),]$alpha\n",
    "best_lambda_sgl <- sparse_gl_df[sparse_gl_df$nll == min(sparse_gl_df$nll),]$lambda.min\n",
    "plot(sparse_gl_df$alpha, sparse_gl_df$nll,\n",
    "     ylim=range(c(sparse_gl_df$nll-sparse_gl_df$nllsd, sparse_gl_df$nll+sparse_gl_df$nllsd)),\n",
    "     pch=19, xlab=\"Alpha\", ylab=\"Negative Log Likelihood\",\n",
    "     main=\"Plot of error as a function of alpha, ind\",\n",
    "     col=ifelse(sparse_gl_df$alpha==best_alpha_sgl, \"red\", \"black\")\n",
    "    )\n",
    "arrows(sparse_gl_df$alpha, sparse_gl_df$nll-sparse_gl_df$nllsd,\n",
    "       sparse_gl_df$alpha, sparse_gl_df$nll+sparse_gl_df$nllsd, \n",
    "       length=0.05, angle=90, code=3,\n",
    "       col=ifelse(sparse_gl_df$alpha==best_alpha_sgl, \"red\", \"black\"))"
   ]
  },
  {
   "cell_type": "code",
   "execution_count": 17,
   "metadata": {},
   "outputs": [
    {
     "ename": "ERROR",
     "evalue": "Error in sprintf(\"Sparse Group Lasso: best alpha = %f, best lambda = %f\", : object 'best_alpha_sgl' not found\n",
     "execution_count": 17,
     "output_type": "error",
     "traceback": [
      "Error in sprintf(\"Sparse Group Lasso: best alpha = %f, best lambda = %f\", : object 'best_alpha_sgl' not found\nTraceback:\n",
      "1. cat(sprintf(\"Sparse Group Lasso: best alpha = %f, best lambda = %f\", \n .     best_alpha_sgl, best_lambda_sgl))",
      "2. sprintf(\"Sparse Group Lasso: best alpha = %f, best lambda = %f\", \n .     best_alpha_sgl, best_lambda_sgl)"
     ]
    }
   ],
   "source": [
    "cat(sprintf('Sparse Group Lasso: best alpha = %f, best lambda = %f', best_alpha_sgl, best_lambda_sgl))"
   ]
  }
 ],
 "metadata": {
  "kernelspec": {
   "display_name": "R",
   "language": "R",
   "name": "ir"
  },
  "language_info": {
   "codemirror_mode": "r",
   "file_extension": ".r",
   "mimetype": "text/x-r-source",
   "name": "R",
   "pygments_lexer": "r",
   "version": "3.5.1"
  }
 },
 "nbformat": 4,
 "nbformat_minor": 2
}
