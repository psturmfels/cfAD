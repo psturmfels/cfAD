{
 "cells": [
  {
   "cell_type": "code",
   "execution_count": 1,
   "metadata": {},
   "outputs": [
    {
     "name": "stderr",
     "output_type": "stream",
     "text": [
      "Loading required package: Matrix\n",
      "Loading required package: grpreg\n",
      "\n",
      "Attaching package: ‘MASS’\n",
      "\n",
      "The following object is masked from ‘package:grpregOverlap’:\n",
      "\n",
      "    select\n",
      "\n",
      "The following object is masked from ‘package:grpreg’:\n",
      "\n",
      "    select\n",
      "\n",
      "Loading required package: foreach\n",
      "Loaded glmnet 2.0-16\n",
      "\n"
     ]
    }
   ],
   "source": [
    "library('SGL')\n",
    "library('grpregOverlap')\n",
    "library('MASS')\n",
    "library('glmnet')"
   ]
  },
  {
   "cell_type": "code",
   "execution_count": 2,
   "metadata": {},
   "outputs": [],
   "source": [
    "df <- read.csv('/homes/gws/psturm/simulatedData/regressionData/df0.csv', header=TRUE)\n",
    "df = as.data.frame(df)\n",
    "numPheno <- 100\n",
    "numGenes <- 1000\n",
    "numSamples <- 100"
   ]
  },
  {
   "cell_type": "code",
   "execution_count": 3,
   "metadata": {},
   "outputs": [
    {
     "data": {
      "text/html": [
       "<table>\n",
       "<thead><tr><th scope=col>X0</th><th scope=col>X1</th><th scope=col>X2</th><th scope=col>X3</th><th scope=col>X4</th><th scope=col>X5</th><th scope=col>X6</th><th scope=col>X7</th><th scope=col>X8</th><th scope=col>X9</th><th scope=col>⋯</th><th scope=col>coeff90</th><th scope=col>coeff91</th><th scope=col>coeff92</th><th scope=col>coeff93</th><th scope=col>coeff94</th><th scope=col>coeff95</th><th scope=col>coeff96</th><th scope=col>coeff97</th><th scope=col>coeff98</th><th scope=col>coeff99</th></tr></thead>\n",
       "<tbody>\n",
       "\t<tr><td>-0.89289816</td><td>-0.7838450 </td><td>-44.821172 </td><td> 0.56758256</td><td> 1.2301576 </td><td>-11.49766  </td><td> 1.4829676 </td><td>-0.3546174 </td><td> 0.06139415</td><td> 0.4679509 </td><td>⋯          </td><td>0          </td><td>0          </td><td>0          </td><td>0          </td><td>0          </td><td>0          </td><td>0          </td><td>0          </td><td>0          </td><td>0          </td></tr>\n",
       "\t<tr><td>-0.21115331</td><td> 0.3457023 </td><td>  3.209153 </td><td> 0.01279545</td><td>-1.3035371 </td><td> 27.23761  </td><td>-0.6892684 </td><td> 0.5408580 </td><td>-0.88648320</td><td> 0.5758426 </td><td>⋯          </td><td>0          </td><td>0          </td><td>0          </td><td>0          </td><td>0          </td><td>0          </td><td>0          </td><td>0          </td><td>0          </td><td>0          </td></tr>\n",
       "\t<tr><td> 1.58723300</td><td>-1.2708441 </td><td> 28.677197 </td><td>-0.62189750</td><td> 0.7203938 </td><td> 19.69739  </td><td> 1.2466461 </td><td> 1.1291675 </td><td>-1.01628380</td><td> 2.5097459 </td><td>⋯          </td><td>0          </td><td>0          </td><td>0          </td><td>0          </td><td>0          </td><td>0          </td><td>0          </td><td>0          </td><td>0          </td><td>0          </td></tr>\n",
       "\t<tr><td>-0.13268570</td><td> 0.6958898 </td><td> 26.422647 </td><td> 0.49544448</td><td>-0.3562564 </td><td>-17.63835  </td><td>-1.7797455 </td><td> 0.7861921 </td><td> 0.11880796</td><td>-1.1745348 </td><td>⋯          </td><td>0          </td><td>0          </td><td>0          </td><td>0          </td><td>0          </td><td>0          </td><td>0          </td><td>0          </td><td>0          </td><td>0          </td></tr>\n",
       "\t<tr><td>-0.03722321</td><td> 0.5664295 </td><td>-26.109134 </td><td>-0.66025335</td><td> 0.3149487 </td><td>-21.67632  </td><td> 1.2361558 </td><td> 1.6355056 </td><td>-1.63663864</td><td>-0.7560604 </td><td>⋯          </td><td>0          </td><td>0          </td><td>0          </td><td>0          </td><td>0          </td><td>0          </td><td>0          </td><td>0          </td><td>0          </td><td>0          </td></tr>\n",
       "\t<tr><td>-0.03999930</td><td> 1.5565694 </td><td>-98.613098 </td><td>-1.02054539</td><td>-2.2917692 </td><td> 15.63123  </td><td>-1.0374151 </td><td> 0.1409125 </td><td>-1.28236363</td><td>-1.2262085 </td><td>⋯          </td><td>0          </td><td>0          </td><td>0          </td><td>0          </td><td>0          </td><td>0          </td><td>0          </td><td>0          </td><td>0          </td><td>0          </td></tr>\n",
       "</tbody>\n",
       "</table>\n"
      ],
      "text/latex": [
       "\\begin{tabular}{r|llllllllllllllllllllllllllllllllllllllllllllllllllllllllllllllllllllllllllllllllllllllllllllllllllllllllllllllllllllllllllllllllllllllllllllllllllllllllllllllllllllllllllllllllllllllllllllllllllllllllll}\n",
       " X0 & X1 & X2 & X3 & X4 & X5 & X6 & X7 & X8 & X9 & ⋯ & coeff90 & coeff91 & coeff92 & coeff93 & coeff94 & coeff95 & coeff96 & coeff97 & coeff98 & coeff99\\\\\n",
       "\\hline\n",
       "\t -0.89289816 & -0.7838450  & -44.821172  &  0.56758256 &  1.2301576  & -11.49766   &  1.4829676  & -0.3546174  &  0.06139415 &  0.4679509  & ⋯           & 0           & 0           & 0           & 0           & 0           & 0           & 0           & 0           & 0           & 0          \\\\\n",
       "\t -0.21115331 &  0.3457023  &   3.209153  &  0.01279545 & -1.3035371  &  27.23761   & -0.6892684  &  0.5408580  & -0.88648320 &  0.5758426  & ⋯           & 0           & 0           & 0           & 0           & 0           & 0           & 0           & 0           & 0           & 0          \\\\\n",
       "\t  1.58723300 & -1.2708441  &  28.677197  & -0.62189750 &  0.7203938  &  19.69739   &  1.2466461  &  1.1291675  & -1.01628380 &  2.5097459  & ⋯           & 0           & 0           & 0           & 0           & 0           & 0           & 0           & 0           & 0           & 0          \\\\\n",
       "\t -0.13268570 &  0.6958898  &  26.422647  &  0.49544448 & -0.3562564  & -17.63835   & -1.7797455  &  0.7861921  &  0.11880796 & -1.1745348  & ⋯           & 0           & 0           & 0           & 0           & 0           & 0           & 0           & 0           & 0           & 0          \\\\\n",
       "\t -0.03722321 &  0.5664295  & -26.109134  & -0.66025335 &  0.3149487  & -21.67632   &  1.2361558  &  1.6355056  & -1.63663864 & -0.7560604  & ⋯           & 0           & 0           & 0           & 0           & 0           & 0           & 0           & 0           & 0           & 0          \\\\\n",
       "\t -0.03999930 &  1.5565694  & -98.613098  & -1.02054539 & -2.2917692  &  15.63123   & -1.0374151  &  0.1409125  & -1.28236363 & -1.2262085  & ⋯           & 0           & 0           & 0           & 0           & 0           & 0           & 0           & 0           & 0           & 0          \\\\\n",
       "\\end{tabular}\n"
      ],
      "text/markdown": [
       "\n",
       "X0 | X1 | X2 | X3 | X4 | X5 | X6 | X7 | X8 | X9 | ⋯ | coeff90 | coeff91 | coeff92 | coeff93 | coeff94 | coeff95 | coeff96 | coeff97 | coeff98 | coeff99 | \n",
       "|---|---|---|---|---|---|\n",
       "| -0.89289816 | -0.7838450  | -44.821172  |  0.56758256 |  1.2301576  | -11.49766   |  1.4829676  | -0.3546174  |  0.06139415 |  0.4679509  | ⋯           | 0           | 0           | 0           | 0           | 0           | 0           | 0           | 0           | 0           | 0           | \n",
       "| -0.21115331 |  0.3457023  |   3.209153  |  0.01279545 | -1.3035371  |  27.23761   | -0.6892684  |  0.5408580  | -0.88648320 |  0.5758426  | ⋯           | 0           | 0           | 0           | 0           | 0           | 0           | 0           | 0           | 0           | 0           | \n",
       "|  1.58723300 | -1.2708441  |  28.677197  | -0.62189750 |  0.7203938  |  19.69739   |  1.2466461  |  1.1291675  | -1.01628380 |  2.5097459  | ⋯           | 0           | 0           | 0           | 0           | 0           | 0           | 0           | 0           | 0           | 0           | \n",
       "| -0.13268570 |  0.6958898  |  26.422647  |  0.49544448 | -0.3562564  | -17.63835   | -1.7797455  |  0.7861921  |  0.11880796 | -1.1745348  | ⋯           | 0           | 0           | 0           | 0           | 0           | 0           | 0           | 0           | 0           | 0           | \n",
       "| -0.03722321 |  0.5664295  | -26.109134  | -0.66025335 |  0.3149487  | -21.67632   |  1.2361558  |  1.6355056  | -1.63663864 | -0.7560604  | ⋯           | 0           | 0           | 0           | 0           | 0           | 0           | 0           | 0           | 0           | 0           | \n",
       "| -0.03999930 |  1.5565694  | -98.613098  | -1.02054539 | -2.2917692  |  15.63123   | -1.0374151  |  0.1409125  | -1.28236363 | -1.2262085  | ⋯           | 0           | 0           | 0           | 0           | 0           | 0           | 0           | 0           | 0           | 0           | \n",
       "\n",
       "\n"
      ],
      "text/plain": [
       "  X0          X1         X2         X3          X4         X5        X6        \n",
       "1 -0.89289816 -0.7838450 -44.821172  0.56758256  1.2301576 -11.49766  1.4829676\n",
       "2 -0.21115331  0.3457023   3.209153  0.01279545 -1.3035371  27.23761 -0.6892684\n",
       "3  1.58723300 -1.2708441  28.677197 -0.62189750  0.7203938  19.69739  1.2466461\n",
       "4 -0.13268570  0.6958898  26.422647  0.49544448 -0.3562564 -17.63835 -1.7797455\n",
       "5 -0.03722321  0.5664295 -26.109134 -0.66025335  0.3149487 -21.67632  1.2361558\n",
       "6 -0.03999930  1.5565694 -98.613098 -1.02054539 -2.2917692  15.63123 -1.0374151\n",
       "  X7         X8          X9         ⋯ coeff90 coeff91 coeff92 coeff93 coeff94\n",
       "1 -0.3546174  0.06139415  0.4679509 ⋯ 0       0       0       0       0      \n",
       "2  0.5408580 -0.88648320  0.5758426 ⋯ 0       0       0       0       0      \n",
       "3  1.1291675 -1.01628380  2.5097459 ⋯ 0       0       0       0       0      \n",
       "4  0.7861921  0.11880796 -1.1745348 ⋯ 0       0       0       0       0      \n",
       "5  1.6355056 -1.63663864 -0.7560604 ⋯ 0       0       0       0       0      \n",
       "6  0.1409125 -1.28236363 -1.2262085 ⋯ 0       0       0       0       0      \n",
       "  coeff95 coeff96 coeff97 coeff98 coeff99\n",
       "1 0       0       0       0       0      \n",
       "2 0       0       0       0       0      \n",
       "3 0       0       0       0       0      \n",
       "4 0       0       0       0       0      \n",
       "5 0       0       0       0       0      \n",
       "6 0       0       0       0       0      "
      ]
     },
     "metadata": {},
     "output_type": "display_data"
    }
   ],
   "source": [
    "head(df)"
   ]
  },
  {
   "cell_type": "code",
   "execution_count": 4,
   "metadata": {},
   "outputs": [],
   "source": [
    "df_t = as.data.frame(t(df))\n",
    "colnames(df_t) = c(paste('p', sep='', 1:numPheno), paste('g', sep='', 1:numGenes))\n",
    "data_mat = df_t[1:numSamples, ]"
   ]
  },
  {
   "cell_type": "code",
   "execution_count": 5,
   "metadata": {},
   "outputs": [],
   "source": [
    "group_index <- unlist(df['gene_group'][-(1:numPheno), ])"
   ]
  },
  {
   "cell_type": "code",
   "execution_count": 6,
   "metadata": {},
   "outputs": [],
   "source": [
    "y <- data_mat$p1\n",
    "x <- data.matrix(data_mat[, paste('g', sep='', 1:numGenes)])"
   ]
  },
  {
   "cell_type": "code",
   "execution_count": 7,
   "metadata": {},
   "outputs": [],
   "source": [
    "alphalist <- seq(0,1,by=0.1)\n",
    "elasticnet <- lapply(alphalist, function(a){\n",
    "  cv.glmnet(x, y, alpha=a)\n",
    "})"
   ]
  },
  {
   "cell_type": "code",
   "execution_count": 8,
   "metadata": {},
   "outputs": [],
   "source": [
    "elasticnet_df <- data.frame('lambda.min' = as.numeric(unlist(lapply(elasticnet, function(o) {o$lambda.min}))), \n",
    "                            'cvm' = as.numeric(unlist(lapply(elasticnet, function(o) {\n",
    "                                o$cvm[o$lambda == o$lambda.min]}))),\n",
    "                            'cvsd' = as.numeric(unlist(lapply(elasticnet, function(o) {\n",
    "                                o$cvsd[o$lambda == o$lambda.min]}))),\n",
    "                            'alpha' = alphalist)"
   ]
  },
  {
   "cell_type": "code",
   "execution_count": 9,
   "metadata": {},
   "outputs": [
    {
     "data": {
      "text/html": [
       "<table>\n",
       "<thead><tr><th scope=col>lambda.min</th><th scope=col>cvm</th><th scope=col>cvsd</th><th scope=col>alpha</th></tr></thead>\n",
       "<tbody>\n",
       "\t<tr><td>220.1010882</td><td>21.526094  </td><td>7.8000518  </td><td>0.0        </td></tr>\n",
       "\t<tr><td>  3.3453408</td><td> 1.005868  </td><td>0.2694737  </td><td>0.1        </td></tr>\n",
       "\t<tr><td>  1.7523159</td><td> 1.057591  </td><td>0.3886372  </td><td>0.2        </td></tr>\n",
       "\t<tr><td>  1.1151136</td><td> 1.075737  </td><td>0.3581548  </td><td>0.3        </td></tr>\n",
       "\t<tr><td>  0.8761579</td><td> 1.100116  </td><td>0.2815920  </td><td>0.4        </td></tr>\n",
       "\t<tr><td>  0.6690682</td><td> 1.213191  </td><td>0.3884404  </td><td>0.5        </td></tr>\n",
       "\t<tr><td>  0.5322150</td><td> 1.015446  </td><td>0.1982162  </td><td>0.6        </td></tr>\n",
       "\t<tr><td>  0.4779058</td><td> 1.159644  </td><td>0.3397460  </td><td>0.7        </td></tr>\n",
       "\t<tr><td>  0.3991612</td><td> 1.382720  </td><td>0.4004203  </td><td>0.8        </td></tr>\n",
       "\t<tr><td>  0.3548100</td><td> 1.215339  </td><td>0.2714335  </td><td>0.9        </td></tr>\n",
       "\t<tr><td>  0.3048150</td><td> 1.124027  </td><td>0.2373275  </td><td>1.0        </td></tr>\n",
       "</tbody>\n",
       "</table>\n"
      ],
      "text/latex": [
       "\\begin{tabular}{r|llll}\n",
       " lambda.min & cvm & cvsd & alpha\\\\\n",
       "\\hline\n",
       "\t 220.1010882 & 21.526094   & 7.8000518   & 0.0        \\\\\n",
       "\t   3.3453408 &  1.005868   & 0.2694737   & 0.1        \\\\\n",
       "\t   1.7523159 &  1.057591   & 0.3886372   & 0.2        \\\\\n",
       "\t   1.1151136 &  1.075737   & 0.3581548   & 0.3        \\\\\n",
       "\t   0.8761579 &  1.100116   & 0.2815920   & 0.4        \\\\\n",
       "\t   0.6690682 &  1.213191   & 0.3884404   & 0.5        \\\\\n",
       "\t   0.5322150 &  1.015446   & 0.1982162   & 0.6        \\\\\n",
       "\t   0.4779058 &  1.159644   & 0.3397460   & 0.7        \\\\\n",
       "\t   0.3991612 &  1.382720   & 0.4004203   & 0.8        \\\\\n",
       "\t   0.3548100 &  1.215339   & 0.2714335   & 0.9        \\\\\n",
       "\t   0.3048150 &  1.124027   & 0.2373275   & 1.0        \\\\\n",
       "\\end{tabular}\n"
      ],
      "text/markdown": [
       "\n",
       "lambda.min | cvm | cvsd | alpha | \n",
       "|---|---|---|---|---|---|---|---|---|---|---|\n",
       "| 220.1010882 | 21.526094   | 7.8000518   | 0.0         | \n",
       "|   3.3453408 |  1.005868   | 0.2694737   | 0.1         | \n",
       "|   1.7523159 |  1.057591   | 0.3886372   | 0.2         | \n",
       "|   1.1151136 |  1.075737   | 0.3581548   | 0.3         | \n",
       "|   0.8761579 |  1.100116   | 0.2815920   | 0.4         | \n",
       "|   0.6690682 |  1.213191   | 0.3884404   | 0.5         | \n",
       "|   0.5322150 |  1.015446   | 0.1982162   | 0.6         | \n",
       "|   0.4779058 |  1.159644   | 0.3397460   | 0.7         | \n",
       "|   0.3991612 |  1.382720   | 0.4004203   | 0.8         | \n",
       "|   0.3548100 |  1.215339   | 0.2714335   | 0.9         | \n",
       "|   0.3048150 |  1.124027   | 0.2373275   | 1.0         | \n",
       "\n",
       "\n"
      ],
      "text/plain": [
       "   lambda.min  cvm       cvsd      alpha\n",
       "1  220.1010882 21.526094 7.8000518 0.0  \n",
       "2    3.3453408  1.005868 0.2694737 0.1  \n",
       "3    1.7523159  1.057591 0.3886372 0.2  \n",
       "4    1.1151136  1.075737 0.3581548 0.3  \n",
       "5    0.8761579  1.100116 0.2815920 0.4  \n",
       "6    0.6690682  1.213191 0.3884404 0.5  \n",
       "7    0.5322150  1.015446 0.1982162 0.6  \n",
       "8    0.4779058  1.159644 0.3397460 0.7  \n",
       "9    0.3991612  1.382720 0.4004203 0.8  \n",
       "10   0.3548100  1.215339 0.2714335 0.9  \n",
       "11   0.3048150  1.124027 0.2373275 1.0  "
      ]
     },
     "metadata": {},
     "output_type": "display_data"
    }
   ],
   "source": [
    "elasticnet_df"
   ]
  },
  {
   "cell_type": "code",
   "execution_count": 10,
   "metadata": {},
   "outputs": [
    {
     "data": {
      "text/html": [
       "'double'"
      ],
      "text/latex": [
       "'double'"
      ],
      "text/markdown": [
       "'double'"
      ],
      "text/plain": [
       "[1] \"double\""
      ]
     },
     "metadata": {},
     "output_type": "display_data"
    }
   ],
   "source": [
    "typeof(elasticnet_df$alpha)"
   ]
  },
  {
   "cell_type": "code",
   "execution_count": 11,
   "metadata": {},
   "outputs": [
    {
     "data": {
      "image/png": "[encoded data removed]",
      "text/plain": [
       "Plot with title “Plot of error as a function of alpha”"
      ]
     },
     "metadata": {},
     "output_type": "display_data",
     "source": "R display func"
    }
   ],
   "source": [
    "best_alpha <- elasticnet_df[elasticnet_df$cvm == min(elasticnet_df$cvm),]$alpha\n",
    "best_lambda <- elasticnet_df[elasticnet_df$cvm == min(elasticnet_df$cvm),]$lambda.min\n",
    "plot(elasticnet_df$alpha, elasticnet_df$cvm,\n",
    "     ylim=range(c(elasticnet_df$cvm-elasticnet_df$cvsd, elasticnet_df$cvm+elasticnet_df$cvsd)),\n",
    "     pch=19, xlab=\"Alpha\", ylab=\"Mean squared error\",\n",
    "     main=\"Plot of error as a function of alpha\",\n",
    "     col=ifelse(elasticnet_df$alpha==best_alpha, \"red\", \"black\")\n",
    "    )\n",
    "arrows(elasticnet_df$alpha, elasticnet_df$cvm-elasticnet_df$cvsd, \n",
    "       elasticnet_df$alpha, elasticnet_df$cvm+elasticnet_df$cvsd, \n",
    "       length=0.05, angle=90, code=3,\n",
    "       col=ifelse(elasticnet_df$alpha==best_alpha, \"red\", \"black\"))"
   ]
  },
  {
   "cell_type": "code",
   "execution_count": 12,
   "metadata": {},
   "outputs": [
    {
     "name": "stdout",
     "output_type": "stream",
     "text": [
      "Elastic net: best alpha = 0.100000, best lambda = 3.345341"
     ]
    }
   ],
   "source": [
    "cat(sprintf('Elastic net: best alpha = %f, best lambda = %f', best_alpha, best_lambda))"
   ]
  },
  {
   "cell_type": "code",
   "execution_count": null,
   "metadata": {},
   "outputs": [],
   "source": [
    "alphalist <- seq(0,1,by=0.1)\n",
    "sparse_gl <- lapply(alphalist, function(a){\n",
    "  cvSGL(data=list(x=x, y=y), index=group_index, min.frac=0.01, type=\"linear\", alpha=a)\n",
    "})"
   ]
  },
  {
   "cell_type": "code",
   "execution_count": 23,
   "metadata": {},
   "outputs": [
    {
     "data": {
      "text/html": [
       "<ol class=list-inline>\n",
       "\t<li>'fit'</li>\n",
       "\t<li>'lldiff'</li>\n",
       "\t<li>'lambdas'</li>\n",
       "\t<li>'type'</li>\n",
       "\t<li>'llSD'</li>\n",
       "</ol>\n"
      ],
      "text/latex": [
       "\\begin{enumerate*}\n",
       "\\item 'fit'\n",
       "\\item 'lldiff'\n",
       "\\item 'lambdas'\n",
       "\\item 'type'\n",
       "\\item 'llSD'\n",
       "\\end{enumerate*}\n"
      ],
      "text/markdown": [
       "1. 'fit'\n",
       "2. 'lldiff'\n",
       "3. 'lambdas'\n",
       "4. 'type'\n",
       "5. 'llSD'\n",
       "\n",
       "\n"
      ],
      "text/plain": [
       "[1] \"fit\"     \"lldiff\"  \"lambdas\" \"type\"    \"llSD\"   "
      ]
     },
     "metadata": {},
     "output_type": "display_data"
    }
   ],
   "source": [
    "names(sparse_gl[[6]])"
   ]
  },
  {
   "cell_type": "code",
   "execution_count": null,
   "metadata": {},
   "outputs": [],
   "source": [
    "sparse_gl_df <- data.frame('lambda.min' = as.numeric(unlist(lapply(sparse_gl, function(o) {\n",
    "                            o$lambdas[o$lldiff == min(o$lldiff)]}))), \n",
    "                            'nll' = as.numeric(unlist(lapply(sparse_gl, function(o) {\n",
    "                                min(o$lldiff)}))),\n",
    "                            'nllsd' = as.numeric(unlist(lapply(sparse_gl, function(o) {\n",
    "                                o$llSD[o$lldiff == min(o$lldiff)]}))),\n",
    "                            'alpha' = alphalist)\n",
    "sparse_gl_df"
   ]
  },
  {
   "cell_type": "code",
   "execution_count": 24,
   "metadata": {},
   "outputs": [
    {
     "data": {
      "image/png": "[encoded data removed]",
      "text/plain": [
       "Plot with title “Plot of error as a function of alpha”"
      ]
     },
     "metadata": {},
     "output_type": "display_data",
     "source": "R display func"
    }
   ],
   "source": [
    "best_alpha_sgl <- sparse_gl_df[sparse_gl_df$nll == min(sparse_gl_df$nll),]$alpha\n",
    "best_lambda_sgl <- sparse_gl_df[sparse_gl_df$nll == min(sparse_gl_df$nll),]$lambda.min\n",
    "plot(sparse_gl_df$alpha, sparse_gl_df$nll,\n",
    "     ylim=range(c(sparse_gl_df$nll-sparse_gl_df$nllsd, sparse_gl_df$nll+sparse_gl_df$nllsd)),\n",
    "     pch=19, xlab=\"Alpha\", ylab=\"Mean squared error\",\n",
    "     main=\"Plot of error as a function of alpha\",\n",
    "     col=ifelse(sparse_gl_df$alpha==best_alpha_sgl, \"red\", \"black\")\n",
    "    )\n",
    "arrows(sparse_gl_df$alpha, sparse_gl_df$nll-sparse_gl_df$nllsd,\n",
    "       sparse_gl_df$alpha, sparse_gl_df$nll+sparse_gl_df$nllsd, \n",
    "       length=0.05, angle=90, code=3,\n",
    "       col=ifelse(sparse_gl_df$alpha==best_alpha_sgl, \"red\", \"black\"))"
   ]
  },
  {
   "cell_type": "code",
   "execution_count": 25,
   "metadata": {},
   "outputs": [
    {
     "name": "stdout",
     "output_type": "stream",
     "text": [
      "Sparse Group Lasso: best alpha = 1.000000, best lambda = 1.235071"
     ]
    }
   ],
   "source": [
    "cat(sprintf('Sparse Group Lasso: best alpha = %f, best lambda = %f', best_alpha_sgl, best_lambda_sgl))"
   ]
  },
  {
   "cell_type": "code",
   "execution_count": null,
   "metadata": {},
   "outputs": [],
   "source": [
    "group_df <- lapply(unique(group_index), function(o, gi) { \n",
    "    paste('g', which(gi == 0), sep='')\n",
    "}, \n",
    "group_index)"
   ]
  },
  {
   "cell_type": "code",
   "execution_count": null,
   "metadata": {},
   "outputs": [],
   "source": [
    "alphalist <- seq(0.1,1,by=0.1)\n",
    "overlap_gl <- lapply(alphalist, function(a){\n",
    "  cv.grpregOverlap(x, y, group_df, penalty=\"grLasso\", alpha=a)\n",
    "})"
   ]
  },
  {
   "cell_type": "code",
   "execution_count": 26,
   "metadata": {},
   "outputs": [
    {
     "data": {
      "text/html": [
       "<table>\n",
       "<thead><tr><th scope=col>lambda.min</th><th scope=col>cve</th><th scope=col>cvse</th><th scope=col>alpha</th></tr></thead>\n",
       "<tbody>\n",
       "\t<tr><td>1.4407057</td><td>84.43953 </td><td>22.16676 </td><td>0.1      </td></tr>\n",
       "\t<tr><td>0.8903019</td><td>68.01603 </td><td>15.71039 </td><td>0.2      </td></tr>\n",
       "\t<tr><td>0.5758433</td><td>78.30637 </td><td>14.40924 </td><td>0.3      </td></tr>\n",
       "\t<tr><td>0.3712419</td><td>74.33329 </td><td>12.68770 </td><td>0.4      </td></tr>\n",
       "\t<tr><td>0.3252162</td><td>74.76289 </td><td>13.41651 </td><td>0.5      </td></tr>\n",
       "\t<tr><td>0.3667821</td><td>65.73422 </td><td>13.21956 </td><td>0.6      </td></tr>\n",
       "\t<tr><td>0.2253733</td><td>84.86361 </td><td>17.16352 </td><td>0.7      </td></tr>\n",
       "\t<tr><td>0.1913237</td><td>67.39704 </td><td>12.26679 </td><td>0.8      </td></tr>\n",
       "\t<tr><td>0.2520337</td><td>62.64463 </td><td>11.45363 </td><td>0.9      </td></tr>\n",
       "\t<tr><td>0.2268303</td><td>66.26376 </td><td>11.93144 </td><td>1.0      </td></tr>\n",
       "</tbody>\n",
       "</table>\n"
      ],
      "text/latex": [
       "\\begin{tabular}{r|llll}\n",
       " lambda.min & cve & cvse & alpha\\\\\n",
       "\\hline\n",
       "\t 1.4407057 & 84.43953  & 22.16676  & 0.1      \\\\\n",
       "\t 0.8903019 & 68.01603  & 15.71039  & 0.2      \\\\\n",
       "\t 0.5758433 & 78.30637  & 14.40924  & 0.3      \\\\\n",
       "\t 0.3712419 & 74.33329  & 12.68770  & 0.4      \\\\\n",
       "\t 0.3252162 & 74.76289  & 13.41651  & 0.5      \\\\\n",
       "\t 0.3667821 & 65.73422  & 13.21956  & 0.6      \\\\\n",
       "\t 0.2253733 & 84.86361  & 17.16352  & 0.7      \\\\\n",
       "\t 0.1913237 & 67.39704  & 12.26679  & 0.8      \\\\\n",
       "\t 0.2520337 & 62.64463  & 11.45363  & 0.9      \\\\\n",
       "\t 0.2268303 & 66.26376  & 11.93144  & 1.0      \\\\\n",
       "\\end{tabular}\n"
      ],
      "text/markdown": [
       "\n",
       "lambda.min | cve | cvse | alpha | \n",
       "|---|---|---|---|---|---|---|---|---|---|\n",
       "| 1.4407057 | 84.43953  | 22.16676  | 0.1       | \n",
       "| 0.8903019 | 68.01603  | 15.71039  | 0.2       | \n",
       "| 0.5758433 | 78.30637  | 14.40924  | 0.3       | \n",
       "| 0.3712419 | 74.33329  | 12.68770  | 0.4       | \n",
       "| 0.3252162 | 74.76289  | 13.41651  | 0.5       | \n",
       "| 0.3667821 | 65.73422  | 13.21956  | 0.6       | \n",
       "| 0.2253733 | 84.86361  | 17.16352  | 0.7       | \n",
       "| 0.1913237 | 67.39704  | 12.26679  | 0.8       | \n",
       "| 0.2520337 | 62.64463  | 11.45363  | 0.9       | \n",
       "| 0.2268303 | 66.26376  | 11.93144  | 1.0       | \n",
       "\n",
       "\n"
      ],
      "text/plain": [
       "   lambda.min cve      cvse     alpha\n",
       "1  1.4407057  84.43953 22.16676 0.1  \n",
       "2  0.8903019  68.01603 15.71039 0.2  \n",
       "3  0.5758433  78.30637 14.40924 0.3  \n",
       "4  0.3712419  74.33329 12.68770 0.4  \n",
       "5  0.3252162  74.76289 13.41651 0.5  \n",
       "6  0.3667821  65.73422 13.21956 0.6  \n",
       "7  0.2253733  84.86361 17.16352 0.7  \n",
       "8  0.1913237  67.39704 12.26679 0.8  \n",
       "9  0.2520337  62.64463 11.45363 0.9  \n",
       "10 0.2268303  66.26376 11.93144 1.0  "
      ]
     },
     "metadata": {},
     "output_type": "display_data"
    }
   ],
   "source": [
    "overlap_gl_df <- data.frame('lambda.min' = as.numeric(unlist(lapply(overlap_gl, function(o) {\n",
    "                            o$lambda[o$cve == min(o$cve)]}))), \n",
    "                            'cve' = as.numeric(unlist(lapply(overlap_gl, function(o) {\n",
    "                                min(o$cve)}))),\n",
    "                            'cvse' = as.numeric(unlist(lapply(overlap_gl, function(o) {\n",
    "                                o$cvse[o$cve == min(o$cve)]}))),\n",
    "                            'alpha' = alphalist)\n",
    "overlap_gl_df"
   ]
  },
  {
   "cell_type": "code",
   "execution_count": 27,
   "metadata": {},
   "outputs": [
    {
     "data": {
      "image/png": "[encoded data removed]",
      "text/plain": [
       "Plot with title “Plot of error as a function of alpha”"
      ]
     },
     "metadata": {},
     "output_type": "display_data",
     "source": "R display func"
    }
   ],
   "source": [
    "best_alpha_ovl <- overlap_gl_df[overlap_gl_df$cve == min(overlap_gl_df$cve),]$alpha\n",
    "best_lambda_ovl <- overlap_gl_df[overlap_gl_df$cve == min(overlap_gl_df$cve),]$lambda.min\n",
    "plot(overlap_gl_df$alpha, overlap_gl_df$cve,\n",
    "     ylim=range(c(overlap_gl_df$cve-overlap_gl_df$cvse, overlap_gl_df$cve+overlap_gl_df$cvse)),\n",
    "     pch=19, xlab=\"Alpha\", ylab=\"Mean squared error\",\n",
    "     main=\"Plot of error as a function of alpha\",\n",
    "     col=ifelse(overlap_gl_df$alpha==best_alpha_ovl, \"red\", \"black\")\n",
    "    )\n",
    "arrows(overlap_gl_df$alpha, overlap_gl_df$cve-overlap_gl_df$cvse, \n",
    "       overlap_gl_df$alpha, overlap_gl_df$cve+overlap_gl_df$cvse, \n",
    "       length=0.05, angle=90, code=3,\n",
    "       col=ifelse(overlap_gl_df$alpha==best_alpha_ovl, \"red\", \"black\"))"
   ]
  },
  {
   "cell_type": "code",
   "execution_count": 28,
   "metadata": {},
   "outputs": [
    {
     "name": "stdout",
     "output_type": "stream",
     "text": [
      "Overlapping Group Lasso: best alpha = 0.900000, best lambda = 0.252034"
     ]
    }
   ],
   "source": [
    "cat(sprintf('Overlapping Group Lasso: best alpha = %f, best lambda = %f', best_alpha_ovl, best_lambda_ovl))"
   ]
  }
 ],
 "metadata": {
  "kernelspec": {
   "display_name": "R",
   "language": "R",
   "name": "ir"
  },
  "language_info": {
   "codemirror_mode": "r",
   "file_extension": ".r",
   "mimetype": "text/x-r-source",
   "name": "R",
   "pygments_lexer": "r",
   "version": "3.5.1"
  }
 },
 "nbformat": 4,
 "nbformat_minor": 2
}
