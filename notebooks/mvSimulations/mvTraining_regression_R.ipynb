{
 "cells": [
  {
   "cell_type": "code",
   "execution_count": 22,
   "metadata": {},
   "outputs": [],
   "source": [
    "library('SGL')\n",
    "library('grpregOverlap')\n",
    "library('MASS')\n",
    "library('glmnet')\n",
    "library('parallel')"
   ]
  },
  {
   "cell_type": "code",
   "execution_count": 23,
   "metadata": {},
   "outputs": [],
   "source": [
    "dataFileBase <- '/homes/gws/psturm/simulatedData/regressionData/df%i.csv'"
   ]
  },
  {
   "cell_type": "code",
   "execution_count": 24,
   "metadata": {},
   "outputs": [],
   "source": [
    "dataFile <- sprintf(dataFileBase, 0)"
   ]
  },
  {
   "cell_type": "code",
   "execution_count": 25,
   "metadata": {},
   "outputs": [],
   "source": [
    "numPheno <- 100\n",
    "numGenes <- 1000\n",
    "numSamples <- 100\n",
    "df <- read.csv(dataFile, header=TRUE)\n",
    "df <- as.data.frame(df)\n",
    "df_t <-  as.data.frame(t(df))\n",
    "colnames(df_t) <- c(paste('p', sep='', 1:numPheno), paste('g', sep='', 1:numGenes))\n",
    "data_mat <- df_t[1:numSamples, ]\n",
    "group_index <- unlist(df['gene_group'][-(1:numPheno), ])\n",
    "y <- data_mat$p1\n",
    "x <- data.matrix(data_mat[, paste('g', sep='', 1:numGenes)])"
   ]
  },
  {
   "cell_type": "code",
   "execution_count": 26,
   "metadata": {},
   "outputs": [],
   "source": [
    "true_y_coeff <- df$coeff0[-(1:numPheno)]\n",
    "phenotype_genes <- which(true_y_coeff != 0)"
   ]
  },
  {
   "cell_type": "code",
   "execution_count": 27,
   "metadata": {},
   "outputs": [],
   "source": [
    "getCounts <- function(coeffs, reference_index) {\n",
    "    discovered_genes <- which(coeffs != 0)\n",
    "    discovered_genes <- discovered_genes[order(abs(coeffs[discovered_genes]), decreasing=TRUE)]\n",
    "    num_discovered <- length(discovered_genes)\n",
    "    total_count <- cumsum(discovered_genes %in% reference_index)\n",
    "    return(total_count)\n",
    "}"
   ]
  },
  {
   "cell_type": "code",
   "execution_count": 28,
   "metadata": {},
   "outputs": [],
   "source": [
    "elasticnet <- glmnet(x, y, alpha = 0.500000, lambda = 0.0160776944350486)\n",
    "coef1 <- as.matrix(coef(elasticnet, s=elasticnet$lambda))[-1]\n",
    "total_count <- getCounts(coef1, phenotype_genes)"
   ]
  },
  {
   "cell_type": "code",
   "execution_count": 29,
   "metadata": {},
   "outputs": [],
   "source": [
    "#total_count <- if (length(total_count) < numGenes) c(total_count, integer(numGenes - length(total_count)) + total_count[length(total_count)]) else total_count"
   ]
  },
  {
   "cell_type": "code",
   "execution_count": 30,
   "metadata": {},
   "outputs": [],
   "source": [
    "sparse_gl <- SGL(data=list(x=x, y=y), index=group_index, lambda = 0.01, type=\"linear\", alpha=0.5)\n",
    "coef_sgl  <- sparse_gl$beta"
   ]
  },
  {
   "cell_type": "code",
   "execution_count": 31,
   "metadata": {},
   "outputs": [],
   "source": [
    "group_df <- lapply(unique(group_index), function(o, gi) { \n",
    "    paste('g', which(gi == 0), sep='')\n",
    "}, \n",
    "group_index)\n",
    "overlap_gl <- grpregOverlap(x, y, group_df, penalty=\"grLasso\", alpha=1, lambda=0.1)\n",
    "coef_overlap <- as.matrix(overlap_gl$beta)[-1]"
   ]
  },
  {
   "cell_type": "code",
   "execution_count": null,
   "metadata": {},
   "outputs": [],
   "source": [
    "numReps = 99 #should be 99\n",
    "cumulative_overlap_counts <- lapply(0:numReps, function(i) {\n",
    "    overlap_counts <- list()\n",
    "    \n",
    "    dataFile <- sprintf(dataFileBase, 0)\n",
    "    df <- read.csv(dataFile, header=TRUE)\n",
    "    df <- as.data.frame(df)\n",
    "    df_t <-  as.data.frame(t(df))\n",
    "    colnames(df_t) <- c(paste('p', sep='', 1:numPheno), paste('g', sep='', 1:numGenes))\n",
    "    data_mat <- df_t[1:numSamples, ]\n",
    "    group_index <- unlist(df['gene_group'][-(1:numPheno), ])\n",
    "    group_df <- lapply(unique(group_index), function(o, gi) { \n",
    "                        paste('g', which(gi == 0), sep='')\n",
    "                        }, \n",
    "                group_index)\n",
    "    y <- data_mat$p1\n",
    "    x <- data.matrix(data_mat[, paste('g', sep='', 1:numGenes)])\n",
    "    \n",
    "    true_y_coeff <- df$coeff0[-(1:numPheno)]\n",
    "    phenotype_genes <- which(true_y_coeff != 0)\n",
    "    \n",
    "#   ELASTIC NET\n",
    "    elasticnet <- glmnet(x, y, alpha = 0.500000, lambda = 0.0160776944350486)\n",
    "    coef_enet <- as.matrix(coef(elasticnet, s=elasticnet$lambda))[-1]\n",
    "    count_enet <- getCounts(coef_enet, phenotype_genes)\n",
    "    overlap_counts$elastic_net <- count_enet\n",
    "\n",
    "#   SPARSE GROUP LASSO\n",
    "    sparse_gl <- SGL(data=list(x=x, y=y), index=group_index, lambda = 0.01, type=\"linear\", alpha=0.5)\n",
    "    coef_sgl  <- sparse_gl$beta\n",
    "    count_sgl <- getCounts(coef_sgl, phenotype_genes)\n",
    "    overlap_counts$sparse_gl <- count_sgl\n",
    "    \n",
    "#   OVERLAPPING GROUP LASSO\n",
    "    overlap_gl <- grpregOverlap(x, y, group_df, penalty=\"grLasso\", alpha=1, lambda=0.1)\n",
    "    coef_overlap <- as.matrix(overlap_gl$beta)[-1]\n",
    "    count_overlap <- getCounts(coef_overlap, phenotype_genes)\n",
    "    overlap_counts$overlap_gl <- count_overlap\n",
    "    \n",
    "    overlap_counts\n",
    "})"
   ]
  },
  {
   "cell_type": "code",
   "execution_count": null,
   "metadata": {},
   "outputs": [],
   "source": [
    "df_from_counts <- function(counts, name) {\n",
    "    name_list <- lapply(counts, `[[`, name)\n",
    "    maxlength <- max(lengths(name_list))\n",
    "    name_list <- lapply(name_list, function(o, m) {\n",
    "    o <- if (length(o) < m) c(total_count, integer(m - length(o)) + o[length(o)]) else o\n",
    "}, maxlength)\n",
    "    name_list <- do.call('cbind', name_list)\n",
    "    name_list <- as.data.frame(name_list)\n",
    "    colnames(name_list) <- paste('run', 1:length(name_list), sep='')\n",
    "    name_list\n",
    "}"
   ]
  },
  {
   "cell_type": "code",
   "execution_count": null,
   "metadata": {},
   "outputs": [],
   "source": [
    "elastic_net_df <- df_from_counts(cumulative_overlap_counts, 'elastic_net')\n",
    "sparse_gl_df   <- df_from_counts(cumulative_overlap_counts, 'sparse_gl')\n",
    "overlap_gl_df  <- df_from_counts(cumulative_overlap_counts, 'overlap_gl')"
   ]
  },
  {
   "cell_type": "code",
   "execution_count": null,
   "metadata": {},
   "outputs": [],
   "source": [
    "baseSaveDir <- 'DataFrames/mvRegression/%s'\n",
    "write.csv(elastic_net_df, file=sprintf(baseSaveDir, 'elastic_net.csv'), row.names=FALSE)\n",
    "write.csv(sparse_gl_df, file=sprintf(baseSaveDir, 'sparse_gl.csv'), row.names=FALSE)\n",
    "write.csv(overlap_gl_df, file=sprintf(baseSaveDir, 'overlap_gl.csv'), row.names=FALSE)"
   ]
  }
 ],
 "metadata": {
  "kernelspec": {
   "display_name": "R",
   "language": "R",
   "name": "ir"
  },
  "language_info": {
   "codemirror_mode": "r",
   "file_extension": ".r",
   "mimetype": "text/x-r-source",
   "name": "R",
   "pygments_lexer": "r",
   "version": "3.5.1"
  }
 },
 "nbformat": 4,
 "nbformat_minor": 2
}
