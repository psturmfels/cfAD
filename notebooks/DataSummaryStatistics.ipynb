{
 "cells": [
  {
   "cell_type": "code",
   "execution_count": 1,
   "metadata": {},
   "outputs": [],
   "source": [
    "%matplotlib inline\n",
    "\n",
    "import numpy as np\n",
    "import pandas as pd\n",
    "import matplotlib.pyplot as plt\n",
    "import seaborn as sns\n",
    "sns.set(color_codes=True)"
   ]
  },
  {
   "cell_type": "code",
   "execution_count": 2,
   "metadata": {},
   "outputs": [
    {
     "data": {
      "text/html": [
       "<div>\n",
       "<style scoped>\n",
       "    .dataframe tbody tr th:only-of-type {\n",
       "        vertical-align: middle;\n",
       "    }\n",
       "\n",
       "    .dataframe tbody tr th {\n",
       "        vertical-align: top;\n",
       "    }\n",
       "\n",
       "    .dataframe thead th {\n",
       "        text-align: right;\n",
       "    }\n",
       "</style>\n",
       "<table border=\"1\" class=\"dataframe\">\n",
       "  <thead>\n",
       "    <tr style=\"text-align: right;\">\n",
       "      <th></th>\n",
       "      <th>Genes</th>\n",
       "      <th>REACTOME_GLYCOGEN_BREAKDOWN_GLYCOGENOLYSIS</th>\n",
       "      <th>REACTOME_TRANSLATION</th>\n",
       "      <th>REACTOME_PYRIMIDINE_CATABOLISM</th>\n",
       "      <th>REACTOME_RNA_POL_III_TRANSCRIPTION_INITIATION_FROM_TYPE_2_PROMOTER</th>\n",
       "      <th>REACTOME_INHIBITION_OF_THE_PROTEOLYTIC_ACTIVITY_OF_APC_C_REQUIRED_FOR_THE_ONSET_OF_ANAPHASE_BY_MITOTIC_SPINDLE_CHECKPOINT_COMPONENTS</th>\n",
       "      <th>REACTOME_PYRUVATE_METABOLISM_AND_CITRIC_ACID_TCA_CYCLE</th>\n",
       "      <th>REACTOME_EXTRINSIC_PATHWAY_FOR_APOPTOSIS</th>\n",
       "      <th>REACTOME_PTM_GAMMA_CARBOXYLATION_HYPUSINE_FORMATION_AND_ARYLSULFATASE_ACTIVATION</th>\n",
       "      <th>REACTOME_APOPTOTIC_CLEAVAGE_OF_CELLULAR_PROTEINS</th>\n",
       "      <th>...</th>\n",
       "      <th>REACTOME_DIGESTION_OF_DIETARY_CARBOHYDRATE</th>\n",
       "      <th>REACTOME_FGFR1_LIGAND_BINDING_AND_ACTIVATION</th>\n",
       "      <th>REACTOME_GAP_JUNCTION_ASSEMBLY</th>\n",
       "      <th>REACTOME_SYNTHESIS_OF_GLYCOSYLPHOSPHATIDYLINOSITOL_GPI</th>\n",
       "      <th>REACTOME_RNA_POL_I_TRANSCRIPTION_INITIATION</th>\n",
       "      <th>REACTOME_PYRIMIDINE_METABOLISM</th>\n",
       "      <th>REACTOME_INTRINSIC_PATHWAY_FOR_APOPTOSIS</th>\n",
       "      <th>REACTOME_PI3K_CASCADE</th>\n",
       "      <th>REACTOME_APOPTOTIC_EXECUTION_PHASE</th>\n",
       "      <th>REACTOME_SHC_RELATED_EVENTS</th>\n",
       "    </tr>\n",
       "  </thead>\n",
       "  <tbody>\n",
       "    <tr>\n",
       "      <th>0</th>\n",
       "      <td>A1BG</td>\n",
       "      <td>0</td>\n",
       "      <td>0</td>\n",
       "      <td>0</td>\n",
       "      <td>0</td>\n",
       "      <td>0</td>\n",
       "      <td>0</td>\n",
       "      <td>0</td>\n",
       "      <td>0</td>\n",
       "      <td>0</td>\n",
       "      <td>...</td>\n",
       "      <td>0</td>\n",
       "      <td>0</td>\n",
       "      <td>0</td>\n",
       "      <td>0</td>\n",
       "      <td>0</td>\n",
       "      <td>0</td>\n",
       "      <td>0</td>\n",
       "      <td>0</td>\n",
       "      <td>0</td>\n",
       "      <td>0</td>\n",
       "    </tr>\n",
       "    <tr>\n",
       "      <th>1</th>\n",
       "      <td>A1CF</td>\n",
       "      <td>0</td>\n",
       "      <td>0</td>\n",
       "      <td>0</td>\n",
       "      <td>0</td>\n",
       "      <td>0</td>\n",
       "      <td>0</td>\n",
       "      <td>0</td>\n",
       "      <td>0</td>\n",
       "      <td>0</td>\n",
       "      <td>...</td>\n",
       "      <td>0</td>\n",
       "      <td>0</td>\n",
       "      <td>0</td>\n",
       "      <td>0</td>\n",
       "      <td>0</td>\n",
       "      <td>0</td>\n",
       "      <td>0</td>\n",
       "      <td>0</td>\n",
       "      <td>0</td>\n",
       "      <td>0</td>\n",
       "    </tr>\n",
       "    <tr>\n",
       "      <th>2</th>\n",
       "      <td>A2LD1</td>\n",
       "      <td>0</td>\n",
       "      <td>0</td>\n",
       "      <td>0</td>\n",
       "      <td>0</td>\n",
       "      <td>0</td>\n",
       "      <td>0</td>\n",
       "      <td>0</td>\n",
       "      <td>0</td>\n",
       "      <td>0</td>\n",
       "      <td>...</td>\n",
       "      <td>0</td>\n",
       "      <td>0</td>\n",
       "      <td>0</td>\n",
       "      <td>0</td>\n",
       "      <td>0</td>\n",
       "      <td>0</td>\n",
       "      <td>0</td>\n",
       "      <td>0</td>\n",
       "      <td>0</td>\n",
       "      <td>0</td>\n",
       "    </tr>\n",
       "    <tr>\n",
       "      <th>3</th>\n",
       "      <td>A2M</td>\n",
       "      <td>0</td>\n",
       "      <td>0</td>\n",
       "      <td>0</td>\n",
       "      <td>0</td>\n",
       "      <td>0</td>\n",
       "      <td>0</td>\n",
       "      <td>0</td>\n",
       "      <td>0</td>\n",
       "      <td>0</td>\n",
       "      <td>...</td>\n",
       "      <td>0</td>\n",
       "      <td>0</td>\n",
       "      <td>0</td>\n",
       "      <td>0</td>\n",
       "      <td>0</td>\n",
       "      <td>0</td>\n",
       "      <td>0</td>\n",
       "      <td>0</td>\n",
       "      <td>0</td>\n",
       "      <td>0</td>\n",
       "    </tr>\n",
       "    <tr>\n",
       "      <th>4</th>\n",
       "      <td>A2ML1</td>\n",
       "      <td>0</td>\n",
       "      <td>0</td>\n",
       "      <td>0</td>\n",
       "      <td>0</td>\n",
       "      <td>0</td>\n",
       "      <td>0</td>\n",
       "      <td>0</td>\n",
       "      <td>0</td>\n",
       "      <td>0</td>\n",
       "      <td>...</td>\n",
       "      <td>0</td>\n",
       "      <td>0</td>\n",
       "      <td>0</td>\n",
       "      <td>0</td>\n",
       "      <td>0</td>\n",
       "      <td>0</td>\n",
       "      <td>0</td>\n",
       "      <td>0</td>\n",
       "      <td>0</td>\n",
       "      <td>0</td>\n",
       "    </tr>\n",
       "  </tbody>\n",
       "</table>\n",
       "<p>5 rows × 675 columns</p>\n",
       "</div>"
      ],
      "text/plain": [
       "   Genes  REACTOME_GLYCOGEN_BREAKDOWN_GLYCOGENOLYSIS  REACTOME_TRANSLATION  \\\n",
       "0   A1BG                                           0                     0   \n",
       "1   A1CF                                           0                     0   \n",
       "2  A2LD1                                           0                     0   \n",
       "3    A2M                                           0                     0   \n",
       "4  A2ML1                                           0                     0   \n",
       "\n",
       "   REACTOME_PYRIMIDINE_CATABOLISM  \\\n",
       "0                               0   \n",
       "1                               0   \n",
       "2                               0   \n",
       "3                               0   \n",
       "4                               0   \n",
       "\n",
       "   REACTOME_RNA_POL_III_TRANSCRIPTION_INITIATION_FROM_TYPE_2_PROMOTER  \\\n",
       "0                                                  0                    \n",
       "1                                                  0                    \n",
       "2                                                  0                    \n",
       "3                                                  0                    \n",
       "4                                                  0                    \n",
       "\n",
       "   REACTOME_INHIBITION_OF_THE_PROTEOLYTIC_ACTIVITY_OF_APC_C_REQUIRED_FOR_THE_ONSET_OF_ANAPHASE_BY_MITOTIC_SPINDLE_CHECKPOINT_COMPONENTS  \\\n",
       "0                                                  0                                                                                      \n",
       "1                                                  0                                                                                      \n",
       "2                                                  0                                                                                      \n",
       "3                                                  0                                                                                      \n",
       "4                                                  0                                                                                      \n",
       "\n",
       "   REACTOME_PYRUVATE_METABOLISM_AND_CITRIC_ACID_TCA_CYCLE  \\\n",
       "0                                                  0        \n",
       "1                                                  0        \n",
       "2                                                  0        \n",
       "3                                                  0        \n",
       "4                                                  0        \n",
       "\n",
       "   REACTOME_EXTRINSIC_PATHWAY_FOR_APOPTOSIS  \\\n",
       "0                                         0   \n",
       "1                                         0   \n",
       "2                                         0   \n",
       "3                                         0   \n",
       "4                                         0   \n",
       "\n",
       "   REACTOME_PTM_GAMMA_CARBOXYLATION_HYPUSINE_FORMATION_AND_ARYLSULFATASE_ACTIVATION  \\\n",
       "0                                                  0                                  \n",
       "1                                                  0                                  \n",
       "2                                                  0                                  \n",
       "3                                                  0                                  \n",
       "4                                                  0                                  \n",
       "\n",
       "   REACTOME_APOPTOTIC_CLEAVAGE_OF_CELLULAR_PROTEINS  \\\n",
       "0                                                 0   \n",
       "1                                                 0   \n",
       "2                                                 0   \n",
       "3                                                 0   \n",
       "4                                                 0   \n",
       "\n",
       "              ...               REACTOME_DIGESTION_OF_DIETARY_CARBOHYDRATE  \\\n",
       "0             ...                                                        0   \n",
       "1             ...                                                        0   \n",
       "2             ...                                                        0   \n",
       "3             ...                                                        0   \n",
       "4             ...                                                        0   \n",
       "\n",
       "   REACTOME_FGFR1_LIGAND_BINDING_AND_ACTIVATION  \\\n",
       "0                                             0   \n",
       "1                                             0   \n",
       "2                                             0   \n",
       "3                                             0   \n",
       "4                                             0   \n",
       "\n",
       "   REACTOME_GAP_JUNCTION_ASSEMBLY  \\\n",
       "0                               0   \n",
       "1                               0   \n",
       "2                               0   \n",
       "3                               0   \n",
       "4                               0   \n",
       "\n",
       "   REACTOME_SYNTHESIS_OF_GLYCOSYLPHOSPHATIDYLINOSITOL_GPI  \\\n",
       "0                                                  0        \n",
       "1                                                  0        \n",
       "2                                                  0        \n",
       "3                                                  0        \n",
       "4                                                  0        \n",
       "\n",
       "   REACTOME_RNA_POL_I_TRANSCRIPTION_INITIATION  \\\n",
       "0                                            0   \n",
       "1                                            0   \n",
       "2                                            0   \n",
       "3                                            0   \n",
       "4                                            0   \n",
       "\n",
       "   REACTOME_PYRIMIDINE_METABOLISM  REACTOME_INTRINSIC_PATHWAY_FOR_APOPTOSIS  \\\n",
       "0                               0                                         0   \n",
       "1                               0                                         0   \n",
       "2                               0                                         0   \n",
       "3                               0                                         0   \n",
       "4                               0                                         0   \n",
       "\n",
       "   REACTOME_PI3K_CASCADE  REACTOME_APOPTOTIC_EXECUTION_PHASE  \\\n",
       "0                      0                                   0   \n",
       "1                      0                                   0   \n",
       "2                      0                                   0   \n",
       "3                      0                                   0   \n",
       "4                      0                                   0   \n",
       "\n",
       "   REACTOME_SHC_RELATED_EVENTS  \n",
       "0                            0  \n",
       "1                            0  \n",
       "2                            0  \n",
       "3                            0  \n",
       "4                            0  \n",
       "\n",
       "[5 rows x 675 columns]"
      ]
     },
     "execution_count": 2,
     "metadata": {},
     "output_type": "execute_result"
    }
   ],
   "source": [
    "pathway_df = pd.read_csv('/homes/gws/psturm/pathways.tsv', sep='\\t')\n",
    "pathway_df.head()"
   ]
  },
  {
   "cell_type": "code",
   "execution_count": 3,
   "metadata": {},
   "outputs": [
    {
     "data": {
      "text/plain": [
       "(16864, 675)"
      ]
     },
     "execution_count": 3,
     "metadata": {},
     "output_type": "execute_result"
    }
   ],
   "source": [
    "pathway_df.shape"
   ]
  },
  {
   "cell_type": "code",
   "execution_count": 4,
   "metadata": {},
   "outputs": [],
   "source": [
    "pathwayMat = pathway_df.drop('Genes', axis=1).values"
   ]
  },
  {
   "cell_type": "code",
   "execution_count": 9,
   "metadata": {},
   "outputs": [
    {
     "name": "stdout",
     "output_type": "stream",
     "text": [
      "Number of genes in each pathway:\n",
      "Average:\t47.61275964391692\n",
      "Deviation:\t72.10316473901405\n",
      "[min, 25%, med, 75%, max] = [  4.    14.    24.5   50.75 819.  ]\n"
     ]
    },
    {
     "data": {
      "text/plain": [
       "<matplotlib.axes._subplots.AxesSubplot at 0x7f38613a8c88>"
      ]
     },
     "execution_count": 9,
     "metadata": {},
     "output_type": "execute_result"
    },
    {
     "data": {
      "image/png": "[encoded data removed]",
      "text/plain": [
       "<Figure size 432x288 with 1 Axes>"
      ]
     },
     "metadata": {
      "needs_background": "light"
     },
     "output_type": "display_data"
    }
   ],
   "source": [
    "numGenesInEachPathway = np.sum(pathwayMat, axis=0)\n",
    "numPathwaysEachGene   = np.sum(pathwayMat, axis=1)\n",
    "\n",
    "print(\"Number of genes in each pathway:\")\n",
    "print(\"Average:\\t{}\".format(np.mean(numGenesInEachPathway)))\n",
    "print(\"Deviation:\\t{}\".format(np.std(numGenesInEachPathway)))\n",
    "print(\"[min, 25%, med, 75%, max] = {}\".format(np.percentile(numGenesInEachPathway, [0, 25, 50, 75, 100])))\n",
    "sns.distplot(numGenesInEachPathway, kde=False, rug=True)"
   ]
  },
  {
   "cell_type": "code",
   "execution_count": 10,
   "metadata": {},
   "outputs": [
    {
     "name": "stdout",
     "output_type": "stream",
     "text": [
      "Number of pathways each gene belongs to:\n",
      "Average:\t1.9029293168880455\n",
      "Deviation:\t4.975402585499316\n",
      "[min, 25%, med, 75%, max] = [  0.   0.   0.   2. 111.]\n"
     ]
    },
    {
     "data": {
      "text/plain": [
       "<matplotlib.axes._subplots.AxesSubplot at 0x7f386124bd30>"
      ]
     },
     "execution_count": 10,
     "metadata": {},
     "output_type": "execute_result"
    },
    {
     "data": {
      "image/png": "[encoded data removed]",
      "text/plain": [
       "<Figure size 432x288 with 1 Axes>"
      ]
     },
     "metadata": {
      "needs_background": "light"
     },
     "output_type": "display_data"
    }
   ],
   "source": [
    "print(\"Number of pathways each gene belongs to:\")\n",
    "print(\"Average:\\t{}\".format(np.mean(numPathwaysEachGene)))\n",
    "print(\"Deviation:\\t{}\".format(np.std(numPathwaysEachGene)))\n",
    "print(\"[min, 25%, med, 75%, max] = {}\".format(np.percentile(numPathwaysEachGene, [0, 25, 50, 75, 100])))\n",
    "sns.distplot(numPathwaysEachGene, kde=False, rug=True)"
   ]
  },
  {
   "cell_type": "code",
   "execution_count": 39,
   "metadata": {},
   "outputs": [
    {
     "name": "stdout",
     "output_type": "stream",
     "text": [
      "Number of pathways each gene belongs to after removing zeros:\n",
      "Average:\t6.288653733098178\n",
      "Deviation:\t7.363890867126464\n",
      "[min, 25%, med, 75%, max] = [  1.   3.   4.   7. 111.]\n"
     ]
    },
    {
     "data": {
      "text/plain": [
       "<matplotlib.axes._subplots.AxesSubplot at 0x7f37f8a09128>"
      ]
     },
     "execution_count": 39,
     "metadata": {},
     "output_type": "execute_result"
    },
    {
     "data": {
      "image/png": "[encoded data removed]",
      "text/plain": [
       "<Figure size 432x288 with 1 Axes>"
      ]
     },
     "metadata": {
      "needs_background": "light"
     },
     "output_type": "display_data"
    }
   ],
   "source": [
    "np.sum(numPathwaysEachGene == 0)\n",
    "nonZeroNumPathwaysEachGene = numPathwaysEachGene[numPathwaysEachGene > 0]\n",
    "print(\"Number of pathways each gene belongs to after removing zeros:\")\n",
    "print(\"Average:\\t{}\".format(np.mean(nonZeroNumPathwaysEachGene)))\n",
    "print(\"Deviation:\\t{}\".format(np.std(nonZeroNumPathwaysEachGene)))\n",
    "print(\"[min, 25%, med, 75%, max] = {}\".format(np.percentile(nonZeroNumPathwaysEachGene, [0, 25, 50, 75, 100])))\n",
    "sns.distplot(nonZeroNumPathwaysEachGene, kde=False, rug=True)"
   ]
  },
  {
   "cell_type": "code",
   "execution_count": 15,
   "metadata": {},
   "outputs": [
    {
     "data": {
      "text/plain": [
       "(5103, 675)"
      ]
     },
     "execution_count": 15,
     "metadata": {},
     "output_type": "execute_result"
    }
   ],
   "source": [
    "nonzero_df = pathway_df[pathway_df.drop('Genes', axis=1).sum(axis=1) > 0]\n",
    "nonzero_df.shape"
   ]
  },
  {
   "cell_type": "code",
   "execution_count": 17,
   "metadata": {},
   "outputs": [
    {
     "data": {
      "text/plain": [
       "(5103, 5103)"
      ]
     },
     "execution_count": 17,
     "metadata": {},
     "output_type": "execute_result"
    }
   ],
   "source": [
    "nonzeroMat  = nonzero_df.drop('Genes', axis=1).values.astype(np.float32)\n",
    "geneGeneMat = np.dot(nonzeroMat, nonzeroMat.T)\n",
    "geneGeneMat.shape"
   ]
  },
  {
   "cell_type": "code",
   "execution_count": 30,
   "metadata": {},
   "outputs": [
    {
     "name": "stdout",
     "output_type": "stream",
     "text": [
      "Number of neighbors for each gene\n",
      "Average:\t479.49481201171875\n",
      "Deviation:\t371.3160095214844\n",
      "[min, 25%, med, 75%, max] = [   7.  207.  395.  614. 2902.]\n"
     ]
    },
    {
     "data": {
      "text/plain": [
       "<matplotlib.axes._subplots.AxesSubplot at 0x7f37f9073dd8>"
      ]
     },
     "execution_count": 30,
     "metadata": {},
     "output_type": "execute_result"
    },
    {
     "data": {
      "image/png": "[encoded data removed]",
      "text/plain": [
       "<Figure size 432x288 with 1 Axes>"
      ]
     },
     "metadata": {
      "needs_background": "light"
     },
     "output_type": "display_data"
    }
   ],
   "source": [
    "np.fill_diagonal(geneGeneMat, 0.0) #To only count gene-gene interactions between two different genes\n",
    "binaryMat = (geneGeneMat > 0.0).astype(np.float32)\n",
    "\n",
    "numNeighborsEachGene = np.sum(binaryMat, axis=0)\n",
    "print(\"Number of neighbors for each gene\")\n",
    "print(\"Average:\\t{}\".format(np.mean(numNeighborsEachGene)))\n",
    "print(\"Deviation:\\t{}\".format(np.std(numNeighborsEachGene)))\n",
    "print(\"[min, 25%, med, 75%, max] = {}\".format(np.percentile(numNeighborsEachGene, [0, 25, 50, 75, 100])))\n",
    "sns.distplot(numNeighborsEachGene, kde=False)"
   ]
  },
  {
   "cell_type": "code",
   "execution_count": 37,
   "metadata": {},
   "outputs": [
    {
     "name": "stdout",
     "output_type": "stream",
     "text": [
      "Number of neighbors for each gene\n",
      "Average:\t979.79345703125\n",
      "Deviation:\t1007.5249633789062\n",
      "[min, 25%, med, 75%, max] = [7.000e+00 3.110e+02 6.900e+02 1.306e+03 9.714e+03]\n"
     ]
    },
    {
     "data": {
      "text/plain": [
       "<matplotlib.axes._subplots.AxesSubplot at 0x7f37f8df0160>"
      ]
     },
     "execution_count": 37,
     "metadata": {},
     "output_type": "execute_result"
    },
    {
     "data": {
      "image/png": "[encoded data removed]",
      "text/plain": [
       "<Figure size 432x288 with 1 Axes>"
      ]
     },
     "metadata": {
      "needs_background": "light"
     },
     "output_type": "display_data"
    }
   ],
   "source": [
    "averageGeneConnectivity = np.sum(geneGeneMat, axis=0)\n",
    "print(\"Number of neighbors for each gene\")\n",
    "print(\"Average:\\t{}\".format(np.mean(averageGeneConnectivity)))\n",
    "print(\"Deviation:\\t{}\".format(np.std(averageGeneConnectivity)))\n",
    "print(\"[min, 25%, med, 75%, max] = {}\".format(np.percentile(averageGeneConnectivity, [0, 25, 50, 75, 100])))\n",
    "sns.distplot(averageGeneConnectivity, kde=False)"
   ]
  }
 ],
 "metadata": {
  "kernelspec": {
   "display_name": "Python 3",
   "language": "python",
   "name": "python3"
  },
  "language_info": {
   "codemirror_mode": {
    "name": "ipython",
    "version": 3
   },
   "file_extension": ".py",
   "mimetype": "text/x-python",
   "name": "python",
   "nbconvert_exporter": "python",
   "pygments_lexer": "ipython3",
   "version": "3.6.6"
  }
 },
 "nbformat": 4,
 "nbformat_minor": 2
}
