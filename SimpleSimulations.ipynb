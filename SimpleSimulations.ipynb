{
 "cells": [
  {
   "cell_type": "code",
   "execution_count": 1,
   "metadata": {},
   "outputs": [],
   "source": [
    "%matplotlib inline\n",
    "\n",
    "import numpy as np\n",
    "import pandas as pd\n",
    "import seaborn as sns\n",
    "import matplotlib.pyplot as plt\n",
    "from scipy.stats import pearsonr\n",
    "\n",
    "from CrossValidation import CrossValidation\n",
    "from FeatureSimilarity import GetTopGenes\n",
    "from MatrixFactorization import CreateLatentVariables, FactorizeMatrix, GetRepresentationError"
   ]
  },
  {
   "cell_type": "code",
   "execution_count": 5,
   "metadata": {},
   "outputs": [],
   "source": [
    "n = 100\n",
    "g = 2000\n",
    "k = 20\n",
    "U = np.random.randn(n, k).astype(np.float32)\n",
    "V = np.random.randn(g, k).astype(np.float32)\n",
    "X = np.dot(np.random.randn(n, k).astype(np.float32), np.random.randn(g, k).astype(np.float32).T)\n",
    "neighbors = {}\n",
    "U, V, trainError, testError = FactorizeMatrix(X, U, V, neighbors, eta=0.005, lamb1=0.02, lamb2=0.01,\n",
    "                                              num_epochs=200, returnErrorVectors=True)\n"
   ]
  },
  {
   "cell_type": "code",
   "execution_count": 6,
   "metadata": {},
   "outputs": [
    {
     "name": "stdout",
     "output_type": "stream",
     "text": [
      "[7.93523271e-20]\n",
      "[1.87796545e-25]\n"
     ]
    }
   ],
   "source": [
    "print(trainError)\n",
    "print(testError)"
   ]
  },
  {
   "cell_type": "code",
   "execution_count": 76,
   "metadata": {},
   "outputs": [],
   "source": [
    "def GenerateSimulatedData(n = 10, g = 200, p=1):\n",
    "   \n",
    "    X = np.zeros((n, g + p))\n",
    "    X[:, g] = np.random.uniform(low=-1.0, high=1.0, size=(n,))\n",
    "    \n",
    "    correlations = np.clip(np.random.randn(g,) * 0.2, -1.0, 1.0)\n",
    "    correlations = correlations[np.argsort(np.abs(correlations))[::-1]]\n",
    "    \n",
    "    for i in range(g):\n",
    "        X[:, i] = correlations[i] * X[:, g] + np.sqrt(1 - np.square(correlations[i])) * np.random.randn(n)\n",
    "    return X, correlations"
   ]
  },
  {
   "cell_type": "code",
   "execution_count": 135,
   "metadata": {},
   "outputs": [
    {
     "name": "stdout",
     "output_type": "stream",
     "text": [
      "[ 0.77989509 -0.55753279  0.4982213  -0.1139337   0.09699672]\n",
      "[0.444513060236283, -0.9294842605970921, 0.8766938641400671, 0.4486256619212523, 0.729865485269056]\n",
      "[2 4 3 0 1]\n",
      "[4 2 0 3 1]\n",
      "[[-0.09920789 -1.1424741  -0.21645089 -1.07858318  1.36316786  0.35465344]\n",
      " [ 0.6349201  -1.94421532  0.9496811   0.48925612 -0.15183872  0.57827756]\n",
      " [ 0.08939093 -0.44747934 -0.85995723 -0.68254382 -1.46078017 -0.55725275]]\n",
      "[[ 0.11636603 -0.89923966  0.50632757 -0.05089974  1.0410738   0.5201735 ]\n",
      " [ 0.4839842  -1.9713945   0.51888716 -0.07769933  0.03157991  0.46413946]\n",
      " [ 0.20542794 -0.2302824  -0.32394084  0.01296905 -1.4605157  -0.38569823]]\n"
     ]
    }
   ],
   "source": [
    "n = 3\n",
    "g = 5\n",
    "p = 1 #number of phenotypes\n",
    "k = 2\n",
    "    \n",
    "numReps = 1\n",
    "\n",
    "intersectionGap = 10\n",
    "numPlotPoints = int(g / intersectionGap)\n",
    "intersectionMatrix = np.zeros((numReps, numPlotPoints))\n",
    "\n",
    "#for rep in range(numReps):\n",
    "    \n",
    "#Generate data here\n",
    "neighbors = {}\n",
    "X, correlations = GenerateSimulatedData(n, g, p)\n",
    "\n",
    "#Find optimal eta, lamb1, lamb2\n",
    "eta = 0.005\n",
    "lamb1 = 0.02\n",
    "lamb2 = 0.001\n",
    "\n",
    "#Train on all of the data\n",
    "U_pred, V_pred = CreateLatentVariables(n, g+p, k)\n",
    "U_pred, V_pred = FactorizeMatrix(X, U_pred, V_pred, neighbors, eta=eta, lamb1=lamb1, lamb2=lamb2, num_epochs=600)\n",
    "\n",
    "topRankedGenes = GetTopGenes(V_pred, g, np.arange(0, g))\n",
    "\n",
    "obs_corr = [pearsonr(X[:, i].T, X[:, g])[0] for i in range(g)]\n",
    "obs_corr_order = np.argsort(obs_corr)[::-1]\n",
    "\n",
    "print(correlations)\n",
    "print(obs_corr)\n",
    "print(obs_corr_order)\n",
    "print(topRankedGenes)\n",
    "print(X)\n",
    "print(np.dot(U_pred, V_pred.T))"
   ]
  },
  {
   "cell_type": "code",
   "execution_count": null,
   "metadata": {},
   "outputs": [],
   "source": [
    "currentNumIntersected = 0\n",
    "\n",
    "for i in range(0, g, intersectionGap):\n",
    "    currentGeneSlice = topRankedGenes[i:i+intersectionGap]\n",
    "    additiveIntersection = np.sum(np.in1d(currentGeneSlice, genesDrivingPhenotype))\n",
    "\n",
    "    currentNumIntersected += additiveIntersection\n",
    "\n",
    "    intersectionMatrix[rep, i] = currentNumIntersected\n",
    "        "
   ]
  },
  {
   "cell_type": "code",
   "execution_count": null,
   "metadata": {},
   "outputs": [],
   "source": [
    "intersectionIndices = np.arange(0, g, intersectionGap) #(numPlotPoints,)\n",
    "df = pd.DataFrame(intersectionMatrix.T)\n",
    "df['x'] = intersectionIndices\n",
    "df = pd.melt(df, id_vars=['x'])\n",
    "sns.lineplot(x='x', y='value', data=df, ci='sd')"
   ]
  }
 ],
 "metadata": {
  "kernelspec": {
   "display_name": "Python 3",
   "language": "python",
   "name": "python3"
  },
  "language_info": {
   "codemirror_mode": {
    "name": "ipython",
    "version": 3
   },
   "file_extension": ".py",
   "mimetype": "text/x-python",
   "name": "python",
   "nbconvert_exporter": "python",
   "pygments_lexer": "ipython3",
   "version": "3.6.6"
  }
 },
 "nbformat": 4,
 "nbformat_minor": 2
}
